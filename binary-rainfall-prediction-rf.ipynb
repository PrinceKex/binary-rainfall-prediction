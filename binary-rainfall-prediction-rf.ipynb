{
 "cells": [
  {
   "cell_type": "markdown",
   "metadata": {},
   "source": [
    "BINARY PREDICTION WITH A RAINFALL DATASET\n"
   ]
  },
  {
   "cell_type": "code",
   "execution_count": 3,
   "metadata": {},
   "outputs": [],
   "source": [
    "import pandas as pd\n",
    "\n",
    "test_url = 'https://raw.githubusercontent.com/PrinceKex/binary-rainfall-prediction/refs/heads/main/binary_test.csv'\n",
    "\n",
    "train_url = 'https://raw.githubusercontent.com/PrinceKex/binary-rainfall-prediction/refs/heads/main/binary_train.csv'\n",
    "\n",
    "train_df = pd.read_csv(train_url)\n",
    "test_df = pd.read_csv(test_url)"
   ]
  },
  {
   "cell_type": "code",
   "execution_count": 2,
   "metadata": {},
   "outputs": [
    {
     "name": "stdout",
     "output_type": "stream",
     "text": [
      "<class 'pandas.core.frame.DataFrame'>\n",
      "RangeIndex: 2190 entries, 0 to 2189\n",
      "Data columns (total 13 columns):\n",
      " #   Column         Non-Null Count  Dtype  \n",
      "---  ------         --------------  -----  \n",
      " 0   id             2190 non-null   int64  \n",
      " 1   day            2190 non-null   int64  \n",
      " 2   pressure       2190 non-null   float64\n",
      " 3   maxtemp        2190 non-null   float64\n",
      " 4   temparature    2190 non-null   float64\n",
      " 5   mintemp        2190 non-null   float64\n",
      " 6   dewpoint       2190 non-null   float64\n",
      " 7   humidity       2190 non-null   float64\n",
      " 8   cloud          2190 non-null   float64\n",
      " 9   sunshine       2190 non-null   float64\n",
      " 10  winddirection  2190 non-null   float64\n",
      " 11  windspeed      2190 non-null   float64\n",
      " 12  rainfall       2190 non-null   int64  \n",
      "dtypes: float64(10), int64(3)\n",
      "memory usage: 222.6 KB\n"
     ]
    }
   ],
   "source": [
    "train_df.info()"
   ]
  },
  {
   "cell_type": "code",
   "execution_count": 3,
   "metadata": {},
   "outputs": [
    {
     "data": {
      "text/html": [
       "<div>\n",
       "<style scoped>\n",
       "    .dataframe tbody tr th:only-of-type {\n",
       "        vertical-align: middle;\n",
       "    }\n",
       "\n",
       "    .dataframe tbody tr th {\n",
       "        vertical-align: top;\n",
       "    }\n",
       "\n",
       "    .dataframe thead th {\n",
       "        text-align: right;\n",
       "    }\n",
       "</style>\n",
       "<table border=\"1\" class=\"dataframe\">\n",
       "  <thead>\n",
       "    <tr style=\"text-align: right;\">\n",
       "      <th></th>\n",
       "      <th>id</th>\n",
       "      <th>day</th>\n",
       "      <th>pressure</th>\n",
       "      <th>maxtemp</th>\n",
       "      <th>temparature</th>\n",
       "      <th>mintemp</th>\n",
       "      <th>dewpoint</th>\n",
       "      <th>humidity</th>\n",
       "      <th>cloud</th>\n",
       "      <th>sunshine</th>\n",
       "      <th>winddirection</th>\n",
       "      <th>windspeed</th>\n",
       "      <th>rainfall</th>\n",
       "    </tr>\n",
       "  </thead>\n",
       "  <tbody>\n",
       "    <tr>\n",
       "      <th>count</th>\n",
       "      <td>2190.000000</td>\n",
       "      <td>2190.000000</td>\n",
       "      <td>2190.000000</td>\n",
       "      <td>2190.000000</td>\n",
       "      <td>2190.000000</td>\n",
       "      <td>2190.000000</td>\n",
       "      <td>2190.000000</td>\n",
       "      <td>2190.000000</td>\n",
       "      <td>2190.000000</td>\n",
       "      <td>2190.000000</td>\n",
       "      <td>2190.000000</td>\n",
       "      <td>2190.000000</td>\n",
       "      <td>2190.000000</td>\n",
       "    </tr>\n",
       "    <tr>\n",
       "      <th>mean</th>\n",
       "      <td>1094.500000</td>\n",
       "      <td>179.948402</td>\n",
       "      <td>1013.602146</td>\n",
       "      <td>26.365799</td>\n",
       "      <td>23.953059</td>\n",
       "      <td>22.170091</td>\n",
       "      <td>20.454566</td>\n",
       "      <td>82.036530</td>\n",
       "      <td>75.721918</td>\n",
       "      <td>3.744429</td>\n",
       "      <td>104.863151</td>\n",
       "      <td>21.804703</td>\n",
       "      <td>0.753425</td>\n",
       "    </tr>\n",
       "    <tr>\n",
       "      <th>std</th>\n",
       "      <td>632.342866</td>\n",
       "      <td>105.203592</td>\n",
       "      <td>5.655366</td>\n",
       "      <td>5.654330</td>\n",
       "      <td>5.222410</td>\n",
       "      <td>5.059120</td>\n",
       "      <td>5.288406</td>\n",
       "      <td>7.800654</td>\n",
       "      <td>18.026498</td>\n",
       "      <td>3.626327</td>\n",
       "      <td>80.002416</td>\n",
       "      <td>9.898659</td>\n",
       "      <td>0.431116</td>\n",
       "    </tr>\n",
       "    <tr>\n",
       "      <th>min</th>\n",
       "      <td>0.000000</td>\n",
       "      <td>1.000000</td>\n",
       "      <td>999.000000</td>\n",
       "      <td>10.400000</td>\n",
       "      <td>7.400000</td>\n",
       "      <td>4.000000</td>\n",
       "      <td>-0.300000</td>\n",
       "      <td>39.000000</td>\n",
       "      <td>2.000000</td>\n",
       "      <td>0.000000</td>\n",
       "      <td>10.000000</td>\n",
       "      <td>4.400000</td>\n",
       "      <td>0.000000</td>\n",
       "    </tr>\n",
       "    <tr>\n",
       "      <th>25%</th>\n",
       "      <td>547.250000</td>\n",
       "      <td>89.000000</td>\n",
       "      <td>1008.600000</td>\n",
       "      <td>21.300000</td>\n",
       "      <td>19.300000</td>\n",
       "      <td>17.700000</td>\n",
       "      <td>16.800000</td>\n",
       "      <td>77.000000</td>\n",
       "      <td>69.000000</td>\n",
       "      <td>0.400000</td>\n",
       "      <td>40.000000</td>\n",
       "      <td>14.125000</td>\n",
       "      <td>1.000000</td>\n",
       "    </tr>\n",
       "    <tr>\n",
       "      <th>50%</th>\n",
       "      <td>1094.500000</td>\n",
       "      <td>178.500000</td>\n",
       "      <td>1013.000000</td>\n",
       "      <td>27.800000</td>\n",
       "      <td>25.500000</td>\n",
       "      <td>23.850000</td>\n",
       "      <td>22.150000</td>\n",
       "      <td>82.000000</td>\n",
       "      <td>83.000000</td>\n",
       "      <td>2.400000</td>\n",
       "      <td>70.000000</td>\n",
       "      <td>20.500000</td>\n",
       "      <td>1.000000</td>\n",
       "    </tr>\n",
       "    <tr>\n",
       "      <th>75%</th>\n",
       "      <td>1641.750000</td>\n",
       "      <td>270.000000</td>\n",
       "      <td>1017.775000</td>\n",
       "      <td>31.200000</td>\n",
       "      <td>28.400000</td>\n",
       "      <td>26.400000</td>\n",
       "      <td>25.000000</td>\n",
       "      <td>88.000000</td>\n",
       "      <td>88.000000</td>\n",
       "      <td>6.800000</td>\n",
       "      <td>200.000000</td>\n",
       "      <td>27.900000</td>\n",
       "      <td>1.000000</td>\n",
       "    </tr>\n",
       "    <tr>\n",
       "      <th>max</th>\n",
       "      <td>2189.000000</td>\n",
       "      <td>365.000000</td>\n",
       "      <td>1034.600000</td>\n",
       "      <td>36.000000</td>\n",
       "      <td>31.500000</td>\n",
       "      <td>29.800000</td>\n",
       "      <td>26.700000</td>\n",
       "      <td>98.000000</td>\n",
       "      <td>100.000000</td>\n",
       "      <td>12.100000</td>\n",
       "      <td>300.000000</td>\n",
       "      <td>59.500000</td>\n",
       "      <td>1.000000</td>\n",
       "    </tr>\n",
       "  </tbody>\n",
       "</table>\n",
       "</div>"
      ],
      "text/plain": [
       "                id          day     pressure      maxtemp  temparature  \\\n",
       "count  2190.000000  2190.000000  2190.000000  2190.000000  2190.000000   \n",
       "mean   1094.500000   179.948402  1013.602146    26.365799    23.953059   \n",
       "std     632.342866   105.203592     5.655366     5.654330     5.222410   \n",
       "min       0.000000     1.000000   999.000000    10.400000     7.400000   \n",
       "25%     547.250000    89.000000  1008.600000    21.300000    19.300000   \n",
       "50%    1094.500000   178.500000  1013.000000    27.800000    25.500000   \n",
       "75%    1641.750000   270.000000  1017.775000    31.200000    28.400000   \n",
       "max    2189.000000   365.000000  1034.600000    36.000000    31.500000   \n",
       "\n",
       "           mintemp     dewpoint     humidity        cloud     sunshine  \\\n",
       "count  2190.000000  2190.000000  2190.000000  2190.000000  2190.000000   \n",
       "mean     22.170091    20.454566    82.036530    75.721918     3.744429   \n",
       "std       5.059120     5.288406     7.800654    18.026498     3.626327   \n",
       "min       4.000000    -0.300000    39.000000     2.000000     0.000000   \n",
       "25%      17.700000    16.800000    77.000000    69.000000     0.400000   \n",
       "50%      23.850000    22.150000    82.000000    83.000000     2.400000   \n",
       "75%      26.400000    25.000000    88.000000    88.000000     6.800000   \n",
       "max      29.800000    26.700000    98.000000   100.000000    12.100000   \n",
       "\n",
       "       winddirection    windspeed     rainfall  \n",
       "count    2190.000000  2190.000000  2190.000000  \n",
       "mean      104.863151    21.804703     0.753425  \n",
       "std        80.002416     9.898659     0.431116  \n",
       "min        10.000000     4.400000     0.000000  \n",
       "25%        40.000000    14.125000     1.000000  \n",
       "50%        70.000000    20.500000     1.000000  \n",
       "75%       200.000000    27.900000     1.000000  \n",
       "max       300.000000    59.500000     1.000000  "
      ]
     },
     "execution_count": 3,
     "metadata": {},
     "output_type": "execute_result"
    }
   ],
   "source": [
    "train_df.describe()"
   ]
  },
  {
   "cell_type": "code",
   "execution_count": 4,
   "metadata": {},
   "outputs": [
    {
     "name": "stdout",
     "output_type": "stream",
     "text": [
      "<class 'pandas.core.frame.DataFrame'>\n",
      "RangeIndex: 730 entries, 0 to 729\n",
      "Data columns (total 12 columns):\n",
      " #   Column         Non-Null Count  Dtype  \n",
      "---  ------         --------------  -----  \n",
      " 0   id             730 non-null    int64  \n",
      " 1   day            730 non-null    int64  \n",
      " 2   pressure       730 non-null    float64\n",
      " 3   maxtemp        730 non-null    float64\n",
      " 4   temparature    730 non-null    float64\n",
      " 5   mintemp        730 non-null    float64\n",
      " 6   dewpoint       730 non-null    float64\n",
      " 7   humidity       730 non-null    float64\n",
      " 8   cloud          730 non-null    float64\n",
      " 9   sunshine       730 non-null    float64\n",
      " 10  winddirection  729 non-null    float64\n",
      " 11  windspeed      730 non-null    float64\n",
      "dtypes: float64(10), int64(2)\n",
      "memory usage: 68.6 KB\n"
     ]
    }
   ],
   "source": [
    "test_df.info()"
   ]
  },
  {
   "cell_type": "code",
   "execution_count": 5,
   "metadata": {},
   "outputs": [
    {
     "data": {
      "text/html": [
       "<div>\n",
       "<style scoped>\n",
       "    .dataframe tbody tr th:only-of-type {\n",
       "        vertical-align: middle;\n",
       "    }\n",
       "\n",
       "    .dataframe tbody tr th {\n",
       "        vertical-align: top;\n",
       "    }\n",
       "\n",
       "    .dataframe thead th {\n",
       "        text-align: right;\n",
       "    }\n",
       "</style>\n",
       "<table border=\"1\" class=\"dataframe\">\n",
       "  <thead>\n",
       "    <tr style=\"text-align: right;\">\n",
       "      <th></th>\n",
       "      <th>id</th>\n",
       "      <th>day</th>\n",
       "      <th>pressure</th>\n",
       "      <th>maxtemp</th>\n",
       "      <th>temparature</th>\n",
       "      <th>mintemp</th>\n",
       "      <th>dewpoint</th>\n",
       "      <th>humidity</th>\n",
       "      <th>cloud</th>\n",
       "      <th>sunshine</th>\n",
       "      <th>winddirection</th>\n",
       "      <th>windspeed</th>\n",
       "    </tr>\n",
       "  </thead>\n",
       "  <tbody>\n",
       "    <tr>\n",
       "      <th>count</th>\n",
       "      <td>730.000000</td>\n",
       "      <td>730.000000</td>\n",
       "      <td>730.000000</td>\n",
       "      <td>730.000000</td>\n",
       "      <td>730.000000</td>\n",
       "      <td>730.000000</td>\n",
       "      <td>730.000000</td>\n",
       "      <td>730.000000</td>\n",
       "      <td>730.000000</td>\n",
       "      <td>730.000000</td>\n",
       "      <td>729.000000</td>\n",
       "      <td>730.000000</td>\n",
       "    </tr>\n",
       "    <tr>\n",
       "      <th>mean</th>\n",
       "      <td>2554.500000</td>\n",
       "      <td>183.000000</td>\n",
       "      <td>1013.503014</td>\n",
       "      <td>26.372466</td>\n",
       "      <td>23.963288</td>\n",
       "      <td>22.110274</td>\n",
       "      <td>20.460137</td>\n",
       "      <td>82.669863</td>\n",
       "      <td>76.360274</td>\n",
       "      <td>3.664384</td>\n",
       "      <td>103.923182</td>\n",
       "      <td>22.484247</td>\n",
       "    </tr>\n",
       "    <tr>\n",
       "      <th>std</th>\n",
       "      <td>210.877136</td>\n",
       "      <td>105.438271</td>\n",
       "      <td>5.505871</td>\n",
       "      <td>5.672521</td>\n",
       "      <td>5.278098</td>\n",
       "      <td>5.170744</td>\n",
       "      <td>5.391169</td>\n",
       "      <td>7.818714</td>\n",
       "      <td>17.934121</td>\n",
       "      <td>3.639272</td>\n",
       "      <td>81.695458</td>\n",
       "      <td>9.954779</td>\n",
       "    </tr>\n",
       "    <tr>\n",
       "      <th>min</th>\n",
       "      <td>2190.000000</td>\n",
       "      <td>1.000000</td>\n",
       "      <td>1000.000000</td>\n",
       "      <td>7.400000</td>\n",
       "      <td>5.900000</td>\n",
       "      <td>4.200000</td>\n",
       "      <td>-0.000000</td>\n",
       "      <td>39.000000</td>\n",
       "      <td>0.000000</td>\n",
       "      <td>0.000000</td>\n",
       "      <td>10.000000</td>\n",
       "      <td>4.500000</td>\n",
       "    </tr>\n",
       "    <tr>\n",
       "      <th>25%</th>\n",
       "      <td>2372.250000</td>\n",
       "      <td>92.000000</td>\n",
       "      <td>1008.725000</td>\n",
       "      <td>21.600000</td>\n",
       "      <td>19.825000</td>\n",
       "      <td>17.825000</td>\n",
       "      <td>16.800000</td>\n",
       "      <td>77.250000</td>\n",
       "      <td>69.000000</td>\n",
       "      <td>0.325000</td>\n",
       "      <td>40.000000</td>\n",
       "      <td>14.500000</td>\n",
       "    </tr>\n",
       "    <tr>\n",
       "      <th>50%</th>\n",
       "      <td>2554.500000</td>\n",
       "      <td>183.000000</td>\n",
       "      <td>1012.700000</td>\n",
       "      <td>27.800000</td>\n",
       "      <td>25.650000</td>\n",
       "      <td>23.900000</td>\n",
       "      <td>22.300000</td>\n",
       "      <td>82.000000</td>\n",
       "      <td>83.000000</td>\n",
       "      <td>2.200000</td>\n",
       "      <td>70.000000</td>\n",
       "      <td>21.300000</td>\n",
       "    </tr>\n",
       "    <tr>\n",
       "      <th>75%</th>\n",
       "      <td>2736.750000</td>\n",
       "      <td>274.000000</td>\n",
       "      <td>1017.600000</td>\n",
       "      <td>31.000000</td>\n",
       "      <td>28.375000</td>\n",
       "      <td>26.400000</td>\n",
       "      <td>25.000000</td>\n",
       "      <td>89.000000</td>\n",
       "      <td>88.000000</td>\n",
       "      <td>6.675000</td>\n",
       "      <td>200.000000</td>\n",
       "      <td>28.400000</td>\n",
       "    </tr>\n",
       "    <tr>\n",
       "      <th>max</th>\n",
       "      <td>2919.000000</td>\n",
       "      <td>365.000000</td>\n",
       "      <td>1032.200000</td>\n",
       "      <td>35.800000</td>\n",
       "      <td>31.800000</td>\n",
       "      <td>29.100000</td>\n",
       "      <td>26.700000</td>\n",
       "      <td>98.000000</td>\n",
       "      <td>100.000000</td>\n",
       "      <td>11.800000</td>\n",
       "      <td>300.000000</td>\n",
       "      <td>59.500000</td>\n",
       "    </tr>\n",
       "  </tbody>\n",
       "</table>\n",
       "</div>"
      ],
      "text/plain": [
       "                id         day     pressure     maxtemp  temparature  \\\n",
       "count   730.000000  730.000000   730.000000  730.000000   730.000000   \n",
       "mean   2554.500000  183.000000  1013.503014   26.372466    23.963288   \n",
       "std     210.877136  105.438271     5.505871    5.672521     5.278098   \n",
       "min    2190.000000    1.000000  1000.000000    7.400000     5.900000   \n",
       "25%    2372.250000   92.000000  1008.725000   21.600000    19.825000   \n",
       "50%    2554.500000  183.000000  1012.700000   27.800000    25.650000   \n",
       "75%    2736.750000  274.000000  1017.600000   31.000000    28.375000   \n",
       "max    2919.000000  365.000000  1032.200000   35.800000    31.800000   \n",
       "\n",
       "          mintemp    dewpoint    humidity       cloud    sunshine  \\\n",
       "count  730.000000  730.000000  730.000000  730.000000  730.000000   \n",
       "mean    22.110274   20.460137   82.669863   76.360274    3.664384   \n",
       "std      5.170744    5.391169    7.818714   17.934121    3.639272   \n",
       "min      4.200000   -0.000000   39.000000    0.000000    0.000000   \n",
       "25%     17.825000   16.800000   77.250000   69.000000    0.325000   \n",
       "50%     23.900000   22.300000   82.000000   83.000000    2.200000   \n",
       "75%     26.400000   25.000000   89.000000   88.000000    6.675000   \n",
       "max     29.100000   26.700000   98.000000  100.000000   11.800000   \n",
       "\n",
       "       winddirection   windspeed  \n",
       "count     729.000000  730.000000  \n",
       "mean      103.923182   22.484247  \n",
       "std        81.695458    9.954779  \n",
       "min        10.000000    4.500000  \n",
       "25%        40.000000   14.500000  \n",
       "50%        70.000000   21.300000  \n",
       "75%       200.000000   28.400000  \n",
       "max       300.000000   59.500000  "
      ]
     },
     "execution_count": 5,
     "metadata": {},
     "output_type": "execute_result"
    }
   ],
   "source": [
    "test_df.describe()"
   ]
  },
  {
   "cell_type": "code",
   "execution_count": 6,
   "metadata": {},
   "outputs": [
    {
     "data": {
      "text/html": [
       "<div>\n",
       "<style scoped>\n",
       "    .dataframe tbody tr th:only-of-type {\n",
       "        vertical-align: middle;\n",
       "    }\n",
       "\n",
       "    .dataframe tbody tr th {\n",
       "        vertical-align: top;\n",
       "    }\n",
       "\n",
       "    .dataframe thead th {\n",
       "        text-align: right;\n",
       "    }\n",
       "</style>\n",
       "<table border=\"1\" class=\"dataframe\">\n",
       "  <thead>\n",
       "    <tr style=\"text-align: right;\">\n",
       "      <th></th>\n",
       "      <th>id</th>\n",
       "      <th>day</th>\n",
       "      <th>pressure</th>\n",
       "      <th>maxtemp</th>\n",
       "      <th>temparature</th>\n",
       "      <th>mintemp</th>\n",
       "      <th>dewpoint</th>\n",
       "      <th>humidity</th>\n",
       "      <th>cloud</th>\n",
       "      <th>sunshine</th>\n",
       "      <th>winddirection</th>\n",
       "      <th>windspeed</th>\n",
       "      <th>rainfall</th>\n",
       "    </tr>\n",
       "  </thead>\n",
       "  <tbody>\n",
       "    <tr>\n",
       "      <th>0</th>\n",
       "      <td>0</td>\n",
       "      <td>1</td>\n",
       "      <td>1017.4</td>\n",
       "      <td>21.2</td>\n",
       "      <td>20.6</td>\n",
       "      <td>19.9</td>\n",
       "      <td>19.4</td>\n",
       "      <td>87.0</td>\n",
       "      <td>88.0</td>\n",
       "      <td>1.1</td>\n",
       "      <td>60.0</td>\n",
       "      <td>17.2</td>\n",
       "      <td>1</td>\n",
       "    </tr>\n",
       "    <tr>\n",
       "      <th>1</th>\n",
       "      <td>1</td>\n",
       "      <td>2</td>\n",
       "      <td>1019.5</td>\n",
       "      <td>16.2</td>\n",
       "      <td>16.9</td>\n",
       "      <td>15.8</td>\n",
       "      <td>15.4</td>\n",
       "      <td>95.0</td>\n",
       "      <td>91.0</td>\n",
       "      <td>0.0</td>\n",
       "      <td>50.0</td>\n",
       "      <td>21.9</td>\n",
       "      <td>1</td>\n",
       "    </tr>\n",
       "    <tr>\n",
       "      <th>2</th>\n",
       "      <td>2</td>\n",
       "      <td>3</td>\n",
       "      <td>1024.1</td>\n",
       "      <td>19.4</td>\n",
       "      <td>16.1</td>\n",
       "      <td>14.6</td>\n",
       "      <td>9.3</td>\n",
       "      <td>75.0</td>\n",
       "      <td>47.0</td>\n",
       "      <td>8.3</td>\n",
       "      <td>70.0</td>\n",
       "      <td>18.1</td>\n",
       "      <td>1</td>\n",
       "    </tr>\n",
       "    <tr>\n",
       "      <th>3</th>\n",
       "      <td>3</td>\n",
       "      <td>4</td>\n",
       "      <td>1013.4</td>\n",
       "      <td>18.1</td>\n",
       "      <td>17.8</td>\n",
       "      <td>16.9</td>\n",
       "      <td>16.8</td>\n",
       "      <td>95.0</td>\n",
       "      <td>95.0</td>\n",
       "      <td>0.0</td>\n",
       "      <td>60.0</td>\n",
       "      <td>35.6</td>\n",
       "      <td>1</td>\n",
       "    </tr>\n",
       "    <tr>\n",
       "      <th>4</th>\n",
       "      <td>4</td>\n",
       "      <td>5</td>\n",
       "      <td>1021.8</td>\n",
       "      <td>21.3</td>\n",
       "      <td>18.4</td>\n",
       "      <td>15.2</td>\n",
       "      <td>9.6</td>\n",
       "      <td>52.0</td>\n",
       "      <td>45.0</td>\n",
       "      <td>3.6</td>\n",
       "      <td>40.0</td>\n",
       "      <td>24.8</td>\n",
       "      <td>0</td>\n",
       "    </tr>\n",
       "  </tbody>\n",
       "</table>\n",
       "</div>"
      ],
      "text/plain": [
       "   id  day  pressure  maxtemp  temparature  mintemp  dewpoint  humidity  \\\n",
       "0   0    1    1017.4     21.2         20.6     19.9      19.4      87.0   \n",
       "1   1    2    1019.5     16.2         16.9     15.8      15.4      95.0   \n",
       "2   2    3    1024.1     19.4         16.1     14.6       9.3      75.0   \n",
       "3   3    4    1013.4     18.1         17.8     16.9      16.8      95.0   \n",
       "4   4    5    1021.8     21.3         18.4     15.2       9.6      52.0   \n",
       "\n",
       "   cloud  sunshine  winddirection  windspeed  rainfall  \n",
       "0   88.0       1.1           60.0       17.2         1  \n",
       "1   91.0       0.0           50.0       21.9         1  \n",
       "2   47.0       8.3           70.0       18.1         1  \n",
       "3   95.0       0.0           60.0       35.6         1  \n",
       "4   45.0       3.6           40.0       24.8         0  "
      ]
     },
     "execution_count": 6,
     "metadata": {},
     "output_type": "execute_result"
    }
   ],
   "source": [
    "train_df.head()"
   ]
  },
  {
   "cell_type": "code",
   "execution_count": 1,
   "metadata": {},
   "outputs": [],
   "source": [
    "import plotly.express as px\n",
    "import matplotlib\n",
    "import matplotlib.pyplot as plt\n",
    "import seaborn as sns\n",
    "\n",
    "sns.set_style('darkgrid')\n",
    "matplotlib.rcParams['font.size'] = 14\n",
    "matplotlib.rcParams['figure.figsize'] = (10, 6)\n",
    "matplotlib.rcParams['figure.facecolor'] = '#00000000'"
   ]
  },
  {
   "cell_type": "code",
   "execution_count": null,
   "metadata": {},
   "outputs": [],
   "source": [
    "px.histogram(train_df, x='pressure', title='Pressure vs. RainFall', color='rainfall')"
   ]
  },
  {
   "cell_type": "code",
   "execution_count": null,
   "metadata": {},
   "outputs": [],
   "source": [
    "px.histogram(train_df, x='maxtemp', title='MaxTemp vs. RainFall', color='rainfall')"
   ]
  },
  {
   "cell_type": "code",
   "execution_count": 7,
   "metadata": {},
   "outputs": [
    {
     "ename": "ValueError",
     "evalue": "Mime type rendering requires nbformat>=4.2.0 but it is not installed",
     "output_type": "error",
     "traceback": [
      "\u001b[31m---------------------------------------------------------------------------\u001b[39m",
      "\u001b[31mValueError\u001b[39m                                Traceback (most recent call last)",
      "\u001b[36mFile \u001b[39m\u001b[32mf:\\CodingEtAl\\ML and AI\\ML\\competition\\binary-rainfall-prediction\\.venv\\Lib\\site-packages\\IPython\\core\\formatters.py:984\u001b[39m, in \u001b[36mIPythonDisplayFormatter.__call__\u001b[39m\u001b[34m(self, obj)\u001b[39m\n\u001b[32m    982\u001b[39m method = get_real_method(obj, \u001b[38;5;28mself\u001b[39m.print_method)\n\u001b[32m    983\u001b[39m \u001b[38;5;28;01mif\u001b[39;00m method \u001b[38;5;129;01mis\u001b[39;00m \u001b[38;5;129;01mnot\u001b[39;00m \u001b[38;5;28;01mNone\u001b[39;00m:\n\u001b[32m--> \u001b[39m\u001b[32m984\u001b[39m     \u001b[43mmethod\u001b[49m\u001b[43m(\u001b[49m\u001b[43m)\u001b[49m\n\u001b[32m    985\u001b[39m     \u001b[38;5;28;01mreturn\u001b[39;00m \u001b[38;5;28;01mTrue\u001b[39;00m\n",
      "\u001b[36mFile \u001b[39m\u001b[32mf:\\CodingEtAl\\ML and AI\\ML\\competition\\binary-rainfall-prediction\\.venv\\Lib\\site-packages\\plotly\\basedatatypes.py:833\u001b[39m, in \u001b[36mBaseFigure._ipython_display_\u001b[39m\u001b[34m(self)\u001b[39m\n\u001b[32m    830\u001b[39m \u001b[38;5;28;01mimport\u001b[39;00m\u001b[38;5;250m \u001b[39m\u001b[34;01mplotly\u001b[39;00m\u001b[34;01m.\u001b[39;00m\u001b[34;01mio\u001b[39;00m\u001b[38;5;250m \u001b[39m\u001b[38;5;28;01mas\u001b[39;00m\u001b[38;5;250m \u001b[39m\u001b[34;01mpio\u001b[39;00m\n\u001b[32m    832\u001b[39m \u001b[38;5;28;01mif\u001b[39;00m pio.renderers.render_on_display \u001b[38;5;129;01mand\u001b[39;00m pio.renderers.default:\n\u001b[32m--> \u001b[39m\u001b[32m833\u001b[39m     \u001b[43mpio\u001b[49m\u001b[43m.\u001b[49m\u001b[43mshow\u001b[49m\u001b[43m(\u001b[49m\u001b[38;5;28;43mself\u001b[39;49m\u001b[43m)\u001b[49m\n\u001b[32m    834\u001b[39m \u001b[38;5;28;01melse\u001b[39;00m:\n\u001b[32m    835\u001b[39m     \u001b[38;5;28mprint\u001b[39m(\u001b[38;5;28mrepr\u001b[39m(\u001b[38;5;28mself\u001b[39m))\n",
      "\u001b[36mFile \u001b[39m\u001b[32mf:\\CodingEtAl\\ML and AI\\ML\\competition\\binary-rainfall-prediction\\.venv\\Lib\\site-packages\\plotly\\io\\_renderers.py:425\u001b[39m, in \u001b[36mshow\u001b[39m\u001b[34m(fig, renderer, validate, **kwargs)\u001b[39m\n\u001b[32m    420\u001b[39m     \u001b[38;5;28;01mraise\u001b[39;00m \u001b[38;5;167;01mValueError\u001b[39;00m(\n\u001b[32m    421\u001b[39m         \u001b[33m\"\u001b[39m\u001b[33mMime type rendering requires ipython but it is not installed\u001b[39m\u001b[33m\"\u001b[39m\n\u001b[32m    422\u001b[39m     )\n\u001b[32m    424\u001b[39m \u001b[38;5;28;01mif\u001b[39;00m \u001b[38;5;129;01mnot\u001b[39;00m nbformat \u001b[38;5;129;01mor\u001b[39;00m Version(nbformat.__version__) < Version(\u001b[33m\"\u001b[39m\u001b[33m4.2.0\u001b[39m\u001b[33m\"\u001b[39m):\n\u001b[32m--> \u001b[39m\u001b[32m425\u001b[39m     \u001b[38;5;28;01mraise\u001b[39;00m \u001b[38;5;167;01mValueError\u001b[39;00m(\n\u001b[32m    426\u001b[39m         \u001b[33m\"\u001b[39m\u001b[33mMime type rendering requires nbformat>=4.2.0 but it is not installed\u001b[39m\u001b[33m\"\u001b[39m\n\u001b[32m    427\u001b[39m     )\n\u001b[32m    429\u001b[39m display_jupyter_version_warnings()\n\u001b[32m    431\u001b[39m ipython_display.display(bundle, raw=\u001b[38;5;28;01mTrue\u001b[39;00m)\n",
      "\u001b[31mValueError\u001b[39m: Mime type rendering requires nbformat>=4.2.0 but it is not installed"
     ]
    },
    {
     "data": {
      "application/vnd.plotly.v1+json": {
       "config": {
        "plotlyServerURL": "https://plot.ly"
       },
       "data": [
        {
         "hovertemplate": "mintemp=%{x}<br>maxtemp=%{y}<br>rainfall=%{marker.color}<extra></extra>",
         "legendgroup": "",
         "marker": {
          "color": {
           "bdata": "AQEAAQAAAAEBAQEAAQABAQEBAQABAAEBAQEBAQEBAQEAAQEAAAEAAQEBAQEBAQEBAAEBAQEBAQEBAAABAQEBAAEBAAEAAQEBAQEAAAEAAQABAQEBAQEBAQEAAQEBAQEBAQEAAQEBAAABAQEAAQEAAQABAQEBAQEBAAEAAAEBAQEBAQEBAQEAAQEBAQEBAQABAQABAQEBAQEBAQABAQEAAQEBAQEBAAEBAQABAQEBAQEAAAEAAQABAQEAAQEAAQABAQABAQEAAAABAQEAAQEBAAEBAQEBAQABAAEBAQEBAQEBAQEBAAEBAQEBAQABAAEBAQEBAAEBAQEBAQEAAQABAAAAAQEBAQEBAAEBAQEBAQABAQEAAQEBAAEAAAEBAQAAAQEBAQEBAQEAAQEBAQEBAQEBAQEBAQEBAQEBAQEBAQEBAQEBAQEBAQEBAQAAAQEBAAABAQABAAABAAEBAAEBAQEBAAEBAQEAAAEBAQABAAEBAQEAAQEAAAEAAQEAAAEBAAEBAQEBAAEBAQEAAQEBAAABAQEBAAABAQEAAQEAAQEBAQEAAQEAAQEBAQEBAQEBAAABAQEBAAABAQEBAQEAAQAAAQABAQEBAAEBAAEBAQEBAQEBAQABAQABAAABAQEBAQEAAQEBAQEBAQABAQABAQEBAQEBAQEBAQABAAEBAQEBAQEAAQAAAQABAQEBAAEBAQABAAABAQEAAAEBAQEBAAEBAQEBAAEBAAEBAQEAAAEBAQABAQEBAAEBAQABAAEBAQEAAQEBAQEBAQEBAAABAQEAAAEBAQEBAQEBAQEAAQEBAAABAAEBAQEBAAEBAQEBAQABAQEBAQEBAQABAQAAAQEBAAABAQEBAQEBAAEBAQEBAQEBAQABAQEBAAABAQABAQEBAQEBAAEBAQAAAAABAQEBAQEAAQABAQABAAAAAQEBAQEBAAEBAAEBAAEAAQABAQEBAQEBAAABAQEAAQEBAQEBAQEBAQEBAAEBAQEBAQEBAQEBAQEBAQEBAAABAQEAAQEAAAEBAQEBAQEBAQABAQEAAQEBAQABAQABAQEAAQEBAQEBAQEBAQEBAQEBAQABAQAAAQEBAQEAAQEBAQEBAAEBAQEBAQEBAAABAQEBAQEBAQEBAAEAAQEBAQEBAQEBAQABAAEBAAAAAAEBAQABAQEAAAEAAQAAAAEBAQABAQEAAQEBAAEBAQAAAAEAAQEAAQAAAQEBAQAAAQEAAQEBAAEBAQEBAQEBAQEBAAEBAQEBAQABAQEBAQEAAQEAAQEBAQABAQEBAQEBAAEAAAEAAQEBAQEAAQEBAQEBAQABAQEBAQEBAQEBAQEAAAEBAQEAAQEBAQEBAQEBAQEBAQEAAQEAAQEBAQEBAQEBAQEBAQEBAQABAQEBAQABAQEBAQEBAQEBAAEBAQEBAQEAAAEBAQABAQAAAQEBAQAAAAABAAEBAQAAAAEBAAAAAAABAQABAAEBAQEBAQEBAQEBAQABAAEBAQABAAEAAQEBAQEBAAEBAQEAAQABAAEBAAAAAQEAAQEBAQEAAAEBAAABAAEAAQAAAQEAAQAAAAEAAQEAAQEBAQABAQABAQEBAQEBAQEBAQAAAQEBAQEAAAEBAQEBAQEAAAEBAQABAQABAQABAQEBAQEAAQEAAQEBAQEBAQABAQEBAQEBAQEBAQEAAQEAAQEBAAEAAAEBAQEAAQABAQABAQEAAQEBAQEAAAEBAAEBAQEBAQEBAQABAQEBAQEBAQEBAQAAAQAAAQEBAAEBAQEBAQEBAAEBAQEBAQEBAQEBAQEAAQEBAAEAAQEBAQEBAQABAQEBAQEBAQEBAAEBAQEBAAEBAQAAAQEBAQEBAAABAQEBAAEAAAABAQABAQEAAQEBAQEAAQABAQEAAQEBAAEBAQEAAQAAAQEBAQABAQAAAAEBAQABAQEBAQABAAEBAQEBAAEAAAABAAEAAQAAAQEBAAEBAQEBAQAAAAAAAQEAAQEBAQABAAEBAQEBAQEAAAEAAQEBAQEAAQEAAQEBAQABAQEAAQEBAAEBAQABAAAAAQEBAQABAQEBAQEAAQEBAAEBAQEAAQEBAQABAAABAQABAQEBAQEBAAABAQAAAQEBAQEBAQABAQEAAQEAAQABAAAAAQEBAQABAAEBAQEBAQEBAQEBAAABAQEBAQABAQEBAQEBAAEBAAABAQEBAQEBAQEBAQEBAQEAAQEAAQEBAQEBAQABAQEBAQEBAQEBAAAAAQEBAAEBAQEAAQEBAQEBAQEBAQABAAEBAAABAQEBAQEAAQEBAAEBAAEBAQEAAAEBAQEAAQEAAQEBAQEBAQABAQEAAAEBAQEAAQEBAQEBAAEBAQEBAQEBAQEBAQEBAAABAQABAQEAAQEBAQEBAQEAAQEBAQEBAQEBAAEBAAEBAAEBAAEBAAEBAQAAAQEAAQAAAQEBAAEBAQABAQEBAQEAAQEBAQAAAQEBAAAAAAEAAQEBAQEBAQEBAQABAQEBAQEBAQEBAQEBAQEBAQEAAQEBAQEBAQEBAQEAAAAAAQEBAAEBAAABAAEBAAEBAQEBAAEAAQABAQEBAAEBAQEBAAABAQEAAQABAQEBAQEBAQEBAQEBAQABAQEBAQEBAAEBAQEBAQEBAQEBAQEBAQEAAQEBAQEBAQAAAQEBAQEBAQEBAQE=",
           "dtype": "i1"
          },
          "coloraxis": "coloraxis",
          "symbol": "circle"
         },
         "mode": "markers",
         "name": "",
         "showlegend": false,
         "type": "scattergl",
         "x": {
          "bdata": "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",
          "dtype": "f8"
         },
         "xaxis": "x",
         "y": {
          "bdata": "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",
          "dtype": "f8"
         },
         "yaxis": "y"
        }
       ],
       "layout": {
        "coloraxis": {
         "colorbar": {
          "title": {
           "text": "rainfall"
          }
         },
         "colorscale": [
          [
           0,
           "#0d0887"
          ],
          [
           0.1111111111111111,
           "#46039f"
          ],
          [
           0.2222222222222222,
           "#7201a8"
          ],
          [
           0.3333333333333333,
           "#9c179e"
          ],
          [
           0.4444444444444444,
           "#bd3786"
          ],
          [
           0.5555555555555556,
           "#d8576b"
          ],
          [
           0.6666666666666666,
           "#ed7953"
          ],
          [
           0.7777777777777778,
           "#fb9f3a"
          ],
          [
           0.8888888888888888,
           "#fdca26"
          ],
          [
           1,
           "#f0f921"
          ]
         ]
        },
        "legend": {
         "tracegroupgap": 0
        },
        "template": {
         "data": {
          "bar": [
           {
            "error_x": {
             "color": "#2a3f5f"
            },
            "error_y": {
             "color": "#2a3f5f"
            },
            "marker": {
             "line": {
              "color": "#E5ECF6",
              "width": 0.5
             },
             "pattern": {
              "fillmode": "overlay",
              "size": 10,
              "solidity": 0.2
             }
            },
            "type": "bar"
           }
          ],
          "barpolar": [
           {
            "marker": {
             "line": {
              "color": "#E5ECF6",
              "width": 0.5
             },
             "pattern": {
              "fillmode": "overlay",
              "size": 10,
              "solidity": 0.2
             }
            },
            "type": "barpolar"
           }
          ],
          "carpet": [
           {
            "aaxis": {
             "endlinecolor": "#2a3f5f",
             "gridcolor": "white",
             "linecolor": "white",
             "minorgridcolor": "white",
             "startlinecolor": "#2a3f5f"
            },
            "baxis": {
             "endlinecolor": "#2a3f5f",
             "gridcolor": "white",
             "linecolor": "white",
             "minorgridcolor": "white",
             "startlinecolor": "#2a3f5f"
            },
            "type": "carpet"
           }
          ],
          "choropleth": [
           {
            "colorbar": {
             "outlinewidth": 0,
             "ticks": ""
            },
            "type": "choropleth"
           }
          ],
          "contour": [
           {
            "colorbar": {
             "outlinewidth": 0,
             "ticks": ""
            },
            "colorscale": [
             [
              0,
              "#0d0887"
             ],
             [
              0.1111111111111111,
              "#46039f"
             ],
             [
              0.2222222222222222,
              "#7201a8"
             ],
             [
              0.3333333333333333,
              "#9c179e"
             ],
             [
              0.4444444444444444,
              "#bd3786"
             ],
             [
              0.5555555555555556,
              "#d8576b"
             ],
             [
              0.6666666666666666,
              "#ed7953"
             ],
             [
              0.7777777777777778,
              "#fb9f3a"
             ],
             [
              0.8888888888888888,
              "#fdca26"
             ],
             [
              1,
              "#f0f921"
             ]
            ],
            "type": "contour"
           }
          ],
          "contourcarpet": [
           {
            "colorbar": {
             "outlinewidth": 0,
             "ticks": ""
            },
            "type": "contourcarpet"
           }
          ],
          "heatmap": [
           {
            "colorbar": {
             "outlinewidth": 0,
             "ticks": ""
            },
            "colorscale": [
             [
              0,
              "#0d0887"
             ],
             [
              0.1111111111111111,
              "#46039f"
             ],
             [
              0.2222222222222222,
              "#7201a8"
             ],
             [
              0.3333333333333333,
              "#9c179e"
             ],
             [
              0.4444444444444444,
              "#bd3786"
             ],
             [
              0.5555555555555556,
              "#d8576b"
             ],
             [
              0.6666666666666666,
              "#ed7953"
             ],
             [
              0.7777777777777778,
              "#fb9f3a"
             ],
             [
              0.8888888888888888,
              "#fdca26"
             ],
             [
              1,
              "#f0f921"
             ]
            ],
            "type": "heatmap"
           }
          ],
          "histogram": [
           {
            "marker": {
             "pattern": {
              "fillmode": "overlay",
              "size": 10,
              "solidity": 0.2
             }
            },
            "type": "histogram"
           }
          ],
          "histogram2d": [
           {
            "colorbar": {
             "outlinewidth": 0,
             "ticks": ""
            },
            "colorscale": [
             [
              0,
              "#0d0887"
             ],
             [
              0.1111111111111111,
              "#46039f"
             ],
             [
              0.2222222222222222,
              "#7201a8"
             ],
             [
              0.3333333333333333,
              "#9c179e"
             ],
             [
              0.4444444444444444,
              "#bd3786"
             ],
             [
              0.5555555555555556,
              "#d8576b"
             ],
             [
              0.6666666666666666,
              "#ed7953"
             ],
             [
              0.7777777777777778,
              "#fb9f3a"
             ],
             [
              0.8888888888888888,
              "#fdca26"
             ],
             [
              1,
              "#f0f921"
             ]
            ],
            "type": "histogram2d"
           }
          ],
          "histogram2dcontour": [
           {
            "colorbar": {
             "outlinewidth": 0,
             "ticks": ""
            },
            "colorscale": [
             [
              0,
              "#0d0887"
             ],
             [
              0.1111111111111111,
              "#46039f"
             ],
             [
              0.2222222222222222,
              "#7201a8"
             ],
             [
              0.3333333333333333,
              "#9c179e"
             ],
             [
              0.4444444444444444,
              "#bd3786"
             ],
             [
              0.5555555555555556,
              "#d8576b"
             ],
             [
              0.6666666666666666,
              "#ed7953"
             ],
             [
              0.7777777777777778,
              "#fb9f3a"
             ],
             [
              0.8888888888888888,
              "#fdca26"
             ],
             [
              1,
              "#f0f921"
             ]
            ],
            "type": "histogram2dcontour"
           }
          ],
          "mesh3d": [
           {
            "colorbar": {
             "outlinewidth": 0,
             "ticks": ""
            },
            "type": "mesh3d"
           }
          ],
          "parcoords": [
           {
            "line": {
             "colorbar": {
              "outlinewidth": 0,
              "ticks": ""
             }
            },
            "type": "parcoords"
           }
          ],
          "pie": [
           {
            "automargin": true,
            "type": "pie"
           }
          ],
          "scatter": [
           {
            "fillpattern": {
             "fillmode": "overlay",
             "size": 10,
             "solidity": 0.2
            },
            "type": "scatter"
           }
          ],
          "scatter3d": [
           {
            "line": {
             "colorbar": {
              "outlinewidth": 0,
              "ticks": ""
             }
            },
            "marker": {
             "colorbar": {
              "outlinewidth": 0,
              "ticks": ""
             }
            },
            "type": "scatter3d"
           }
          ],
          "scattercarpet": [
           {
            "marker": {
             "colorbar": {
              "outlinewidth": 0,
              "ticks": ""
             }
            },
            "type": "scattercarpet"
           }
          ],
          "scattergeo": [
           {
            "marker": {
             "colorbar": {
              "outlinewidth": 0,
              "ticks": ""
             }
            },
            "type": "scattergeo"
           }
          ],
          "scattergl": [
           {
            "marker": {
             "colorbar": {
              "outlinewidth": 0,
              "ticks": ""
             }
            },
            "type": "scattergl"
           }
          ],
          "scattermap": [
           {
            "marker": {
             "colorbar": {
              "outlinewidth": 0,
              "ticks": ""
             }
            },
            "type": "scattermap"
           }
          ],
          "scattermapbox": [
           {
            "marker": {
             "colorbar": {
              "outlinewidth": 0,
              "ticks": ""
             }
            },
            "type": "scattermapbox"
           }
          ],
          "scatterpolar": [
           {
            "marker": {
             "colorbar": {
              "outlinewidth": 0,
              "ticks": ""
             }
            },
            "type": "scatterpolar"
           }
          ],
          "scatterpolargl": [
           {
            "marker": {
             "colorbar": {
              "outlinewidth": 0,
              "ticks": ""
             }
            },
            "type": "scatterpolargl"
           }
          ],
          "scatterternary": [
           {
            "marker": {
             "colorbar": {
              "outlinewidth": 0,
              "ticks": ""
             }
            },
            "type": "scatterternary"
           }
          ],
          "surface": [
           {
            "colorbar": {
             "outlinewidth": 0,
             "ticks": ""
            },
            "colorscale": [
             [
              0,
              "#0d0887"
             ],
             [
              0.1111111111111111,
              "#46039f"
             ],
             [
              0.2222222222222222,
              "#7201a8"
             ],
             [
              0.3333333333333333,
              "#9c179e"
             ],
             [
              0.4444444444444444,
              "#bd3786"
             ],
             [
              0.5555555555555556,
              "#d8576b"
             ],
             [
              0.6666666666666666,
              "#ed7953"
             ],
             [
              0.7777777777777778,
              "#fb9f3a"
             ],
             [
              0.8888888888888888,
              "#fdca26"
             ],
             [
              1,
              "#f0f921"
             ]
            ],
            "type": "surface"
           }
          ],
          "table": [
           {
            "cells": {
             "fill": {
              "color": "#EBF0F8"
             },
             "line": {
              "color": "white"
             }
            },
            "header": {
             "fill": {
              "color": "#C8D4E3"
             },
             "line": {
              "color": "white"
             }
            },
            "type": "table"
           }
          ]
         },
         "layout": {
          "annotationdefaults": {
           "arrowcolor": "#2a3f5f",
           "arrowhead": 0,
           "arrowwidth": 1
          },
          "autotypenumbers": "strict",
          "coloraxis": {
           "colorbar": {
            "outlinewidth": 0,
            "ticks": ""
           }
          },
          "colorscale": {
           "diverging": [
            [
             0,
             "#8e0152"
            ],
            [
             0.1,
             "#c51b7d"
            ],
            [
             0.2,
             "#de77ae"
            ],
            [
             0.3,
             "#f1b6da"
            ],
            [
             0.4,
             "#fde0ef"
            ],
            [
             0.5,
             "#f7f7f7"
            ],
            [
             0.6,
             "#e6f5d0"
            ],
            [
             0.7,
             "#b8e186"
            ],
            [
             0.8,
             "#7fbc41"
            ],
            [
             0.9,
             "#4d9221"
            ],
            [
             1,
             "#276419"
            ]
           ],
           "sequential": [
            [
             0,
             "#0d0887"
            ],
            [
             0.1111111111111111,
             "#46039f"
            ],
            [
             0.2222222222222222,
             "#7201a8"
            ],
            [
             0.3333333333333333,
             "#9c179e"
            ],
            [
             0.4444444444444444,
             "#bd3786"
            ],
            [
             0.5555555555555556,
             "#d8576b"
            ],
            [
             0.6666666666666666,
             "#ed7953"
            ],
            [
             0.7777777777777778,
             "#fb9f3a"
            ],
            [
             0.8888888888888888,
             "#fdca26"
            ],
            [
             1,
             "#f0f921"
            ]
           ],
           "sequentialminus": [
            [
             0,
             "#0d0887"
            ],
            [
             0.1111111111111111,
             "#46039f"
            ],
            [
             0.2222222222222222,
             "#7201a8"
            ],
            [
             0.3333333333333333,
             "#9c179e"
            ],
            [
             0.4444444444444444,
             "#bd3786"
            ],
            [
             0.5555555555555556,
             "#d8576b"
            ],
            [
             0.6666666666666666,
             "#ed7953"
            ],
            [
             0.7777777777777778,
             "#fb9f3a"
            ],
            [
             0.8888888888888888,
             "#fdca26"
            ],
            [
             1,
             "#f0f921"
            ]
           ]
          },
          "colorway": [
           "#636efa",
           "#EF553B",
           "#00cc96",
           "#ab63fa",
           "#FFA15A",
           "#19d3f3",
           "#FF6692",
           "#B6E880",
           "#FF97FF",
           "#FECB52"
          ],
          "font": {
           "color": "#2a3f5f"
          },
          "geo": {
           "bgcolor": "white",
           "lakecolor": "white",
           "landcolor": "#E5ECF6",
           "showlakes": true,
           "showland": true,
           "subunitcolor": "white"
          },
          "hoverlabel": {
           "align": "left"
          },
          "hovermode": "closest",
          "mapbox": {
           "style": "light"
          },
          "paper_bgcolor": "white",
          "plot_bgcolor": "#E5ECF6",
          "polar": {
           "angularaxis": {
            "gridcolor": "white",
            "linecolor": "white",
            "ticks": ""
           },
           "bgcolor": "#E5ECF6",
           "radialaxis": {
            "gridcolor": "white",
            "linecolor": "white",
            "ticks": ""
           }
          },
          "scene": {
           "xaxis": {
            "backgroundcolor": "#E5ECF6",
            "gridcolor": "white",
            "gridwidth": 2,
            "linecolor": "white",
            "showbackground": true,
            "ticks": "",
            "zerolinecolor": "white"
           },
           "yaxis": {
            "backgroundcolor": "#E5ECF6",
            "gridcolor": "white",
            "gridwidth": 2,
            "linecolor": "white",
            "showbackground": true,
            "ticks": "",
            "zerolinecolor": "white"
           },
           "zaxis": {
            "backgroundcolor": "#E5ECF6",
            "gridcolor": "white",
            "gridwidth": 2,
            "linecolor": "white",
            "showbackground": true,
            "ticks": "",
            "zerolinecolor": "white"
           }
          },
          "shapedefaults": {
           "line": {
            "color": "#2a3f5f"
           }
          },
          "ternary": {
           "aaxis": {
            "gridcolor": "white",
            "linecolor": "white",
            "ticks": ""
           },
           "baxis": {
            "gridcolor": "white",
            "linecolor": "white",
            "ticks": ""
           },
           "bgcolor": "#E5ECF6",
           "caxis": {
            "gridcolor": "white",
            "linecolor": "white",
            "ticks": ""
           }
          },
          "title": {
           "x": 0.05
          },
          "xaxis": {
           "automargin": true,
           "gridcolor": "white",
           "linecolor": "white",
           "ticks": "",
           "title": {
            "standoff": 15
           },
           "zerolinecolor": "white",
           "zerolinewidth": 2
          },
          "yaxis": {
           "automargin": true,
           "gridcolor": "white",
           "linecolor": "white",
           "ticks": "",
           "title": {
            "standoff": 15
           },
           "zerolinecolor": "white",
           "zerolinewidth": 2
          }
         }
        },
        "title": {
         "text": "Min Temp. vs Max Temp."
        },
        "xaxis": {
         "anchor": "y",
         "domain": [
          0,
          1
         ],
         "title": {
          "text": "mintemp"
         }
        },
        "yaxis": {
         "anchor": "x",
         "domain": [
          0,
          1
         ],
         "title": {
          "text": "maxtemp"
         }
        }
       }
      },
      "text/html": [
       "<div>                        <script type=\"text/javascript\">window.PlotlyConfig = {MathJaxConfig: 'local'};</script>\n",
       "        <script charset=\"utf-8\" src=\"https://cdn.plot.ly/plotly-3.0.1.min.js\"></script>                <div id=\"7bab550d-80f3-4ea4-84a4-c1d2736ac064\" class=\"plotly-graph-div\" style=\"height:100%; width:100%;\"></div>            <script type=\"text/javascript\">                window.PLOTLYENV=window.PLOTLYENV || {};                                if (document.getElementById(\"7bab550d-80f3-4ea4-84a4-c1d2736ac064\")) {                    Plotly.newPlot(                        \"7bab550d-80f3-4ea4-84a4-c1d2736ac064\",                        [{\"hovertemplate\":\"mintemp=%{x}\\u003cbr\\u003emaxtemp=%{y}\\u003cbr\\u003erainfall=%{marker.color}\\u003cextra\\u003e\\u003c\\u002fextra\\u003e\",\"legendgroup\":\"\",\"marker\":{\"color\":{\"dtype\":\"i1\",\"bdata\":\"AQEAAQAAAAEBAQEAAQABAQEBAQABAAEBAQEBAQEBAQEAAQEAAAEAAQEBAQEBAQEBAAEBAQEBAQEBAAABAQEBAAEBAAEAAQEBAQEAAAEAAQABAQEBAQEBAQEAAQEBAQEBAQEAAQEBAAABAQEAAQEAAQABAQEBAQEBAAEAAAEBAQEBAQEBAQEAAQEBAQEBAQABAQABAQEBAQEBAQABAQEAAQEBAQEBAAEBAQABAQEBAQEAAAEAAQABAQEAAQEAAQABAQABAQEAAAABAQEAAQEBAAEBAQEBAQABAAEBAQEBAQEBAQEBAAEBAQEBAQABAAEBAQEBAAEBAQEBAQEAAQABAAAAAQEBAQEBAAEBAQEBAQABAQEAAQEBAAEAAAEBAQAAAQEBAQEBAQEAAQEBAQEBAQEBAQEBAQEBAQEBAQEBAQEBAQEBAQEBAQEBAQAAAQEBAAABAQABAAABAAEBAAEBAQEBAAEBAQEAAAEBAQABAAEBAQEAAQEAAAEAAQEAAAEBAAEBAQEBAAEBAQEAAQEBAAABAQEBAAABAQEAAQEAAQEBAQEAAQEAAQEBAQEBAQEBAAABAQEBAAABAQEBAQEAAQAAAQABAQEBAAEBAAEBAQEBAQEBAQABAQABAAABAQEBAQEAAQEBAQEBAQABAQABAQEBAQEBAQEBAQABAAEBAQEBAQEAAQAAAQABAQEBAAEBAQABAAABAQEAAAEBAQEBAAEBAQEBAAEBAAEBAQEAAAEBAQABAQEBAAEBAQABAAEBAQEAAQEBAQEBAQEBAAABAQEAAAEBAQEBAQEBAQEAAQEBAAABAAEBAQEBAAEBAQEBAQABAQEBAQEBAQABAQAAAQEBAAABAQEBAQEBAAEBAQEBAQEBAQABAQEBAAABAQABAQEBAQEBAAEBAQAAAAABAQEBAQEAAQABAQABAAAAAQEBAQEBAAEBAAEBAAEAAQABAQEBAQEBAAABAQEAAQEBAQEBAQEBAQEBAAEBAQEBAQEBAQEBAQEBAQEBAAABAQEAAQEAAAEBAQEBAQEBAQABAQEAAQEBAQABAQABAQEAAQEBAQEBAQEBAQEBAQEBAQABAQAAAQEBAQEAAQEBAQEBAAEBAQEBAQEBAAABAQEBAQEBAQEBAAEAAQEBAQEBAQEBAQABAAEBAAAAAAEBAQABAQEAAAEAAQAAAAEBAQABAQEAAQEBAAEBAQAAAAEAAQEAAQAAAQEBAQAAAQEAAQEBAAEBAQEBAQEBAQEBAAEBAQEBAQABAQEBAQEAAQEAAQEBAQABAQEBAQEBAAEAAAEAAQEBAQEAAQEBAQEBAQABAQEBAQEBAQEBAQEAAAEBAQEAAQEBAQEBAQEBAQEBAQEAAQEAAQEBAQEBAQEBAQEBAQEBAQABAQEBAQABAQEBAQEBAQEBAAEBAQEBAQEAAAEBAQABAQAAAQEBAQAAAAABAAEBAQAAAAEBAAAAAAABAQABAAEBAQEBAQEBAQEBAQABAAEBAQABAAEAAQEBAQEBAAEBAQEAAQABAAEBAAAAAQEAAQEBAQEAAAEBAAABAAEAAQAAAQEAAQAAAAEAAQEAAQEBAQABAQABAQEBAQEBAQEBAQAAAQEBAQEAAAEBAQEBAQEAAAEBAQABAQABAQABAQEBAQEAAQEAAQEBAQEBAQABAQEBAQEBAQEBAQEAAQEAAQEBAAEAAAEBAQEAAQABAQABAQEAAQEBAQEAAAEBAAEBAQEBAQEBAQABAQEBAQEBAQEBAQAAAQAAAQEBAAEBAQEBAQEBAAEBAQEBAQEBAQEBAQEAAQEBAAEAAQEBAQEBAQABAQEBAQEBAQEBAAEBAQEBAAEBAQAAAQEBAQEBAAABAQEBAAEAAAABAQABAQEAAQEBAQEAAQABAQEAAQEBAAEBAQEAAQAAAQEBAQABAQAAAAEBAQABAQEBAQABAAEBAQEBAAEAAAABAAEAAQAAAQEBAAEBAQEBAQAAAAAAAQEAAQEBAQABAAEBAQEBAQEAAAEAAQEBAQEAAQEAAQEBAQABAQEAAQEBAAEBAQABAAAAAQEBAQABAQEBAQEAAQEBAAEBAQEAAQEBAQABAAABAQABAQEBAQEBAAABAQAAAQEBAQEBAQABAQEAAQEAAQABAAAAAQEBAQABAAEBAQEBAQEBAQEBAAABAQEBAQABAQEBAQEBAAEBAAABAQEBAQEBAQEBAQEBAQEAAQEAAQEBAQEBAQABAQEBAQEBAQEBAAAAAQEBAAEBAQEAAQEBAQEBAQEBAQABAAEBAAABAQEBAQEAAQEBAAEBAAEBAQEAAAEBAQEAAQEAAQEBAQEBAQABAQEAAAEBAQEAAQEBAQEBAAEBAQEBAQEBAQEBAQEBAAABAQABAQEAAQEBAQEBAQEAAQEBAQEBAQEBAAEBAAEBAAEBAAEBAAEBAQAAAQEAAQAAAQEBAAEBAQABAQEBAQEAAQEBAQAAAQEBAAAAAAEAAQEBAQEBAQEBAQABAQEBAQEBAQEBAQEBAQEBAQEAAQEBAQEBAQEBAQEAAAAAAQEBAAEBAAABAAEBAAEBAQEBAAEAAQABAQEBAAEBAQEBAAABAQEAAQABAQEBAQEBAQEBAQEBAQABAQEBAQEBAAEBAQEBAQEBAQEBAQEBAQEAAQEBAQEBAQAAAQEBAQEBAQEBAQE=\"},\"coloraxis\":\"coloraxis\",\"symbol\":\"circle\"},\"mode\":\"markers\",\"name\":\"\",\"showlegend\":false,\"x\":{\"dtype\":\"f8\",\"bdata\":\"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\"},\"xaxis\":\"x\",\"y\":{\"dtype\":\"f8\",\"bdata\":\"AAAAAAAAP0DNzMzMzEw1QM3MzMzMTDBAmpmZmZkZPkCamZmZmZlAQGZmZmZm5j5AzczMzMzMPEBmZmZmZmY0QM3MzMzMTDVAMzMzMzMzNEDNzMzMzMw4QGZmZmZmZjxAMzMzMzMzNECamZmZmZlAQGZmZmZmZj1AmpmZmZmZPEBmZmZmZuY8QJqZmZmZmTlAmpmZmZmZMUCamZmZmRkxQJqZmZmZmUBAZmZmZmZmOUBmZmZmZuYyQGZmZmZm5j5AZmZmZmbmNkAzMzMzM7M7QAAAAAAAADNAzczMzMxMOUBmZmZmZuY\\u002fQGZmZmZm5jlAMzMzMzOzNEBmZmZmZuY4QGZmZmZmZjxAzczMzMxMMEDNzMzMzMw5QDMzMzMzszFAZmZmZmZmPUBmZmZmZuYyQAAAAAAAgEBAMzMzMzMzP0DNzMzMzEw\\u002fQJqZmZmZGTxAMzMzMzMzPkCamZmZmRk5QGZmZmZm5jRAzczMzMxMP0AzMzMzMzM\\u002fQAAAAAAAgDxAmpmZmZlZQECamZmZmRk0QJqZmZmZmTtAzczMzMxMNUDNzMzMzMw+QGZmZmZm5jlAAAAAAAAAQEAzMzMzMzM2QM3MzMzMjEBAZmZmZmbmOEDNzMzMzEw5QAAAAAAAADtAmpmZmZnZQEBmZmZmZmYwQJqZmZmZmTJAMzMzMzMzNECamZmZmZk8QJqZmZmZmTVAzczMzMzMPUBmZmZmZmZAQM3MzMzMzDpAzczMzMzMNEBmZmZmZuY\\u002fQAAAAAAAgDBAmpmZmZmZOkCamZmZmRk8QDMzMzMzMzFAAAAAAACAQUAAAAAAAABAQAAAAAAAAEBAmpmZmZmZOkAAAAAAAIA7QGZmZmZmZjRAMzMzMzMzOkBmZmZmZmYxQDMzMzMzMzJAmpmZmZlZQEAzMzMzMzMwQGZmZmZmZjFAZmZmZmZmQEAAAAAAAAA6QM3MzMzMTDFAAAAAAAAAN0DNzMzMzEw2QGZmZmZm5j9AAAAAAAAAP0CamZmZmZk0QGZmZmZm5j5AAAAAAACAOkAzMzMzMzM9QDMzMzMzszBAzczMzMxMOUCamZmZmRkxQM3MzMzMzDlAmpmZmZmZQECamZmZmZlAQDMzMzMzMzlAAAAAAAAANUBmZmZmZuY\\u002fQAAAAAAAgDtAMzMzMzMzPEBmZmZmZuYyQM3MzMzMzDZAzczMzMwMQEAzMzMzM7M4QGZmZmZmZjpAZmZmZmbmNkBmZmZmZmZAQGZmZmZmZj5AmpmZmZmZMkDNzMzMzEw5QM3MzMzMzC5AmpmZmZmZN0AAAAAAAABAQM3MzMzMzDVAMzMzMzMzP0CamZmZmZk5QDMzMzMzsz9AZmZmZmbmNEBmZmZmZuY7QDMzMzMzMzNAzczMzMxMMEBmZmZmZmY1QDMzMzMzMz1AzczMzMzMOEBmZmZmZmY1QJqZmZmZGT1AmpmZmZkZQEBmZmZmZmY1QJqZmZmZWUBAZmZmZmZmNUDNzMzMzEw1QM3MzMzMTD5AAAAAAAAAQEAAAAAAAAApQGZmZmZm5jlAmpmZmZkZOUAAAAAAAABAQAAAAAAAAEFAZmZmZmbmNkAzMzMzMzM8QDMzMzMzMzVAmpmZmZmZNEBmZmZmZmYzQM3MzMzMzDpAMzMzMzMzOkBmZmZmZuZAQDMzMzMzMzBAAAAAAACAMUAAAAAAAIBAQGZmZmZmZj5AMzMzMzOzNECamZmZmRk3QDMzMzMzszNAMzMzMzOzO0BmZmZmZqZBQJqZmZmZmS5AzczMzMzMMkDNzMzMzEw2QJqZmZmZmTtAMzMzMzMzOkBmZmZmZmYxQGZmZmZmZjpAmpmZmZkZPUDNzMzMzMw7QGZmZmZmZjFAZmZmZmbmOkDNzMzMzIxAQGZmZmZmZjVAmpmZmZmZQEDNzMzMzEw1QDMzMzMzszpAAAAAAACAMkDNzMzMzMw9QM3MzMzMTDpAzczMzMzMMEDNzMzMzEw+QJqZmZmZmTxAzczMzMzMOUCamZmZmZkzQM3MzMzMzDdAMzMzMzOzO0AzMzMzMzM9QJqZmZmZGT5AZmZmZmZmN0CamZmZmVlAQAAAAAAAwEBAMzMzMzMzMEDNzMzMzEw+QM3MzMzMzDtAZmZmZmZmQEBmZmZmZuY0QDMzMzMzMz9AmpmZmZmZNUCamZmZmRk8QDMzMzMzMz5AmpmZmZkZMkBmZmZmZmY4QDMzMzMzMzdAMzMzMzMzNUDNzMzMzEw4QGZmZmZm5j9AAAAAAAAAP0AzMzMzM3NAQGZmZmZmZi5AmpmZmZkZNUDNzMzMzIxAQM3MzMzMzDhAzczMzMxMNUBmZmZmZuY8QM3MzMzMzDhAzczMzMzMN0BmZmZmZmY4QJqZmZmZmUBAMzMzMzMzP0AzMzMzMzM8QAAAAAAAgDFAmpmZmZmZMUBmZmZmZmYxQJqZmZmZmT5AzczMzMxMNUCamZmZmRk0QJqZmZmZGT9AMzMzMzMzNkAzMzMzMzM3QGZmZmZmZjxAzczMzMxMNUCamZmZmRk8QDMzMzMzMzxAzczMzMxMNUAAAAAAAAA7QGZmZmZmZjtAMzMzMzPzQEAzMzMzMzM1QAAAAAAAgD1AZmZmZmbmNECamZmZmZk+QAAAAAAAgDxAMzMzMzOzM0AAAAAAAIAxQJqZmZmZGTZAMzMzMzMzMUAzMzMzMzM7QDMzMzMzM0BAzczMzMzMP0BmZmZmZmYxQM3MzMzMzDtAZmZmZmZmPkBmZmZmZmZAQGZmZmZmpkBAMzMzMzOzP0AAAAAAAAAvQGZmZmZmZjRAzczMzMxMOUDNzMzMzMxBQAAAAAAAgDJAAAAAAACAO0AAAAAAAIA4QJqZmZmZmTFAZmZmZmbmO0BmZmZmZmY6QM3MzMzMzD5AzczMzMxMNkAAAAAAAABAQJqZmZmZmT1AZmZmZmbmOkDNzMzMzExAQGZmZmZm5j9AMzMzMzOzPkBmZmZmZuY7QAAAAAAAAD9AzczMzMzMNkBmZmZmZuY6QAAAAAAAgEBAAAAAAACANECamZmZmZk9QGZmZmZmZjVAZmZmZmZmMUCamZmZmZlAQAAAAAAAwEBAMzMzMzOzPEAAAAAAAIA\\u002fQJqZmZmZmSxAmpmZmZkZOkAAAAAAAABAQM3MzMzMzD1AZmZmZmbmNUDNzMzMzMw6QJqZmZmZGTlAzczMzMxMOkCamZmZmRk8QDMzMzMzc0BAAAAAAACAO0AAAAAAAABBQM3MzMzMTDNAAAAAAAAAOkBmZmZmZmY5QM3MzMzMzDtAZmZmZmZmQEAAAAAAAIA6QJqZmZmZmTNAZmZmZmZmQEAzMzMzMzM1QDMzMzMzMz1AAAAAAACAOUCamZmZmRk3QGZmZmZmpkBAMzMzMzMzN0BmZmZmZmY6QGZmZmZm5jRAZmZmZmZmNEAzMzMzM3NAQGZmZmZmZi5AmpmZmZmZQEDNzMzMzMw7QGZmZmZm5jJAmpmZmZmZPkCamZmZmZk7QDMzMzMzMzpAAAAAAADAQEDNzMzMzEw1QJqZmZmZmT5AZmZmZmYmQEDNzMzMzEwxQJqZmZmZGT1AZmZmZmZmMUCamZmZmZk6QAAAAAAAgDVAmpmZmZkZNEAAAAAAAIA3QGZmZmZmZjRAAAAAAAAAP0AAAAAAAIA6QM3MzMzMzDBAMzMzMzMzMUBmZmZmZmY1QM3MzMzMTDRAzczMzMxMOkDNzMzMzMwwQM3MzMzMTDFAzczMzMzMNkAAAAAAAABBQJqZmZmZmTtAMzMzMzMzO0BmZmZmZmYxQDMzMzMzMzBAMzMzMzOzPUCamZmZmZkxQDMzMzMzMz9AmpmZmZmZJkDNzMzMzEw3QJqZmZmZGTVAzczMzMzMQEAAAAAAAIA7QGZmZmZmZkBAzczMzMxMOUAzMzMzMzM3QGZmZmZm5jNAZmZmZmYmQEDNzMzMzEw1QM3MzMzMTD9AMzMzMzMzQUBmZmZmZuYzQAAAAAAAgD9AZmZmZmbmP0AzMzMzMzM9QJqZmZmZmTpAmpmZmZnZQEDNzMzMzMwxQDMzMzMzMztAzczMzMxMNkCamZmZmdlAQGZmZmZm5jRAAAAAAAAAQUAAAAAAAAA+QJqZmZmZmSVAmpmZmZkZOkDNzMzMzMw3QJqZmZmZmT9AMzMzMzOzO0CamZmZmRk2QGZmZmZm5jVAzczMzMwMQUDNzMzMzEwyQGZmZmZmZjxAZmZmZmZmPEAzMzMzMzMwQGZmZmZm5jxAAAAAAACAQEAzMzMzMzM6QDMzMzMzMzxAMzMzMzMzQUBmZmZmZqZAQJqZmZmZGTpAmpmZmZmZPEAzMzMzMzM\\u002fQAAAAAAAAD9AmpmZmZlZQEDNzMzMzMw+QDMzMzMzMz9AMzMzMzMzP0BmZmZmZuY1QM3MzMzMTDVAmpmZmZkZNUAzMzMzM7M8QAAAAAAAgDRAZmZmZmZmP0DNzMzMzMw8QGZmZmZmZjJAAAAAAAAAP0AAAAAAAAAvQDMzMzMzM0BAZmZmZmYmQECamZmZmRk8QDMzMzMzM0BAzczMzMxMMUCamZmZmZk4QAAAAAAAAD9AMzMzMzMzPEDNzMzMzEw6QJqZmZmZmTNAZmZmZmbmPkBmZmZmZuY\\u002fQJqZmZmZWUFAmpmZmZmZQEBmZmZmZmYoQM3MzMzMTDVAZmZmZmZmMkAzMzMzMzM1QGZmZmZm5jpAzczMzMzMPkAAAAAAAAA\\u002fQGZmZmZmZjlAZmZmZmZmP0CamZmZmRkxQJqZmZmZGT1AmpmZmZmZPkCamZmZmZkyQGZmZmZmZkBAAAAAAAAAPUAzMzMzM7M4QJqZmZmZmSxAZmZmZmZmNEBmZmZmZmZAQM3MzMzMzDdAMzMzMzOzO0AAAAAAAAA1QDMzMzMzsz9AzczMzMzMO0CamZmZmRlAQDMzMzMzc0BAmpmZmZkZO0BmZmZmZuY7QDMzMzMzsz9AmpmZmZmZMUAzMzMzM7M2QJqZmZmZmT9AZmZmZmZmQEAAAAAAAIAyQJqZmZmZGT1AAAAAAAAAL0CamZmZmRk3QJqZmZmZmTNAMzMzMzMzPEAzMzMzMzMoQDMzMzMzMy5AMzMzMzMzP0CamZmZmZlAQJqZmZmZmTFAMzMzMzMzMkDNzMzMzMwyQJqZmZmZGT9AMzMzMzOzOkBmZmZmZuY\\u002fQDMzMzMzMz9AzczMzMzMOkDNzMzMzEw\\u002fQM3MzMzMTDVAAAAAAACAMUAAAAAAAAAuQGZmZmZmZjxAAAAAAAAAP0AzMzMzM7M\\u002fQJqZmZmZmTRAMzMzMzMzNUAAAAAAAABAQJqZmZmZmTVAmpmZmZmZPkDNzMzMzEw\\u002fQDMzMzMzMztAZmZmZmbmNkCamZmZmZkxQGZmZmZm5jlAAAAAAAAAQEDNzMzMzMw7QDMzMzMzsztAZmZmZmbmOUAzMzMzMzM8QDMzMzMzsz1AMzMzMzMzOUBmZmZmZiZAQDMzMzMzMzVAzczMzMzMLkBmZmZmZuY8QGZmZmZm5jJAzczMzMxMNUCamZmZmVlBQDMzMzMzs0BAAAAAAACANUBmZmZmZqZAQM3MzMzMTDFAMzMzMzOzMEDNzMzMzMw+QGZmZmZmZjFAZmZmZmZmPkAzMzMzMzM+QAAAAAAAADVAmpmZmZmZMUBmZmZmZuY1QJqZmZmZWUFAmpmZmZmZPkBmZmZmZuY4QJqZmZmZGTVAZmZmZmZmQEBmZmZmZmY2QDMzMzMzsz5AMzMzMzMzP0AzMzMzMzM1QJqZmZmZGTBAAAAAAAAAPUAzMzMzM7M\\u002fQJqZmZmZGT9AZmZmZmZmPUBmZmZmZmY8QDMzMzMzMzFAMzMzMzMzP0BmZmZmZmY6QAAAAAAAgD9AzczMzMzMO0BmZmZmZmYyQAAAAAAAAEFAZmZmZmZmQEAzMzMzM7M3QGZmZmZm5jlAMzMzMzMzNEAzMzMzM7M6QM3MzMzMjEFAAAAAAAAAN0AzMzMzM7M5QM3MzMzMzD1AMzMzMzOzPkAzMzMzM7MwQM3MzMzMzDtAzczMzMxMMUDNzMzMzMw6QDMzMzMzs0BAmpmZmZmZPUDNzMzMzMw5QM3MzMzMTDdAzczMzMxMOUCamZmZmZlAQM3MzMzMzD5AZmZmZmbmOkAzMzMzMzM8QJqZmZmZGUBAZmZmZmbmOkCamZmZmRk+QGZmZmZmZkBAAAAAAAAAP0BmZmZmZuY1QGZmZmZmZjlAZmZmZmbmMkDNzMzMzMw9QAAAAAAAADtAAAAAAAAAP0BmZmZmZuY\\u002fQDMzMzMzszJAMzMzMzOzPEAAAAAAAAA\\u002fQM3MzMzMTDRAzczMzMxMPEAAAAAAAAA4QGZmZmZmJkBAAAAAAACAPkCamZmZmRk+QGZmZmZmZjFAMzMzMzOzPUCamZmZmZkzQDMzMzMzMzxAmpmZmZmZKkCamZmZmZkyQJqZmZmZmT5AzczMzMxMMUAAAAAAAIA0QAAAAAAAQEBAZmZmZmbmNUDNzMzMzMw9QAAAAAAAgEBAMzMzMzOzP0BmZmZmZmZAQDMzMzMzMzxAZmZmZmamQECamZmZmZlAQAAAAAAAgEBAMzMzMzOzQEDNzMzMzIxBQGZmZmZmZjxAZmZmZmbmOkBmZmZmZmY+QGZmZmZmZjBAZmZmZmbmOUBmZmZmZmYxQM3MzMzMTDpAMzMzMzMzP0AAAAAAAIBAQGZmZmZmZjNAmpmZmZkZPEAzMzMzM7NAQAAAAAAAAC9AmpmZmZkZNUCamZmZmZk7QAAAAAAAgDJAzczMzMxMPkCamZmZmZkuQM3MzMzMjEFAzczMzMzMM0BmZmZmZqZAQDMzMzMzMz9AMzMzMzPzQECamZmZmZk0QJqZmZmZGTdAzczMzMxMMUBmZmZmZuY9QAAAAAAAADJAZmZmZmZmQECamZmZmRk8QM3MzMzMzDpAZmZmZmZmPEBmZmZmZmZAQAAAAAAAAD5AZmZmZmbmOEAzMzMzM7M0QJqZmZmZmTpAAAAAAACAOUDNzMzMzMw7QM3MzMzMzDhAzczMzMzMNEAAAAAAAIAwQJqZmZmZmTJAzczMzMzMOkAzMzMzM3NAQAAAAAAAgDFAzczMzMxMMEBmZmZmZmY\\u002fQAAAAAAAQEBAAAAAAAAAOkDNzMzMzMxBQAAAAAAAAEFAAAAAAACAQECamZmZmZk+QJqZmZmZGT9AmpmZmZmZNUCamZmZmRk+QDMzMzMzsz5AAAAAAACAO0DNzMzMzEw2QDMzMzMzsz1AZmZmZmbmP0DNzMzMzEw0QGZmZmZmpkBAZmZmZmamQUDNzMzMzEw6QGZmZmZmZjVAMzMzMzOzMECamZmZmZkxQJqZmZmZmTRAAAAAAADAQEAAAAAAAIAyQJqZmZmZmTVAZmZmZmZmPUCamZmZmRk8QDMzMzMzMzVAAAAAAACAPUDNzMzMzMw4QM3MzMzMjEBAMzMzMzMzPEAAAAAAAIA2QJqZmZmZGTlAmpmZmZkZN0BmZmZmZiZAQGZmZmZm5jxAzczMzMyMQEDNzMzMzMw+QJqZmZmZmTVAmpmZmZmZPUDNzMzMzEw1QM3MzMzMTDZAAAAAAAAANUAzMzMzM7M9QDMzMzMzMz1AMzMzMzMzPECamZmZmZk7QGZmZmZmZjpAMzMzMzMzOUAzMzMzM7M7QDMzMzMzszxAZmZmZmYmQEAAAAAAAABAQGZmZmZmZjVAMzMzMzMzP0AzMzMzMzNAQJqZmZmZmT1AzczMzMxMNUDNzMzMzEwwQM3MzMzMzDtAAAAAAAAANUAzMzMzMzM9QM3MzMzMTDVAZmZmZmbmPEAAAAAAAIBAQJqZmZmZGTxAMzMzMzOzPUAzMzMzM3NAQAAAAAAAgEBAMzMzMzMzPEAzMzMzMzM\\u002fQM3MzMzMTDpAZmZmZmZmPkBmZmZmZuY5QJqZmZmZGTRAMzMzMzOzP0AAAAAAAAA\\u002fQAAAAAAAgEBAmpmZmZkZMUCamZmZmZk5QJqZmZmZGUBAAAAAAAAAQUDNzMzMzMw0QJqZmZmZmTNAAAAAAACAQEBmZmZmZqZAQAAAAAAAADZAmpmZmZkZPUCamZmZmZk8QM3MzMzMTDNAzczMzMwMQEBmZmZmZmYyQM3MzMzMjEFAzczMzMzMO0BmZmZmZuY6QM3MzMzMTDFAmpmZmZmZPkCamZmZmRk\\u002fQM3MzMzMjEFAzczMzMzMNEBmZmZmZqZAQM3MzMzMzDpAmpmZmZmZLEDNzMzMzMw\\u002fQGZmZmZmZjtAmpmZmZmZO0DNzMzMzMw+QJqZmZmZmTJAMzMzMzOzPEAAAAAAAABAQGZmZmZm5jhAMzMzMzMzMUBmZmZmZuYyQGZmZmZm5jtAzczMzMzMO0DNzMzMzMwvQGZmZmZmZjFAAAAAAACAMkDNzMzMzMw1QGZmZmZm5jNAMzMzMzOzOEAAAAAAAAAvQGZmZmZm5jVAAAAAAAAAMkCamZmZmZk+QDMzMzMzszNAZmZmZmZmMECamZmZmZk0QDMzMzMz80BAAAAAAACAOkAzMzMzM3NAQM3MzMzMzDhAMzMzMzOzNUBmZmZmZmY1QJqZmZmZGTVAmpmZmZmZPkBmZmZmZmYxQGZmZmZmZj5AAAAAAAAANUAAAAAAAIA6QM3MzMzMTDxAAAAAAAAAP0DNzMzMzMwyQM3MzMzMzDxAAAAAAAAAP0CamZmZmZkuQDMzMzMzMzZAAAAAAAAAQkAAAAAAAIA\\u002fQM3MzMzMTDFAMzMzMzOzP0BmZmZmZmY9QAAAAAAAADxAzczMzMzMO0BmZmZmZmZAQDMzMzMzs0FAmpmZmZmZLEAAAAAAAIBAQGZmZmZmZj1AZmZmZmbmOkAzMzMzMzM9QM3MzMzMzClAMzMzMzOzPEAzMzMzM7MwQGZmZmZmZkBAmpmZmZkZPUBmZmZmZuY4QM3MzMzMTDZAMzMzMzOzQEDNzMzMzEw6QDMzMzMzMzxAZmZmZmbmPECamZmZmZk7QDMzMzMzszxAZmZmZmbmN0CamZmZmRk9QM3MzMzMTDVAzczMzMxMNUDNzMzMzMw\\u002fQJqZmZmZmUBAAAAAAAAAQEAzMzMzMzM8QJqZmZmZmTxAMzMzMzMzMUAzMzMzMzM1QAAAAAAAAEBAMzMzMzMzPkCamZmZmRk9QGZmZmZmZjBAMzMzMzMzPECamZmZmZk7QDMzMzMzsz9AzczMzMxMNkBmZmZmZmY0QJqZmZmZGTVAAAAAAAAAMUCamZmZmZk\\u002fQJqZmZmZGTNAmpmZmZmZPkAzMzMzMzM1QAAAAAAAADxAAAAAAACAO0DNzMzMzMw3QJqZmZmZmTxAZmZmZmYmQECamZmZmRk0QGZmZmZm5jpAzczMzMzMPUDNzMzMzEw6QGZmZmZmJkBAAAAAAAAAQEBmZmZmZuY0QJqZmZmZGTFAmpmZmZlZQEAAAAAAAAA\\u002fQGZmZmZmZj9AzczMzMxMP0BmZmZmZmY+QM3MzMzMTDpAMzMzMzMzP0CamZmZmRk9QGZmZmZm5kFAAAAAAACAPEAAAAAAAABAQJqZmZmZmUBAZmZmZmbmNUDNzMzMzMw7QGZmZmZmJkBAMzMzMzOzP0AAAAAAAIBAQGZmZmZmZjtAMzMzMzMzP0CamZmZmZk0QAAAAAAAAEBAmpmZmZkZQEAzMzMzM7M6QM3MzMzMzD1AMzMzMzOzM0CamZmZmZk7QM3MzMzMTDlAMzMzMzMzNkCamZmZmZk+QDMzMzMzMz1AAAAAAACAQEAzMzMzMzM6QGZmZmZm5jxAZmZmZmZmNUDNzMzMzMw8QAAAAAAAAEFAzczMzMzMPECamZmZmdlAQGZmZmZmZkBAAAAAAAAAP0BmZmZmZuY5QM3MzMzMzDtAzczMzMxMQECamZmZmZk8QAAAAAAAAD9AzczMzMxMNUBmZmZmZuY+QM3MzMzMzDFAzczMzMxMPEAzMzMzMzMuQM3MzMzMzD5AAAAAAACAQEAAAAAAAABAQGZmZmZmZjxAZmZmZmZmMkCamZmZmRk+QAAAAAAAAD9AMzMzMzNzQEDNzMzMzEwwQJqZmZmZmThAzczMzMxMOUCamZmZmRk8QJqZmZmZGT1AMzMzMzMzQEAAAAAAAAA\\u002fQDMzMzMzMzBAzczMzMzMOECamZmZmRk9QGZmZmZm5jlAMzMzMzMzPUAzMzMzMzM1QDMzMzMzMzRAzczMzMxMNkDNzMzMzAxBQJqZmZmZmTBAAAAAAACAPkBmZmZmZmY7QGZmZmZm5jJAmpmZmZkZQEBmZmZmZmY+QGZmZmZm5jZAMzMzMzMzQEAAAAAAAIBAQM3MzMzMzD9AzczMzMxMPUDNzMzMzIxAQGZmZmZmJkBAzczMzMzMO0DNzMzMzEwzQAAAAAAAADFAmpmZmZmZQEBmZmZmZuZAQAAAAAAAAC5AzczMzMwMQEAAAAAAAIAxQDMzMzMzMzJAZmZmZmZmPEBmZmZmZmY9QJqZmZmZGTlAMzMzMzMzP0DNzMzMzMw7QM3MzMzMTDxAZmZmZmZmOUBmZmZmZiZAQAAAAAAAwEBAZmZmZmZmLkBmZmZmZmY\\u002fQDMzMzMzszFAMzMzMzMzLkCamZmZmdlAQJqZmZmZmT5AZmZmZmZmPEAAAAAAAIAxQJqZmZmZmSxAMzMzMzMzOUDNzMzMzEwyQM3MzMzMTDVAZmZmZmbmOUAzMzMzMzMyQM3MzMzMzD9AMzMzMzMzQEAzMzMzMzM9QAAAAAAAgDJAAAAAAACAN0AAAAAAAIA9QJqZmZmZGT9AZmZmZmbmOUDNzMzMzMw2QDMzMzMzszFAmpmZmZkZMUAzMzMzM3NAQJqZmZmZ2UBAzczMzMxMP0CamZmZmRk1QDMzMzMzMzxAZmZmZmZmP0BmZmZmZuYzQJqZmZmZGT1AmpmZmZmZPUAzMzMzMzNAQAAAAAAAAD9AzczMzMxMP0AzMzMzM7M6QAAAAAAAwEBAMzMzMzMzP0CamZmZmRk9QJqZmZmZGUBAzczMzMzMOEBmZmZmZmY3QAAAAAAAgDxAzczMzMxMPkAAAAAAAABAQM3MzMzMzDZAzczMzMzMPUAzMzMzM7M+QDMzMzMzc0BAmpmZmZkZP0DNzMzMzEw2QDMzMzMzMz9AMzMzMzOzPUBmZmZmZmY8QJqZmZmZmTJAmpmZmZmZPkCamZmZmRk+QAAAAAAAgEBAZmZmZmZmQECamZmZmRk6QAAAAAAAAD9AzczMzMzMPkBmZmZmZmYyQJqZmZmZmTtAZmZmZmbmNEAzMzMzM7M\\u002fQGZmZmZm5jZAZmZmZmZmLkCamZmZmZk1QDMzMzMzsz5AAAAAAACAPkAAAAAAAABAQDMzMzMzMzFAZmZmZmbmPkAAAAAAAAAvQGZmZmZm5jhAAAAAAAAAOkDNzMzMzMwvQJqZmZmZGT9AmpmZmZkZPEAzMzMzMzM+QAAAAAAAAEFAmpmZmZmZQEBmZmZmZuY4QAAAAAAAgDJAAAAAAACAQEAAAAAAAIA\\u002fQJqZmZmZWUFAMzMzMzOzP0CamZmZmRk1QM3MzMzMDEBAmpmZmZkZNEDNzMzMzEw5QM3MzMzMzDxAMzMzMzMzLUAzMzMzM7M9QGZmZmZmpkFAmpmZmZmZNEDNzMzMzEw+QJqZmZmZGUFAzczMzMzMJECamZmZmRlAQJqZmZmZGT9AmpmZmZnZQEBmZmZmZmY8QJqZmZmZmS9AmpmZmZmZMkDNzMzMzMw+QGZmZmZmJkBAZmZmZmZmNkBmZmZmZuY8QDMzMzMzsz9AAAAAAACAQECamZmZmRkyQGZmZmZmpkBAZmZmZmbmOEBmZmZmZuYzQGZmZmZm5j5AMzMzMzMzPEAzMzMzMzM9QJqZmZmZGTZAzczMzMxMPUAzMzMzMzMuQGZmZmZmZjNAmpmZmZmZNECamZmZmRk7QJqZmZmZmUBAzczMzMzMO0CamZmZmZk1QJqZmZmZmTZAzczMzMzMPUAzMzMzM7M\\u002fQAAAAAAAAEBAzczMzMxMPkDNzMzMzEw5QDMzMzMzMzxAZmZmZmbmQEAzMzMzM7M\\u002fQJqZmZmZGTpAMzMzMzMzOUDNzMzMzIxBQM3MzMzMTDZAzczMzMxMQEDNzMzMzEw6QM3MzMzMjEFAzczMzMxMM0BmZmZmZuY0QM3MzMzMTDpAZmZmZmbmNEAAAAAAAABAQGZmZmZmJkBAzczMzMzMO0BmZmZmZuY+QJqZmZmZmTRAMzMzMzMzOkCamZmZmZk9QDMzMzMzszRAZmZmZmZmP0BmZmZmZuY5QJqZmZmZmTJAAAAAAAAAQUDNzMzMzEw6QM3MzMzMTDNAmpmZmZkZPkDNzMzMzIxAQDMzMzMzMzBAZmZmZmZmMUBmZmZmZiZAQAAAAAAAAClAmpmZmZnZQEAzMzMzM3NAQDMzMzMzMzhAMzMzMzOzQEAAAAAAAABAQGZmZmZmJkBAAAAAAACANkAzMzMzMzM\\u002fQM3MzMzMTDFAZmZmZmYmQEDNzMzMzEw+QJqZmZmZGThAAAAAAAAAP0AAAAAAAIBAQGZmZmZmZj5AAAAAAACAQEAAAAAAAABAQAAAAAAAgDFAmpmZmZkZN0AAAAAAAAA5QJqZmZmZ2UBAZmZmZmZmP0CamZmZmRk+QDMzMzMzMzlAZmZmZmbmMkCamZmZmZk+QGZmZmZmZkBAmpmZmZkZMUCamZmZmRk3QDMzMzMzMz9AMzMzMzOzP0CamZmZmZk1QGZmZmZmZjRAMzMzMzMzO0AAAAAAAIBAQM3MzMzMzD5AAAAAAAAAPUAzMzMzMzM1QGZmZmZm5jJAmpmZmZkZPUCamZmZmRk9QDMzMzMzsz5AZmZmZmamQEDNzMzMzEw+QJqZmZmZmT5AmpmZmZmZOkCamZmZmZk+QAAAAAAAgDpAMzMzMzMzOUAAAAAAAAAvQDMzMzMzMzdAzczMzMzMPkAzMzMzMzM8QGZmZmZmZjxAZmZmZmbmNkAzMzMzMzM8QM3MzMzMTEBAmpmZmZkZPkDNzMzMzMw+QM3MzMzMTD9AAAAAAAAAQEDNzMzMzMw4QM3MzMzMjEBAzczMzMxMPkCamZmZmZk0QDMzMzMz80BAMzMzMzMzM0AzMzMzMzMxQJqZmZmZmUFAZmZmZmZmPUBmZmZmZiZAQGZmZmZmJkBAAAAAAACANECamZmZmRlAQM3MzMzMjEBAzczMzMxMNUAAAAAAAIAxQAAAAAAAAD9AMzMzMzMzP0DNzMzMzEw4QJqZmZmZmTpAzczMzMxMOEDNzMzMzMw6QGZmZmZmZkBAZmZmZmZmOkBmZmZmZmY8QJqZmZmZGTRAMzMzMzOzPECamZmZmZk0QM3MzMzMzD9AAAAAAAAANUAzMzMzM7M0QM3MzMzMzD5AAAAAAACAOEBmZmZmZqZAQM3MzMzMzCxAMzMzMzMzQECamZmZmZk1QM3MzMzMzDJAZmZmZmbmOEAAAAAAAAA\\u002fQJqZmZmZmUBAzczMzMxMMUBmZmZmZuY\\u002fQDMzMzMzMzdAAAAAAAAAP0AzMzMzMzM\\u002fQAAAAAAAgEFAAAAAAACAMkBmZmZmZmYxQAAAAAAAgDxAMzMzMzMzMkAzMzMzMzNAQAAAAAAAgDtAAAAAAACAQEBmZmZmZmY6QM3MzMzMzDVAAAAAAAAAP0AAAAAAAIAwQGZmZmZm5jxAmpmZmZkZNUBmZmZmZqZAQM3MzMzMzC9AAAAAAACAQECamZmZmRk3QJqZmZmZGTlAmpmZmZkZPUCamZmZmZkuQAAAAAAAADpAZmZmZmbmNECamZmZmZk3QM3MzMzMDEBAZmZmZmZmQUDNzMzMzMw9QDMzMzMzMz1AMzMzMzMzPUBmZmZmZuY2QAAAAAAAgD1AZmZmZmbmNkCamZmZmZk7QAAAAAAAACtAMzMzMzMzPkDNzMzMzEw1QAAAAAAAAD9AmpmZmZmZNEDNzMzMzEw\\u002fQGZmZmZmZjxAMzMzMzMzPEBmZmZmZuY+QDMzMzMzc0BAZmZmZmbmOkAAAAAAAABBQAAAAAAAgDtAzczMzMzMPkCamZmZmZk0QDMzMzMzMzpAzczMzMzMPUAAAAAAAIBAQJqZmZmZmT9AmpmZmZmZPkAzMzMzM7M\\u002fQAAAAAAAgEBAAAAAAACAPUBmZmZmZuYzQM3MzMzMzDlAAAAAAAAAPUAAAAAAAAAtQDMzMzMzsz9AAAAAAACAP0DNzMzMzEw\\u002fQGZmZmZm5jtAmpmZmZmZNEBmZmZmZmZAQJqZmZmZmT5AAAAAAACAN0CamZmZmZk4QM3MzMzMzDhAzczMzMyMQEDNzMzMzEwzQGZmZmZmZjZAzczMzMyMQUAzMzMzM7M9QJqZmZmZmTRAmpmZmZmZP0AzMzMzM7MxQAAAAAAAADJAMzMzMzOzQEBmZmZmZiZAQAAAAAAAADVAmpmZmZkZPkDNzMzMzEw+QAAAAAAAgEBAMzMzMzMzO0AAAAAAAAA6QDMzMzMzs0BAmpmZmZmZP0CamZmZmZk9QJqZmZmZmT5AZmZmZmbmOEAzMzMzMzM2QM3MzMzMzDNAzczMzMxMP0BmZmZmZmY+QM3MzMzMzD5AzczMzMxMOkBmZmZmZmZAQM3MzMzMzDdAzczMzMxMOkDNzMzMzMw8QDMzMzMzMzdAAAAAAACAMEDNzMzMzEw2QGZmZmZm5jJAAAAAAAAAQEBmZmZmZiZAQJqZmZmZmTtAMzMzMzMzMEAAAAAAAAA4QGZmZmZm5jVAmpmZmZkZMUAzMzMzMzMwQM3MzMzMzDhAmpmZmZkZPUAzMzMzM7M8QM3MzMzMTDFAzczMzMxMOUAAAAAAAIBAQJqZmZmZGT9AmpmZmZkZN0BmZmZmZmYxQJqZmZmZmT5AmpmZmZmZNEAAAAAAAIA9QAAAAAAAgDBAAAAAAAAAL0CamZmZmRk0QAAAAAAAgEBAZmZmZmYmQECamZmZmRk\\u002fQDMzMzMzMz9AMzMzMzMzOkBmZmZmZmY\\u002fQJqZmZmZmTpAAAAAAACAPkBmZmZmZmY8QM3MzMzMTDRAzczMzMyMQEAzMzMzM7M6QGZmZmZmpkBAMzMzMzMzP0AzMzMzM7M+QM3MzMzMTDVAMzMzMzOzNUDNzMzMzMw8QDMzMzMzM0FAMzMzMzMzOUAzMzMzMzNAQDMzMzMzsz5AZmZmZmZmO0BmZmZmZqZAQDMzMzMzMzhAZmZmZmZmJkBmZmZmZmY4QGZmZmZmZkBAzczMzMxMOkDNzMzMzMw7QGZmZmZmZjVAMzMzMzOzP0DNzMzMzEw2QM3MzMzMTDVAZmZmZmbmOUAzMzMzM7MwQAAAAAAAADVAZmZmZmbmOUBmZmZmZuY7QGZmZmZmZj9AMzMzMzMzQECamZmZmRlAQJqZmZmZmTFAAAAAAAAAM0DNzMzMzEwzQGZmZmZmZkBAZmZmZmZmPEDNzMzMzMw1QM3MzMzMTDlAMzMzMzMzOkBmZmZmZuY3QDMzMzMzszNAzczMzMxMMECamZmZmZk9QM3MzMzMTDVAmpmZmZmZPEAzMzMzMzMyQM3MzMzMzD5AMzMzMzOzPEAzMzMzMzMzQM3MzMzMzDpAAAAAAACAO0AAAAAAAIA4QJqZmZmZGTVAAAAAAAAAP0DNzMzMzMw+QM3MzMzMzD5AAAAAAACAMkAzMzMzM7NAQJqZmZmZGTpAzczMzMxMO0CamZmZmRk9QM3MzMzMTDVAMzMzMzOzPkDNzMzMzMwyQGZmZmZmZkBAzczMzMxMNUDNzMzMzEwxQDMzMzMzszJAMzMzMzMzNUCamZmZmRk5QDMzMzMzs0BAZmZmZmZmMUDNzMzMzMw8QGZmZmZm5jpAZmZmZmZmNEBmZmZmZuZAQJqZmZmZmTRAzczMzMxMPECamZmZmRlAQJqZmZmZGT1AmpmZmZmZNEBmZmZmZuY\\u002fQAAAAAAAgDNAmpmZmZkZM0DNzMzMzEw1QGZmZmZmZjZAAAAAAAAAQEBmZmZmZmY7QGZmZmZmpkBAZmZmZmZmMkDNzMzMzMw9QAAAAAAAgDtAmpmZmZmZNUAzMzMzMzMyQM3MzMzMzDxAzczMzMxMNEAAAAAAAIA\\u002fQM3MzMzMTEBAMzMzMzOzNkBmZmZmZmY8QJqZmZmZmTBAmpmZmZkZMUAzMzMzM3NAQM3MzMzMjEFAmpmZmZkZMkCamZmZmZkwQJqZmZmZ2UBAZmZmZmZmOEBmZmZmZuY6QAAAAAAAAD9AzczMzMxMMUAAAAAAAIA\\u002fQDMzMzMzMzxAmpmZmZkZMUAAAAAAAAAyQDMzMzMzMz1AMzMzMzOzOEDNzMzMzEw6QAAAAAAAQEBAAAAAAAAAM0BmZmZmZqZAQJqZmZmZmTJAzczMzMxMNkAzMzMzMzM5QAAAAAAAgDBAmpmZmZkZP0CamZmZmZk7QAAAAAAAADNAmpmZmZmZPkAzMzMzM3NAQM3MzMzMzD9AMzMzMzMzO0AAAAAAAIBBQAAAAAAAAEBAZmZmZmbmNEAzMzMzMzNBQGZmZmZm5j9AAAAAAAAAPEAzMzMzM7M6QDMzMzMzMzxAmpmZmZkZPEAAAAAAAIA0QDMzMzMzMzNAZmZmZmbmNUCamZmZmZk8QAAAAAAAAEBAAAAAAAAAOkBmZmZmZmY9QDMzMzMzszBAmpmZmZmZL0CamZmZmZkvQGZmZmZmZjJAZmZmZmZmQEAzMzMzMzMxQJqZmZmZmT5AZmZmZmbmPEAzMzMzM7M+QJqZmZmZmTVAmpmZmZmZMkCamZmZmRk1QJqZmZmZGT1AMzMzMzMzNUAAAAAAAAA1QM3MzMzMzD1AzczMzMyMQEBmZmZmZmY0QGZmZmZmZj1AZmZmZmbmNkAAAAAAAAA9QGZmZmZm5kBAMzMzMzOzO0AzMzMzM7NAQGZmZmZm5jpAzczMzMzMMUAzMzMzMzMtQM3MzMzMTD9AmpmZmZkZNEBmZmZmZmZAQGZmZmZm5jhAzczMzMxMMUDNzMzMzAxAQAAAAAAAgEBAZmZmZmbmOEDNzMzMzEwxQAAAAAAAgDpAmpmZmZmZMkDNzMzMzMw+QAAAAAAAAD5AMzMzMzMzPECamZmZmZk+QGZmZmZmZjBAmpmZmZmZO0CamZmZmZk7QJqZmZmZmT9AzczMzMzMMkAzMzMzMzM5QM3MzMzMTDlAZmZmZmZmN0BmZmZmZmZBQAAAAAAAAD9AzczMzMxMNUCamZmZmZlAQJqZmZmZmT1AAAAAAAAAPkBmZmZmZuY5QAAAAAAAgDFAAAAAAAAAQECamZmZmZk0QAAAAAAAAD9AAAAAAACAM0AzMzMzMzM+QGZmZmZmZjpAZmZmZmbmPEBmZmZmZuY+QAAAAAAAAD9AZmZmZmamQEBmZmZmZuY+QDMzMzMzM0BAmpmZmZmZPECamZmZmRk5QJqZmZmZGUBAMzMzMzOzP0BmZmZmZuY4QAAAAAAAADJAMzMzMzNzQEDNzMzMzEw+QAAAAAAAgDxAmpmZmZmZLUBmZmZmZiZAQDMzMzMz80BAzczMzMxMOUCamZmZmdlAQM3MzMzMTDtAmpmZmZmZNkCamZmZmZk0QGZmZmZmZjxAMzMzMzOzMkCamZmZmRk3QAAAAAAAgDhAzczMzMxMNUDNzMzMzMw5QJqZmZmZmTxAMzMzMzMzMkDNzMzMzEw2QJqZmZmZGTJAZmZmZmbmO0AAAAAAAIBAQJqZmZmZmTFAAAAAAACAMEAzMzMzMzMxQGZmZmZmZjhAZmZmZmYmQECamZmZmRlAQJqZmZmZGTBAzczMzMxMMEDNzMzMzEw6QDMzMzMzMzFAZmZmZmZmNEAzMzMzMzM\\u002fQGZmZmZmZkFAmpmZmZmZP0AzMzMzMzMxQJqZmZmZmTRAAAAAAAAAP0BmZmZmZuY5QDMzMzMzMzdAAAAAAAAAQECamZmZmVlBQM3MzMzMzDpAMzMzMzMzNkCamZmZmZkxQGZmZmZm5jpAmpmZmZkZPkDNzMzMzEw1QJqZmZmZGTtAmpmZmZmZNUAzMzMzM7NBQAAAAAAAgDFAmpmZmZkZP0AzMzMzM7M8QDMzMzMzMz9AzczMzMzMO0AzMzMzM7M\\u002fQM3MzMzMTD9AMzMzMzMzM0AAAAAAAIA1QM3MzMzMzC5AMzMzMzMzQEBmZmZmZmYvQJqZmZmZmUBAAAAAAACAOEAAAAAAAIA+QGZmZmZm5j9AZmZmZmZmPUAzMzMzM3NAQM3MzMzMzD5AMzMzMzMzMUBmZmZmZuY0QJqZmZmZmT5AZmZmZmbmPEAAAAAAAEBAQDMzMzMzszxAZmZmZmbmPEBmZmZmZuY9QGZmZmZm5jhAZmZmZmbmNUAzMzMzMzNBQGZmZmZmZkBAmpmZmZmZPUAzMzMzMzM8QDMzMzMzszJAMzMzMzMzPEAAAAAAAABBQGZmZmZmpkBAZmZmZmbmNEDNzMzMzMw+QDMzMzMzc0BAzczMzMxMOUAAAAAAAAAvQAAAAAAAgDRAZmZmZmZmP0CamZmZmZk\\u002fQJqZmZmZ2UBAMzMzMzMzQEBmZmZmZuY0QDMzMzMzMy9AMzMzMzOzOEBmZmZmZuY8QJqZmZmZGT1AmpmZmZmZPEBmZmZmZuY6QAAAAAAAgEBAmpmZmZmZO0BmZmZmZuY0QGZmZmZm5jxAzczMzMxMMUBmZmZmZmZAQJqZmZmZmT5AZmZmZmamQEAAAAAAAAA\\u002fQDMzMzMzMz5AmpmZmZmZPEBmZmZmZuY5QAAAAAAAADdAzczMzMxMMEAzMzMzMzM8QM3MzMzMjEBAAAAAAAAAPEDNzMzMzEw6QDMzMzMzMzVAzczMzMxMQEDNzMzMzEwwQAAAAAAAgDFAAAAAAACAPEBmZmZmZuYyQJqZmZmZmTRAzczMzMxMP0BmZmZmZuY\\u002fQAAAAAAAAEFAMzMzMzOzPEAzMzMzM7M8QJqZmZmZGTJAMzMzMzMzPkAzMzMzMzM\\u002fQGZmZmZm5jpAMzMzMzMzP0AzMzMzM7M8QGZmZmZm5jdAZmZmZmbmMkBmZmZmZmY9QAAAAAAAgDFAzczMzMxMNUCamZmZmZk5QAAAAAAAgDRAzczMzMzMMEAzMzMzM7M\\u002fQM3MzMzMjEFAAAAAAAAAPUBmZmZmZmYxQAAAAAAAgDBAZmZmZmZmN0BmZmZmZqZAQAAAAAAAgDBAZmZmZmbmOEBmZmZmZuY1QJqZmZmZGTlAzczMzMxMNkAAAAAAAAAvQM3MzMzMjEBAAAAAAACANUCamZmZmRk\\u002fQAAAAAAAAEBAMzMzMzMzQEBmZmZmZuY4QDMzMzMzMz9AAAAAAACAOkDNzMzMzMw4QGZmZmZmZi1AMzMzMzOzN0DNzMzMzMw7QDMzMzMzszpAmpmZmZmZMEDNzMzMzMw4QM3MzMzMTDBAMzMzMzMzP0AzMzMzM3NAQDMzMzMzsztAAAAAAAAAQECamZmZmZk6QJqZmZmZmS5AMzMzMzMzLkDNzMzMzMw7QJqZmZmZGTdAMzMzMzMzQUDNzMzMzEw1QAAAAAAAAD9AMzMzMzOzO0AzMzMzMzNAQDMzMzMzsz5AmpmZmZmZO0BmZmZmZuYwQDMzMzMzMz5AZmZmZmbmO0CamZmZmZlAQJqZmZmZGT1AAAAAAAAAQEAzMzMzM7MwQM3MzMzMDEBAzczMzMxMPkAzMzMzMzM5QDMzMzMzMzlAZmZmZmYmQEDNzMzMzEw5QDMzMzMzMzpAMzMzMzNzQEBmZmZmZmYxQGZmZmZm5jlAzczMzMzMMkBmZmZmZuY7QM3MzMzMzD5AzczMzMxMNkDNzMzMzEw7QM3MzMzMTDVAMzMzMzMzPEAzMzMzMzM\\u002fQJqZmZmZGUFAAAAAAACAMUAzMzMzM7M8QM3MzMzMTDdAzczMzMzMPkDNzMzMzEw\\u002fQJqZmZmZGT1AmpmZmZkZMUAzMzMzM7M\\u002fQM3MzMzMzD9AZmZmZmZmMkBmZmZmZmYzQJqZmZmZGTdAMzMzMzOzPEDNzMzMzMw9QDMzMzMzMzBAzczMzMzMJEBmZmZmZuY\\u002fQGZmZmZmZjxAmpmZmZkZPUBmZmZmZuY0QM3MzMzMzD9AzczMzMxMQEBmZmZmZuY6QM3MzMzMzD9AmpmZmZmZO0AAAAAAAAAxQM3MzMzMDEBAMzMzMzMzOkDNzMzMzMw8QGZmZmZm5jJAmpmZmZmZLkCamZmZmZk\\u002fQGZmZmZm5jxAMzMzMzOzO0DNzMzMzMw2QDMzMzMzMz5AZmZmZmbmPkCamZmZmRk9QGZmZmZm5jRAAAAAAAAAQEAAAAAAAIAxQDMzMzMzszZAMzMzMzMzPEAzMzMzMzM\\u002fQJqZmZmZGTdAzczMzMzMMEAzMzMzM7M+QDMzMzMzMzlAmpmZmZmZPUAAAAAAAAA7QGZmZmZm5kBAAAAAAACAQEBmZmZmZqZAQDMzMzMzMz1AzczMzMxMNEBmZmZmZqZAQGZmZmZmZjFAzczMzMxMOEAAAAAAAAA3QGZmZmZmpkBAAAAAAACAQECamZmZmZkvQM3MzMzMTDZAAAAAAAAAPEDNzMzMzMw7QJqZmZmZGT9AzczMzMzMMUBmZmZmZmY6QJqZmZmZGTZAzczMzMzMOkAzMzMzM7M\\u002fQM3MzMzMTDRAMzMzMzMzM0BmZmZmZuY8QGZmZmZm5jJAmpmZmZkZQECamZmZmZkyQJqZmZmZmTJAzczMzMzMOkCamZmZmRk5QJqZmZmZmTtAMzMzMzMzMEAzMzMzMzM8QJqZmZmZmTxAmpmZmZmZPUBmZmZmZmY9QM3MzMzMTDpAZmZmZmbmNUCamZmZmZlAQM3MzMzMTDVAAAAAAACANUBmZmZmZiZAQM3MzMzMTDtAZmZmZmZmP0CamZmZmRk7QM3MzMzMzD5AmpmZmZkZO0AzMzMzMzM\\u002fQJqZmZmZGT1AZmZmZmZmQEAAAAAAAAA\\u002fQAAAAAAAgD5AmpmZmZmZL0AzMzMzMzMwQJqZmZmZmTxAAAAAAAAAP0CamZmZmZk+QGZmZmZm5j1AZmZmZmbmO0DNzMzMzEw0QAAAAAAAgDpAmpmZmZkZPEAzMzMzMzM7QDMzMzMzc0BAmpmZmZnZQEAzMzMzM7M\\u002fQM3MzMzMzD9AAAAAAAAAN0AzMzMzMzM6QM3MzMzMTDlAZmZmZmamQECamZmZmRk6QM3MzMzMzDpAzczMzMxMNkAzMzMzMzMxQJqZmZmZmThAZmZmZmamQEBmZmZmZmY+QDMzMzMzMydAmpmZmZmZPECamZmZmdlAQDMzMzMzsztAZmZmZmamQEAAAAAAAAA+QDMzMzMzMzlAZmZmZmbmNEAzMzMzM3NAQGZmZmZmZj9AmpmZmZmZOkCamZmZmZk6QDMzMzMzsz1AZmZmZmZmPkCamZmZmRkyQAAAAAAAADJAmpmZmZmZMUAzMzMzMzM6QDMzMzMzMzpAmpmZmZmZM0AAAAAAAIA+QGZmZmZmZj9AzczMzMzML0DNzMzMzIxAQM3MzMzMTDRAZmZmZmbmQECamZmZmRk8QA==\"},\"yaxis\":\"y\",\"type\":\"scattergl\"}],                        {\"template\":{\"data\":{\"histogram2dcontour\":[{\"type\":\"histogram2dcontour\",\"colorbar\":{\"outlinewidth\":0,\"ticks\":\"\"},\"colorscale\":[[0.0,\"#0d0887\"],[0.1111111111111111,\"#46039f\"],[0.2222222222222222,\"#7201a8\"],[0.3333333333333333,\"#9c179e\"],[0.4444444444444444,\"#bd3786\"],[0.5555555555555556,\"#d8576b\"],[0.6666666666666666,\"#ed7953\"],[0.7777777777777778,\"#fb9f3a\"],[0.8888888888888888,\"#fdca26\"],[1.0,\"#f0f921\"]]}],\"choropleth\":[{\"type\":\"choropleth\",\"colorbar\":{\"outlinewidth\":0,\"ticks\":\"\"}}],\"histogram2d\":[{\"type\":\"histogram2d\",\"colorbar\":{\"outlinewidth\":0,\"ticks\":\"\"},\"colorscale\":[[0.0,\"#0d0887\"],[0.1111111111111111,\"#46039f\"],[0.2222222222222222,\"#7201a8\"],[0.3333333333333333,\"#9c179e\"],[0.4444444444444444,\"#bd3786\"],[0.5555555555555556,\"#d8576b\"],[0.6666666666666666,\"#ed7953\"],[0.7777777777777778,\"#fb9f3a\"],[0.8888888888888888,\"#fdca26\"],[1.0,\"#f0f921\"]]}],\"heatmap\":[{\"type\":\"heatmap\",\"colorbar\":{\"outlinewidth\":0,\"ticks\":\"\"},\"colorscale\":[[0.0,\"#0d0887\"],[0.1111111111111111,\"#46039f\"],[0.2222222222222222,\"#7201a8\"],[0.3333333333333333,\"#9c179e\"],[0.4444444444444444,\"#bd3786\"],[0.5555555555555556,\"#d8576b\"],[0.6666666666666666,\"#ed7953\"],[0.7777777777777778,\"#fb9f3a\"],[0.8888888888888888,\"#fdca26\"],[1.0,\"#f0f921\"]]}],\"contourcarpet\":[{\"type\":\"contourcarpet\",\"colorbar\":{\"outlinewidth\":0,\"ticks\":\"\"}}],\"contour\":[{\"type\":\"contour\",\"colorbar\":{\"outlinewidth\":0,\"ticks\":\"\"},\"colorscale\":[[0.0,\"#0d0887\"],[0.1111111111111111,\"#46039f\"],[0.2222222222222222,\"#7201a8\"],[0.3333333333333333,\"#9c179e\"],[0.4444444444444444,\"#bd3786\"],[0.5555555555555556,\"#d8576b\"],[0.6666666666666666,\"#ed7953\"],[0.7777777777777778,\"#fb9f3a\"],[0.8888888888888888,\"#fdca26\"],[1.0,\"#f0f921\"]]}],\"surface\":[{\"type\":\"surface\",\"colorbar\":{\"outlinewidth\":0,\"ticks\":\"\"},\"colorscale\":[[0.0,\"#0d0887\"],[0.1111111111111111,\"#46039f\"],[0.2222222222222222,\"#7201a8\"],[0.3333333333333333,\"#9c179e\"],[0.4444444444444444,\"#bd3786\"],[0.5555555555555556,\"#d8576b\"],[0.6666666666666666,\"#ed7953\"],[0.7777777777777778,\"#fb9f3a\"],[0.8888888888888888,\"#fdca26\"],[1.0,\"#f0f921\"]]}],\"mesh3d\":[{\"type\":\"mesh3d\",\"colorbar\":{\"outlinewidth\":0,\"ticks\":\"\"}}],\"scatter\":[{\"fillpattern\":{\"fillmode\":\"overlay\",\"size\":10,\"solidity\":0.2},\"type\":\"scatter\"}],\"parcoords\":[{\"type\":\"parcoords\",\"line\":{\"colorbar\":{\"outlinewidth\":0,\"ticks\":\"\"}}}],\"scatterpolargl\":[{\"type\":\"scatterpolargl\",\"marker\":{\"colorbar\":{\"outlinewidth\":0,\"ticks\":\"\"}}}],\"bar\":[{\"error_x\":{\"color\":\"#2a3f5f\"},\"error_y\":{\"color\":\"#2a3f5f\"},\"marker\":{\"line\":{\"color\":\"#E5ECF6\",\"width\":0.5},\"pattern\":{\"fillmode\":\"overlay\",\"size\":10,\"solidity\":0.2}},\"type\":\"bar\"}],\"scattergeo\":[{\"type\":\"scattergeo\",\"marker\":{\"colorbar\":{\"outlinewidth\":0,\"ticks\":\"\"}}}],\"scatterpolar\":[{\"type\":\"scatterpolar\",\"marker\":{\"colorbar\":{\"outlinewidth\":0,\"ticks\":\"\"}}}],\"histogram\":[{\"marker\":{\"pattern\":{\"fillmode\":\"overlay\",\"size\":10,\"solidity\":0.2}},\"type\":\"histogram\"}],\"scattergl\":[{\"type\":\"scattergl\",\"marker\":{\"colorbar\":{\"outlinewidth\":0,\"ticks\":\"\"}}}],\"scatter3d\":[{\"type\":\"scatter3d\",\"line\":{\"colorbar\":{\"outlinewidth\":0,\"ticks\":\"\"}},\"marker\":{\"colorbar\":{\"outlinewidth\":0,\"ticks\":\"\"}}}],\"scattermap\":[{\"type\":\"scattermap\",\"marker\":{\"colorbar\":{\"outlinewidth\":0,\"ticks\":\"\"}}}],\"scattermapbox\":[{\"type\":\"scattermapbox\",\"marker\":{\"colorbar\":{\"outlinewidth\":0,\"ticks\":\"\"}}}],\"scatterternary\":[{\"type\":\"scatterternary\",\"marker\":{\"colorbar\":{\"outlinewidth\":0,\"ticks\":\"\"}}}],\"scattercarpet\":[{\"type\":\"scattercarpet\",\"marker\":{\"colorbar\":{\"outlinewidth\":0,\"ticks\":\"\"}}}],\"carpet\":[{\"aaxis\":{\"endlinecolor\":\"#2a3f5f\",\"gridcolor\":\"white\",\"linecolor\":\"white\",\"minorgridcolor\":\"white\",\"startlinecolor\":\"#2a3f5f\"},\"baxis\":{\"endlinecolor\":\"#2a3f5f\",\"gridcolor\":\"white\",\"linecolor\":\"white\",\"minorgridcolor\":\"white\",\"startlinecolor\":\"#2a3f5f\"},\"type\":\"carpet\"}],\"table\":[{\"cells\":{\"fill\":{\"color\":\"#EBF0F8\"},\"line\":{\"color\":\"white\"}},\"header\":{\"fill\":{\"color\":\"#C8D4E3\"},\"line\":{\"color\":\"white\"}},\"type\":\"table\"}],\"barpolar\":[{\"marker\":{\"line\":{\"color\":\"#E5ECF6\",\"width\":0.5},\"pattern\":{\"fillmode\":\"overlay\",\"size\":10,\"solidity\":0.2}},\"type\":\"barpolar\"}],\"pie\":[{\"automargin\":true,\"type\":\"pie\"}]},\"layout\":{\"autotypenumbers\":\"strict\",\"colorway\":[\"#636efa\",\"#EF553B\",\"#00cc96\",\"#ab63fa\",\"#FFA15A\",\"#19d3f3\",\"#FF6692\",\"#B6E880\",\"#FF97FF\",\"#FECB52\"],\"font\":{\"color\":\"#2a3f5f\"},\"hovermode\":\"closest\",\"hoverlabel\":{\"align\":\"left\"},\"paper_bgcolor\":\"white\",\"plot_bgcolor\":\"#E5ECF6\",\"polar\":{\"bgcolor\":\"#E5ECF6\",\"angularaxis\":{\"gridcolor\":\"white\",\"linecolor\":\"white\",\"ticks\":\"\"},\"radialaxis\":{\"gridcolor\":\"white\",\"linecolor\":\"white\",\"ticks\":\"\"}},\"ternary\":{\"bgcolor\":\"#E5ECF6\",\"aaxis\":{\"gridcolor\":\"white\",\"linecolor\":\"white\",\"ticks\":\"\"},\"baxis\":{\"gridcolor\":\"white\",\"linecolor\":\"white\",\"ticks\":\"\"},\"caxis\":{\"gridcolor\":\"white\",\"linecolor\":\"white\",\"ticks\":\"\"}},\"coloraxis\":{\"colorbar\":{\"outlinewidth\":0,\"ticks\":\"\"}},\"colorscale\":{\"sequential\":[[0.0,\"#0d0887\"],[0.1111111111111111,\"#46039f\"],[0.2222222222222222,\"#7201a8\"],[0.3333333333333333,\"#9c179e\"],[0.4444444444444444,\"#bd3786\"],[0.5555555555555556,\"#d8576b\"],[0.6666666666666666,\"#ed7953\"],[0.7777777777777778,\"#fb9f3a\"],[0.8888888888888888,\"#fdca26\"],[1.0,\"#f0f921\"]],\"sequentialminus\":[[0.0,\"#0d0887\"],[0.1111111111111111,\"#46039f\"],[0.2222222222222222,\"#7201a8\"],[0.3333333333333333,\"#9c179e\"],[0.4444444444444444,\"#bd3786\"],[0.5555555555555556,\"#d8576b\"],[0.6666666666666666,\"#ed7953\"],[0.7777777777777778,\"#fb9f3a\"],[0.8888888888888888,\"#fdca26\"],[1.0,\"#f0f921\"]],\"diverging\":[[0,\"#8e0152\"],[0.1,\"#c51b7d\"],[0.2,\"#de77ae\"],[0.3,\"#f1b6da\"],[0.4,\"#fde0ef\"],[0.5,\"#f7f7f7\"],[0.6,\"#e6f5d0\"],[0.7,\"#b8e186\"],[0.8,\"#7fbc41\"],[0.9,\"#4d9221\"],[1,\"#276419\"]]},\"xaxis\":{\"gridcolor\":\"white\",\"linecolor\":\"white\",\"ticks\":\"\",\"title\":{\"standoff\":15},\"zerolinecolor\":\"white\",\"automargin\":true,\"zerolinewidth\":2},\"yaxis\":{\"gridcolor\":\"white\",\"linecolor\":\"white\",\"ticks\":\"\",\"title\":{\"standoff\":15},\"zerolinecolor\":\"white\",\"automargin\":true,\"zerolinewidth\":2},\"scene\":{\"xaxis\":{\"backgroundcolor\":\"#E5ECF6\",\"gridcolor\":\"white\",\"linecolor\":\"white\",\"showbackground\":true,\"ticks\":\"\",\"zerolinecolor\":\"white\",\"gridwidth\":2},\"yaxis\":{\"backgroundcolor\":\"#E5ECF6\",\"gridcolor\":\"white\",\"linecolor\":\"white\",\"showbackground\":true,\"ticks\":\"\",\"zerolinecolor\":\"white\",\"gridwidth\":2},\"zaxis\":{\"backgroundcolor\":\"#E5ECF6\",\"gridcolor\":\"white\",\"linecolor\":\"white\",\"showbackground\":true,\"ticks\":\"\",\"zerolinecolor\":\"white\",\"gridwidth\":2}},\"shapedefaults\":{\"line\":{\"color\":\"#2a3f5f\"}},\"annotationdefaults\":{\"arrowcolor\":\"#2a3f5f\",\"arrowhead\":0,\"arrowwidth\":1},\"geo\":{\"bgcolor\":\"white\",\"landcolor\":\"#E5ECF6\",\"subunitcolor\":\"white\",\"showland\":true,\"showlakes\":true,\"lakecolor\":\"white\"},\"title\":{\"x\":0.05},\"mapbox\":{\"style\":\"light\"}}},\"xaxis\":{\"anchor\":\"y\",\"domain\":[0.0,1.0],\"title\":{\"text\":\"mintemp\"}},\"yaxis\":{\"anchor\":\"x\",\"domain\":[0.0,1.0],\"title\":{\"text\":\"maxtemp\"}},\"coloraxis\":{\"colorbar\":{\"title\":{\"text\":\"rainfall\"}},\"colorscale\":[[0.0,\"#0d0887\"],[0.1111111111111111,\"#46039f\"],[0.2222222222222222,\"#7201a8\"],[0.3333333333333333,\"#9c179e\"],[0.4444444444444444,\"#bd3786\"],[0.5555555555555556,\"#d8576b\"],[0.6666666666666666,\"#ed7953\"],[0.7777777777777778,\"#fb9f3a\"],[0.8888888888888888,\"#fdca26\"],[1.0,\"#f0f921\"]]},\"legend\":{\"tracegroupgap\":0},\"title\":{\"text\":\"Min Temp. vs Max Temp.\"}},                        {\"responsive\": true}                    )                };            </script>        </div>"
      ],
      "text/plain": [
       "Figure({\n",
       "    'data': [{'hovertemplate': 'mintemp=%{x}<br>maxtemp=%{y}<br>rainfall=%{marker.color}<extra></extra>',\n",
       "              'legendgroup': '',\n",
       "              'marker': {'color': {'bdata': ('AQEAAQAAAAEBAQEAAQABAQEBAQABAA' ... 'EAAQEBAQEBAQAAAQEBAQEBAQEBAQE='),\n",
       "                                   'dtype': 'i1'},\n",
       "                         'coloraxis': 'coloraxis',\n",
       "                         'symbol': 'circle'},\n",
       "              'mode': 'markers',\n",
       "              'name': '',\n",
       "              'showlegend': False,\n",
       "              'type': 'scattergl',\n",
       "              'x': {'bdata': ('ZmZmZmbmOkCamZmZmZkuQDMzMzMzMy' ... 'zMzDFAAAAAAAAAPEBmZmZmZmY5QA=='),\n",
       "                    'dtype': 'f8'},\n",
       "              'xaxis': 'x',\n",
       "              'y': {'bdata': ('AAAAAAAAP0DNzMzMzEw1QM3MzMzMTD' ... 'zMTDRAZmZmZmbmQECamZmZmRk8QA=='),\n",
       "                    'dtype': 'f8'},\n",
       "              'yaxis': 'y'}],\n",
       "    'layout': {'coloraxis': {'colorbar': {'title': {'text': 'rainfall'}},\n",
       "                             'colorscale': [[0.0, '#0d0887'], [0.1111111111111111,\n",
       "                                            '#46039f'], [0.2222222222222222,\n",
       "                                            '#7201a8'], [0.3333333333333333,\n",
       "                                            '#9c179e'], [0.4444444444444444,\n",
       "                                            '#bd3786'], [0.5555555555555556,\n",
       "                                            '#d8576b'], [0.6666666666666666,\n",
       "                                            '#ed7953'], [0.7777777777777778,\n",
       "                                            '#fb9f3a'], [0.8888888888888888,\n",
       "                                            '#fdca26'], [1.0, '#f0f921']]},\n",
       "               'legend': {'tracegroupgap': 0},\n",
       "               'template': '...',\n",
       "               'title': {'text': 'Min Temp. vs Max Temp.'},\n",
       "               'xaxis': {'anchor': 'y', 'domain': [0.0, 1.0], 'title': {'text': 'mintemp'}},\n",
       "               'yaxis': {'anchor': 'x', 'domain': [0.0, 1.0], 'title': {'text': 'maxtemp'}}}\n",
       "})"
      ]
     },
     "execution_count": 7,
     "metadata": {},
     "output_type": "execute_result"
    }
   ],
   "source": [
    "px.scatter(train_df.sample(2000),\n",
    "          title = 'Min Temp. vs Max Temp.',\n",
    "          x = 'mintemp',\n",
    "          y = 'maxtemp',\n",
    "          color = 'rainfall')"
   ]
  },
  {
   "cell_type": "code",
   "execution_count": 9,
   "metadata": {},
   "outputs": [
    {
     "ename": "ValueError",
     "evalue": "Mime type rendering requires nbformat>=4.2.0 but it is not installed",
     "output_type": "error",
     "traceback": [
      "\u001b[31m---------------------------------------------------------------------------\u001b[39m",
      "\u001b[31mValueError\u001b[39m                                Traceback (most recent call last)",
      "\u001b[36mFile \u001b[39m\u001b[32mf:\\CodingEtAl\\ML and AI\\ML\\competition\\binary-rainfall-prediction\\.venv\\Lib\\site-packages\\IPython\\core\\formatters.py:984\u001b[39m, in \u001b[36mIPythonDisplayFormatter.__call__\u001b[39m\u001b[34m(self, obj)\u001b[39m\n\u001b[32m    982\u001b[39m method = get_real_method(obj, \u001b[38;5;28mself\u001b[39m.print_method)\n\u001b[32m    983\u001b[39m \u001b[38;5;28;01mif\u001b[39;00m method \u001b[38;5;129;01mis\u001b[39;00m \u001b[38;5;129;01mnot\u001b[39;00m \u001b[38;5;28;01mNone\u001b[39;00m:\n\u001b[32m--> \u001b[39m\u001b[32m984\u001b[39m     \u001b[43mmethod\u001b[49m\u001b[43m(\u001b[49m\u001b[43m)\u001b[49m\n\u001b[32m    985\u001b[39m     \u001b[38;5;28;01mreturn\u001b[39;00m \u001b[38;5;28;01mTrue\u001b[39;00m\n",
      "\u001b[36mFile \u001b[39m\u001b[32mf:\\CodingEtAl\\ML and AI\\ML\\competition\\binary-rainfall-prediction\\.venv\\Lib\\site-packages\\plotly\\basedatatypes.py:833\u001b[39m, in \u001b[36mBaseFigure._ipython_display_\u001b[39m\u001b[34m(self)\u001b[39m\n\u001b[32m    830\u001b[39m \u001b[38;5;28;01mimport\u001b[39;00m\u001b[38;5;250m \u001b[39m\u001b[34;01mplotly\u001b[39;00m\u001b[34;01m.\u001b[39;00m\u001b[34;01mio\u001b[39;00m\u001b[38;5;250m \u001b[39m\u001b[38;5;28;01mas\u001b[39;00m\u001b[38;5;250m \u001b[39m\u001b[34;01mpio\u001b[39;00m\n\u001b[32m    832\u001b[39m \u001b[38;5;28;01mif\u001b[39;00m pio.renderers.render_on_display \u001b[38;5;129;01mand\u001b[39;00m pio.renderers.default:\n\u001b[32m--> \u001b[39m\u001b[32m833\u001b[39m     \u001b[43mpio\u001b[49m\u001b[43m.\u001b[49m\u001b[43mshow\u001b[49m\u001b[43m(\u001b[49m\u001b[38;5;28;43mself\u001b[39;49m\u001b[43m)\u001b[49m\n\u001b[32m    834\u001b[39m \u001b[38;5;28;01melse\u001b[39;00m:\n\u001b[32m    835\u001b[39m     \u001b[38;5;28mprint\u001b[39m(\u001b[38;5;28mrepr\u001b[39m(\u001b[38;5;28mself\u001b[39m))\n",
      "\u001b[36mFile \u001b[39m\u001b[32mf:\\CodingEtAl\\ML and AI\\ML\\competition\\binary-rainfall-prediction\\.venv\\Lib\\site-packages\\plotly\\io\\_renderers.py:425\u001b[39m, in \u001b[36mshow\u001b[39m\u001b[34m(fig, renderer, validate, **kwargs)\u001b[39m\n\u001b[32m    420\u001b[39m     \u001b[38;5;28;01mraise\u001b[39;00m \u001b[38;5;167;01mValueError\u001b[39;00m(\n\u001b[32m    421\u001b[39m         \u001b[33m\"\u001b[39m\u001b[33mMime type rendering requires ipython but it is not installed\u001b[39m\u001b[33m\"\u001b[39m\n\u001b[32m    422\u001b[39m     )\n\u001b[32m    424\u001b[39m \u001b[38;5;28;01mif\u001b[39;00m \u001b[38;5;129;01mnot\u001b[39;00m nbformat \u001b[38;5;129;01mor\u001b[39;00m Version(nbformat.__version__) < Version(\u001b[33m\"\u001b[39m\u001b[33m4.2.0\u001b[39m\u001b[33m\"\u001b[39m):\n\u001b[32m--> \u001b[39m\u001b[32m425\u001b[39m     \u001b[38;5;28;01mraise\u001b[39;00m \u001b[38;5;167;01mValueError\u001b[39;00m(\n\u001b[32m    426\u001b[39m         \u001b[33m\"\u001b[39m\u001b[33mMime type rendering requires nbformat>=4.2.0 but it is not installed\u001b[39m\u001b[33m\"\u001b[39m\n\u001b[32m    427\u001b[39m     )\n\u001b[32m    429\u001b[39m display_jupyter_version_warnings()\n\u001b[32m    431\u001b[39m ipython_display.display(bundle, raw=\u001b[38;5;28;01mTrue\u001b[39;00m)\n",
      "\u001b[31mValueError\u001b[39m: Mime type rendering requires nbformat>=4.2.0 but it is not installed"
     ]
    },
    {
     "data": {
      "application/vnd.plotly.v1+json": {
       "config": {
        "plotlyServerURL": "https://plot.ly"
       },
       "data": [
        {
         "hovertemplate": "temparature=%{x}<br>humidity=%{y}<br>rainfall=%{marker.color}<extra></extra>",
         "legendgroup": "",
         "marker": {
          "color": {
           "bdata": "AQEBAQEAAQEAAQEAAQEBAQEAAQEAAQEBAAEBAQEBAQEBAQEBAQEBAQABAQEBAQEBAQEBAQEBAQEBAAEBAQAAAQEBAQABAAEBAQEAAAEBAQABAQABAQAAAQEBAQABAQEBAQEBAAEBAAEAAQABAQEAAQEBAQEBAQEBAQABAQEBAQABAQEBAQEBAQABAQABAAEBAAAAAAEBAQEBAQEBAQAAAQEBAQEAAQEBAQEBAQABAQEBAAEBAQEBAQEBAAEBAQABAQEAAQEBAQEAAAEAAQEAAQEBAQEAAQEAAAEBAQEAAQABAQEAAQEBAQEBAQEBAAEBAQEBAAEBAQEBAQAAAAEBAQEBAAEAAQEBAQEAAQEAAQEAAQABAQAAAAEBAAAAAQEAAQABAAEBAQABAAEBAQABAQAAAQEBAQEBAQEBAQEAAQEBAQEBAQEAAQEBAQEBAQEBAQEBAQABAAABAQEBAQABAAABAQEAAAEAAQABAAEBAQAAAQEBAAABAAAAAQEAAQEBAQEBAAEAAQEBAAAAAQEBAQEBAQEBAAEBAAEBAQEBAAEBAQEBAQABAQEBAQEAAQEBAQEBAQEBAQEBAAEBAQEBAQEBAQEBAQABAQABAAEAAQEBAQEBAQABAAEBAQEAAAEBAQEBAAABAAEBAQABAAABAAEBAQEAAQEAAQEBAQEBAQEAAQEBAQEBAQABAQEBAAAAAQABAQABAQEBAAEBAQEAAQABAQEBAAEBAQEBAQEBAQEBAAEBAQABAAEBAAEBAQEBAAEBAAEBAAEBAQABAQEBAQABAQABAQEBAAEBAAABAQEBAAAAAQEBAAEBAQEBAQEAAQABAAABAQABAQEBAQEBAQEBAQEAAQABAQEBAQEBAQEBAQABAAABAQEAAAEAAQEAAQABAQAAAQEBAQEBAQEBAQEBAQEBAQABAAABAQEBAQEBAAABAQEAAQEBAAEBAQEAAQEAAQEBAQABAQEBAAEBAQEBAQEAAQEBAQABAAEBAQEBAQAAAAEBAQABAQEBAQEAAQEBAQEBAQEBAAEBAQABAQEBAAEAAQEAAQAAAAABAQEBAQAAAQEAAQEBAQABAQEAAAABAAAAAQEBAQEBAQABAAEBAQEAAQEBAQEBAQEAAQEBAQEAAQEBAQABAQEAAQEAAQEBAQEBAQABAQEBAQEBAAEBAQEBAQABAQEBAAEAAQEBAQEBAQEBAAEBAQEBAQEAAQEBAAEBAQEBAAEBAAABAQEBAQABAAEBAAABAQEBAAEBAQEBAQEBAAEBAQEBAQEAAQABAAEAAQEBAQABAQEAAQAAAQEAAAEBAQEAAQEAAQABAQEBAQEBAAEBAAEBAQEBAQEBAQEBAQEBAQEBAQEBAQEBAQEBAQEBAAEBAAEBAAABAQEBAQEBAAEBAQEBAQEAAAEBAQABAQAAAQEBAQEBAQEBAAEBAAEAAQEBAQEAAQABAQEBAQAAAAEBAQEBAAEAAQEAAQAAAQEBAQEBAQEAAQEBAQEBAQEBAQEAAQABAQEBAQABAQEBAQEBAQEBAQEBAQEBAQABAAEBAQABAAEBAAABAQEBAQABAQABAQEBAQEBAAEAAQEAAQEBAQEAAAABAQEAAQEBAQEBAQAAAQEBAQABAAEBAAEBAQABAQABAQABAQABAQEBAAEBAQEBAQEBAQEAAAEBAQABAAEAAAABAQABAQABAQEBAQEBAQEBAAABAQABAQEBAQEBAQEAAQEAAQEBAAEBAQEBAQEBAQEBAQEBAQEAAQEBAQABAAEBAQABAQEBAAEAAAEBAQAAAAEAAQEBAAEBAAABAQEAAQAAAAABAQEBAAEBAAEAAQEBAQEBAQABAAABAQABAQEBAQEBAQABAQABAQEAAQEAAQEAAQEAAAEBAQEBAQEBAQEBAQEBAQEBAAEBAQEBAAEBAAEBAQEBAQEBAQABAAEBAQEBAAABAAEAAQEAAQEBAAEBAQEBAQEBAQEBAQABAQEAAQABAQEBAQABAQEBAQEBAQEBAQAAAAEBAAEBAQEBAQEBAAEBAQABAAEBAQEAAQEAAQEBAAEAAQEAAQAAAQEBAQEAAAABAQABAQEBAQEBAQEAAQEBAAEBAQEBAQEBAQEBAQEBAQEBAQEBAQAAAQEBAQEBAQEAAAEBAQEBAAEBAQEBAQEBAQEBAQEBAQEBAAEAAQEBAQABAAEBAAEAAAEBAAEAAQEBAQEBAQAAAQEAAQEBAQEBAQEBAAEAAQEAAAEBAQEBAQABAQEBAQEAAQEBAAEBAAEBAQEBAQEBAQEBAAEBAQEBAQEBAAEBAQEBAAABAQEBAQEAAQEAAQEBAQEBAQEBAQEAAQEBAQABAQABAQABAQEAAQABAQEAAAEBAQEBAQEAAQAAAQEAAQEAAQAAAQABAQEAAQEBAQEBAAEAAQEBAQABAAEBAQEBAQABAQAAAQEAAAEAAQEAAQABAQEBAQEBAQEBAQEBAAEAAQEAAQEAAQEAAQEBAQABAAEBAAEBAQABAQAAAQAAAQEAAQEBAQABAQABAQEBAAEBAQEAAQEBAAEAAQEAAAAAAQABAAEBAQEBAQAAAQEBAQEBAQEBAAEBAAEBAQEBAQEBAQEBAQAAAAEBAAABAQAAAQEBAQEBAAEBAQEBAQEAAQEBAQEBAAEBAQEBAQABAQEBAAABAQABAQE=",
           "dtype": "i1"
          },
          "coloraxis": "coloraxis",
          "symbol": "circle"
         },
         "mode": "markers",
         "name": "",
         "showlegend": false,
         "type": "scattergl",
         "x": {
          "bdata": "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",
          "dtype": "f8"
         },
         "xaxis": "x",
         "y": {
          "bdata": "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",
          "dtype": "f8"
         },
         "yaxis": "y"
        }
       ],
       "layout": {
        "coloraxis": {
         "colorbar": {
          "title": {
           "text": "rainfall"
          }
         },
         "colorscale": [
          [
           0,
           "#0d0887"
          ],
          [
           0.1111111111111111,
           "#46039f"
          ],
          [
           0.2222222222222222,
           "#7201a8"
          ],
          [
           0.3333333333333333,
           "#9c179e"
          ],
          [
           0.4444444444444444,
           "#bd3786"
          ],
          [
           0.5555555555555556,
           "#d8576b"
          ],
          [
           0.6666666666666666,
           "#ed7953"
          ],
          [
           0.7777777777777778,
           "#fb9f3a"
          ],
          [
           0.8888888888888888,
           "#fdca26"
          ],
          [
           1,
           "#f0f921"
          ]
         ]
        },
        "legend": {
         "tracegroupgap": 0
        },
        "template": {
         "data": {
          "bar": [
           {
            "error_x": {
             "color": "#2a3f5f"
            },
            "error_y": {
             "color": "#2a3f5f"
            },
            "marker": {
             "line": {
              "color": "#E5ECF6",
              "width": 0.5
             },
             "pattern": {
              "fillmode": "overlay",
              "size": 10,
              "solidity": 0.2
             }
            },
            "type": "bar"
           }
          ],
          "barpolar": [
           {
            "marker": {
             "line": {
              "color": "#E5ECF6",
              "width": 0.5
             },
             "pattern": {
              "fillmode": "overlay",
              "size": 10,
              "solidity": 0.2
             }
            },
            "type": "barpolar"
           }
          ],
          "carpet": [
           {
            "aaxis": {
             "endlinecolor": "#2a3f5f",
             "gridcolor": "white",
             "linecolor": "white",
             "minorgridcolor": "white",
             "startlinecolor": "#2a3f5f"
            },
            "baxis": {
             "endlinecolor": "#2a3f5f",
             "gridcolor": "white",
             "linecolor": "white",
             "minorgridcolor": "white",
             "startlinecolor": "#2a3f5f"
            },
            "type": "carpet"
           }
          ],
          "choropleth": [
           {
            "colorbar": {
             "outlinewidth": 0,
             "ticks": ""
            },
            "type": "choropleth"
           }
          ],
          "contour": [
           {
            "colorbar": {
             "outlinewidth": 0,
             "ticks": ""
            },
            "colorscale": [
             [
              0,
              "#0d0887"
             ],
             [
              0.1111111111111111,
              "#46039f"
             ],
             [
              0.2222222222222222,
              "#7201a8"
             ],
             [
              0.3333333333333333,
              "#9c179e"
             ],
             [
              0.4444444444444444,
              "#bd3786"
             ],
             [
              0.5555555555555556,
              "#d8576b"
             ],
             [
              0.6666666666666666,
              "#ed7953"
             ],
             [
              0.7777777777777778,
              "#fb9f3a"
             ],
             [
              0.8888888888888888,
              "#fdca26"
             ],
             [
              1,
              "#f0f921"
             ]
            ],
            "type": "contour"
           }
          ],
          "contourcarpet": [
           {
            "colorbar": {
             "outlinewidth": 0,
             "ticks": ""
            },
            "type": "contourcarpet"
           }
          ],
          "heatmap": [
           {
            "colorbar": {
             "outlinewidth": 0,
             "ticks": ""
            },
            "colorscale": [
             [
              0,
              "#0d0887"
             ],
             [
              0.1111111111111111,
              "#46039f"
             ],
             [
              0.2222222222222222,
              "#7201a8"
             ],
             [
              0.3333333333333333,
              "#9c179e"
             ],
             [
              0.4444444444444444,
              "#bd3786"
             ],
             [
              0.5555555555555556,
              "#d8576b"
             ],
             [
              0.6666666666666666,
              "#ed7953"
             ],
             [
              0.7777777777777778,
              "#fb9f3a"
             ],
             [
              0.8888888888888888,
              "#fdca26"
             ],
             [
              1,
              "#f0f921"
             ]
            ],
            "type": "heatmap"
           }
          ],
          "histogram": [
           {
            "marker": {
             "pattern": {
              "fillmode": "overlay",
              "size": 10,
              "solidity": 0.2
             }
            },
            "type": "histogram"
           }
          ],
          "histogram2d": [
           {
            "colorbar": {
             "outlinewidth": 0,
             "ticks": ""
            },
            "colorscale": [
             [
              0,
              "#0d0887"
             ],
             [
              0.1111111111111111,
              "#46039f"
             ],
             [
              0.2222222222222222,
              "#7201a8"
             ],
             [
              0.3333333333333333,
              "#9c179e"
             ],
             [
              0.4444444444444444,
              "#bd3786"
             ],
             [
              0.5555555555555556,
              "#d8576b"
             ],
             [
              0.6666666666666666,
              "#ed7953"
             ],
             [
              0.7777777777777778,
              "#fb9f3a"
             ],
             [
              0.8888888888888888,
              "#fdca26"
             ],
             [
              1,
              "#f0f921"
             ]
            ],
            "type": "histogram2d"
           }
          ],
          "histogram2dcontour": [
           {
            "colorbar": {
             "outlinewidth": 0,
             "ticks": ""
            },
            "colorscale": [
             [
              0,
              "#0d0887"
             ],
             [
              0.1111111111111111,
              "#46039f"
             ],
             [
              0.2222222222222222,
              "#7201a8"
             ],
             [
              0.3333333333333333,
              "#9c179e"
             ],
             [
              0.4444444444444444,
              "#bd3786"
             ],
             [
              0.5555555555555556,
              "#d8576b"
             ],
             [
              0.6666666666666666,
              "#ed7953"
             ],
             [
              0.7777777777777778,
              "#fb9f3a"
             ],
             [
              0.8888888888888888,
              "#fdca26"
             ],
             [
              1,
              "#f0f921"
             ]
            ],
            "type": "histogram2dcontour"
           }
          ],
          "mesh3d": [
           {
            "colorbar": {
             "outlinewidth": 0,
             "ticks": ""
            },
            "type": "mesh3d"
           }
          ],
          "parcoords": [
           {
            "line": {
             "colorbar": {
              "outlinewidth": 0,
              "ticks": ""
             }
            },
            "type": "parcoords"
           }
          ],
          "pie": [
           {
            "automargin": true,
            "type": "pie"
           }
          ],
          "scatter": [
           {
            "fillpattern": {
             "fillmode": "overlay",
             "size": 10,
             "solidity": 0.2
            },
            "type": "scatter"
           }
          ],
          "scatter3d": [
           {
            "line": {
             "colorbar": {
              "outlinewidth": 0,
              "ticks": ""
             }
            },
            "marker": {
             "colorbar": {
              "outlinewidth": 0,
              "ticks": ""
             }
            },
            "type": "scatter3d"
           }
          ],
          "scattercarpet": [
           {
            "marker": {
             "colorbar": {
              "outlinewidth": 0,
              "ticks": ""
             }
            },
            "type": "scattercarpet"
           }
          ],
          "scattergeo": [
           {
            "marker": {
             "colorbar": {
              "outlinewidth": 0,
              "ticks": ""
             }
            },
            "type": "scattergeo"
           }
          ],
          "scattergl": [
           {
            "marker": {
             "colorbar": {
              "outlinewidth": 0,
              "ticks": ""
             }
            },
            "type": "scattergl"
           }
          ],
          "scattermap": [
           {
            "marker": {
             "colorbar": {
              "outlinewidth": 0,
              "ticks": ""
             }
            },
            "type": "scattermap"
           }
          ],
          "scattermapbox": [
           {
            "marker": {
             "colorbar": {
              "outlinewidth": 0,
              "ticks": ""
             }
            },
            "type": "scattermapbox"
           }
          ],
          "scatterpolar": [
           {
            "marker": {
             "colorbar": {
              "outlinewidth": 0,
              "ticks": ""
             }
            },
            "type": "scatterpolar"
           }
          ],
          "scatterpolargl": [
           {
            "marker": {
             "colorbar": {
              "outlinewidth": 0,
              "ticks": ""
             }
            },
            "type": "scatterpolargl"
           }
          ],
          "scatterternary": [
           {
            "marker": {
             "colorbar": {
              "outlinewidth": 0,
              "ticks": ""
             }
            },
            "type": "scatterternary"
           }
          ],
          "surface": [
           {
            "colorbar": {
             "outlinewidth": 0,
             "ticks": ""
            },
            "colorscale": [
             [
              0,
              "#0d0887"
             ],
             [
              0.1111111111111111,
              "#46039f"
             ],
             [
              0.2222222222222222,
              "#7201a8"
             ],
             [
              0.3333333333333333,
              "#9c179e"
             ],
             [
              0.4444444444444444,
              "#bd3786"
             ],
             [
              0.5555555555555556,
              "#d8576b"
             ],
             [
              0.6666666666666666,
              "#ed7953"
             ],
             [
              0.7777777777777778,
              "#fb9f3a"
             ],
             [
              0.8888888888888888,
              "#fdca26"
             ],
             [
              1,
              "#f0f921"
             ]
            ],
            "type": "surface"
           }
          ],
          "table": [
           {
            "cells": {
             "fill": {
              "color": "#EBF0F8"
             },
             "line": {
              "color": "white"
             }
            },
            "header": {
             "fill": {
              "color": "#C8D4E3"
             },
             "line": {
              "color": "white"
             }
            },
            "type": "table"
           }
          ]
         },
         "layout": {
          "annotationdefaults": {
           "arrowcolor": "#2a3f5f",
           "arrowhead": 0,
           "arrowwidth": 1
          },
          "autotypenumbers": "strict",
          "coloraxis": {
           "colorbar": {
            "outlinewidth": 0,
            "ticks": ""
           }
          },
          "colorscale": {
           "diverging": [
            [
             0,
             "#8e0152"
            ],
            [
             0.1,
             "#c51b7d"
            ],
            [
             0.2,
             "#de77ae"
            ],
            [
             0.3,
             "#f1b6da"
            ],
            [
             0.4,
             "#fde0ef"
            ],
            [
             0.5,
             "#f7f7f7"
            ],
            [
             0.6,
             "#e6f5d0"
            ],
            [
             0.7,
             "#b8e186"
            ],
            [
             0.8,
             "#7fbc41"
            ],
            [
             0.9,
             "#4d9221"
            ],
            [
             1,
             "#276419"
            ]
           ],
           "sequential": [
            [
             0,
             "#0d0887"
            ],
            [
             0.1111111111111111,
             "#46039f"
            ],
            [
             0.2222222222222222,
             "#7201a8"
            ],
            [
             0.3333333333333333,
             "#9c179e"
            ],
            [
             0.4444444444444444,
             "#bd3786"
            ],
            [
             0.5555555555555556,
             "#d8576b"
            ],
            [
             0.6666666666666666,
             "#ed7953"
            ],
            [
             0.7777777777777778,
             "#fb9f3a"
            ],
            [
             0.8888888888888888,
             "#fdca26"
            ],
            [
             1,
             "#f0f921"
            ]
           ],
           "sequentialminus": [
            [
             0,
             "#0d0887"
            ],
            [
             0.1111111111111111,
             "#46039f"
            ],
            [
             0.2222222222222222,
             "#7201a8"
            ],
            [
             0.3333333333333333,
             "#9c179e"
            ],
            [
             0.4444444444444444,
             "#bd3786"
            ],
            [
             0.5555555555555556,
             "#d8576b"
            ],
            [
             0.6666666666666666,
             "#ed7953"
            ],
            [
             0.7777777777777778,
             "#fb9f3a"
            ],
            [
             0.8888888888888888,
             "#fdca26"
            ],
            [
             1,
             "#f0f921"
            ]
           ]
          },
          "colorway": [
           "#636efa",
           "#EF553B",
           "#00cc96",
           "#ab63fa",
           "#FFA15A",
           "#19d3f3",
           "#FF6692",
           "#B6E880",
           "#FF97FF",
           "#FECB52"
          ],
          "font": {
           "color": "#2a3f5f"
          },
          "geo": {
           "bgcolor": "white",
           "lakecolor": "white",
           "landcolor": "#E5ECF6",
           "showlakes": true,
           "showland": true,
           "subunitcolor": "white"
          },
          "hoverlabel": {
           "align": "left"
          },
          "hovermode": "closest",
          "mapbox": {
           "style": "light"
          },
          "paper_bgcolor": "white",
          "plot_bgcolor": "#E5ECF6",
          "polar": {
           "angularaxis": {
            "gridcolor": "white",
            "linecolor": "white",
            "ticks": ""
           },
           "bgcolor": "#E5ECF6",
           "radialaxis": {
            "gridcolor": "white",
            "linecolor": "white",
            "ticks": ""
           }
          },
          "scene": {
           "xaxis": {
            "backgroundcolor": "#E5ECF6",
            "gridcolor": "white",
            "gridwidth": 2,
            "linecolor": "white",
            "showbackground": true,
            "ticks": "",
            "zerolinecolor": "white"
           },
           "yaxis": {
            "backgroundcolor": "#E5ECF6",
            "gridcolor": "white",
            "gridwidth": 2,
            "linecolor": "white",
            "showbackground": true,
            "ticks": "",
            "zerolinecolor": "white"
           },
           "zaxis": {
            "backgroundcolor": "#E5ECF6",
            "gridcolor": "white",
            "gridwidth": 2,
            "linecolor": "white",
            "showbackground": true,
            "ticks": "",
            "zerolinecolor": "white"
           }
          },
          "shapedefaults": {
           "line": {
            "color": "#2a3f5f"
           }
          },
          "ternary": {
           "aaxis": {
            "gridcolor": "white",
            "linecolor": "white",
            "ticks": ""
           },
           "baxis": {
            "gridcolor": "white",
            "linecolor": "white",
            "ticks": ""
           },
           "bgcolor": "#E5ECF6",
           "caxis": {
            "gridcolor": "white",
            "linecolor": "white",
            "ticks": ""
           }
          },
          "title": {
           "x": 0.05
          },
          "xaxis": {
           "automargin": true,
           "gridcolor": "white",
           "linecolor": "white",
           "ticks": "",
           "title": {
            "standoff": 15
           },
           "zerolinecolor": "white",
           "zerolinewidth": 2
          },
          "yaxis": {
           "automargin": true,
           "gridcolor": "white",
           "linecolor": "white",
           "ticks": "",
           "title": {
            "standoff": 15
           },
           "zerolinecolor": "white",
           "zerolinewidth": 2
          }
         }
        },
        "title": {
         "text": "Temp. vs humidity"
        },
        "xaxis": {
         "anchor": "y",
         "domain": [
          0,
          1
         ],
         "title": {
          "text": "temparature"
         }
        },
        "yaxis": {
         "anchor": "x",
         "domain": [
          0,
          1
         ],
         "title": {
          "text": "humidity"
         }
        }
       }
      },
      "text/html": [
       "<div>                        <script type=\"text/javascript\">window.PlotlyConfig = {MathJaxConfig: 'local'};</script>\n",
       "        <script charset=\"utf-8\" src=\"https://cdn.plot.ly/plotly-3.0.1.min.js\"></script>                <div id=\"42786a8b-7461-479a-87b0-4ed347ccaca8\" class=\"plotly-graph-div\" style=\"height:100%; width:100%;\"></div>            <script type=\"text/javascript\">                window.PLOTLYENV=window.PLOTLYENV || {};                                if (document.getElementById(\"42786a8b-7461-479a-87b0-4ed347ccaca8\")) {                    Plotly.newPlot(                        \"42786a8b-7461-479a-87b0-4ed347ccaca8\",                        [{\"hovertemplate\":\"temparature=%{x}\\u003cbr\\u003ehumidity=%{y}\\u003cbr\\u003erainfall=%{marker.color}\\u003cextra\\u003e\\u003c\\u002fextra\\u003e\",\"legendgroup\":\"\",\"marker\":{\"color\":{\"dtype\":\"i1\",\"bdata\":\"AQEBAQEAAQEAAQEAAQEBAQEAAQEAAQEBAAEBAQEBAQEBAQEBAQEBAQABAQEBAQEBAQEBAQEBAQEBAAEBAQAAAQEBAQABAAEBAQEAAAEBAQABAQABAQAAAQEBAQABAQEBAQEBAAEBAAEAAQABAQEAAQEBAQEBAQEBAQABAQEBAQABAQEBAQEBAQABAQABAAEBAAAAAAEBAQEBAQEBAQAAAQEBAQEAAQEBAQEBAQABAQEBAAEBAQEBAQEBAAEBAQABAQEAAQEBAQEAAAEAAQEAAQEBAQEAAQEAAAEBAQEAAQABAQEAAQEBAQEBAQEBAAEBAQEBAAEBAQEBAQAAAAEBAQEBAAEAAQEBAQEAAQEAAQEAAQABAQAAAAEBAAAAAQEAAQABAAEBAQABAAEBAQABAQAAAQEBAQEBAQEBAQEAAQEBAQEBAQEAAQEBAQEBAQEBAQEBAQABAAABAQEBAQABAAABAQEAAAEAAQABAAEBAQAAAQEBAAABAAAAAQEAAQEBAQEBAAEAAQEBAAAAAQEBAQEBAQEBAAEBAAEBAQEBAAEBAQEBAQABAQEBAQEAAQEBAQEBAQEBAQEBAAEBAQEBAQEBAQEBAQABAQABAAEAAQEBAQEBAQABAAEBAQEAAAEBAQEBAAABAAEBAQABAAABAAEBAQEAAQEAAQEBAQEBAQEAAQEBAQEBAQABAQEBAAAAAQABAQABAQEBAAEBAQEAAQABAQEBAAEBAQEBAQEBAQEBAAEBAQABAAEBAAEBAQEBAAEBAAEBAAEBAQABAQEBAQABAQABAQEBAAEBAAABAQEBAAAAAQEBAAEBAQEBAQEAAQABAAABAQABAQEBAQEBAQEBAQEAAQABAQEBAQEBAQEBAQABAAABAQEAAAEAAQEAAQABAQAAAQEBAQEBAQEBAQEBAQEBAQABAAABAQEBAQEBAAABAQEAAQEBAAEBAQEAAQEAAQEBAQABAQEBAAEBAQEBAQEAAQEBAQABAAEBAQEBAQAAAAEBAQABAQEBAQEAAQEBAQEBAQEBAAEBAQABAQEBAAEAAQEAAQAAAAABAQEBAQAAAQEAAQEBAQABAQEAAAABAAAAAQEBAQEBAQABAAEBAQEAAQEBAQEBAQEAAQEBAQEAAQEBAQABAQEAAQEAAQEBAQEBAQABAQEBAQEBAAEBAQEBAQABAQEBAAEAAQEBAQEBAQEBAAEBAQEBAQEAAQEBAAEBAQEBAAEBAAABAQEBAQABAAEBAAABAQEBAAEBAQEBAQEBAAEBAQEBAQEAAQABAAEAAQEBAQABAQEAAQAAAQEAAAEBAQEAAQEAAQABAQEBAQEBAAEBAAEBAQEBAQEBAQEBAQEBAQEBAQEBAQEBAQEBAQEBAAEBAAEBAAABAQEBAQEBAAEBAQEBAQEAAAEBAQABAQAAAQEBAQEBAQEBAAEBAAEAAQEBAQEAAQABAQEBAQAAAAEBAQEBAAEAAQEAAQAAAQEBAQEBAQEAAQEBAQEBAQEBAQEAAQABAQEBAQABAQEBAQEBAQEBAQEBAQEBAQABAAEBAQABAAEBAAABAQEBAQABAQABAQEBAQEBAAEAAQEAAQEBAQEAAAABAQEAAQEBAQEBAQAAAQEBAQABAAEBAAEBAQABAQABAQABAQABAQEBAAEBAQEBAQEBAQEAAAEBAQABAAEAAAABAQABAQABAQEBAQEBAQEBAAABAQABAQEBAQEBAQEAAQEAAQEBAAEBAQEBAQEBAQEBAQEBAQEAAQEBAQABAAEBAQABAQEBAAEAAAEBAQAAAAEAAQEBAAEBAAABAQEAAQAAAAABAQEBAAEBAAEAAQEBAQEBAQABAAABAQABAQEBAQEBAQABAQABAQEAAQEAAQEAAQEAAAEBAQEBAQEBAQEBAQEBAQEBAAEBAQEBAAEBAAEBAQEBAQEBAQABAAEBAQEBAAABAAEAAQEAAQEBAAEBAQEBAQEBAQEBAQABAQEAAQABAQEBAQABAQEBAQEBAQEBAQAAAAEBAAEBAQEBAQEBAAEBAQABAAEBAQEAAQEAAQEBAAEAAQEAAQAAAQEBAQEAAAABAQABAQEBAQEBAQEAAQEBAAEBAQEBAQEBAQEBAQEBAQEBAQEBAQAAAQEBAQEBAQEAAAEBAQEBAAEBAQEBAQEBAQEBAQEBAQEBAAEAAQEBAQABAAEBAAEAAAEBAAEAAQEBAQEBAQAAAQEAAQEBAQEBAQEBAAEAAQEAAAEBAQEBAQABAQEBAQEAAQEBAAEBAAEBAQEBAQEBAQEBAAEBAQEBAQEBAAEBAQEBAAABAQEBAQEAAQEAAQEBAQEBAQEBAQEAAQEBAQABAQABAQABAQEAAQABAQEAAAEBAQEBAQEAAQAAAQEAAQEAAQAAAQABAQEAAQEBAQEBAAEAAQEBAQABAAEBAQEBAQABAQAAAQEAAAEAAQEAAQABAQEBAQEBAQEBAQEBAAEAAQEAAQEAAQEAAQEBAQABAAEBAAEBAQABAQAAAQAAAQEAAQEBAQABAQABAQEBAAEBAQEAAQEBAAEAAQEAAAAAAQABAAEBAQEBAQAAAQEBAQEBAQEBAAEBAAEBAQEBAQEBAQEBAQAAAAEBAAABAQAAAQEBAQEBAAEBAQEBAQEAAQEBAQEBAAEBAQEBAQABAQEBAAABAQABAQE=\"},\"coloraxis\":\"coloraxis\",\"symbol\":\"circle\"},\"mode\":\"markers\",\"name\":\"\",\"showlegend\":false,\"x\":{\"dtype\":\"f8\",\"bdata\":\"AAAAAAAAPkDNzMzMzEw\\u002fQJqZmZmZGTxAAAAAAAAAPECamZmZmRk6QJqZmZmZGTxAZmZmZmZmK0AAAAAAAAA8QM3MzMzMzDFAzczMzMzMOUAAAAAAAIA1QAAAAAAAAD5AzczMzMzMK0AAAAAAAIAyQJqZmZmZGTJAMzMzMzOzMUDNzMzMzEw0QDMzMzMzMyRAmpmZmZmZM0AAAAAAAAAyQJqZmZmZmSBAzczMzMxMPkBmZmZmZmY2QGZmZmZm5jlAZmZmZmZmOUCamZmZmZk8QM3MzMzMzDxAAAAAAAAAP0AzMzMzM7M4QM3MzMzMTDpAzczMzMzMNUAAAAAAAIA5QJqZmZmZGTJAzczMzMzMPUCamZmZmZkrQM3MzMzMzC5AzczMzMzMOEBmZmZmZmY9QDMzMzMzMzxAZmZmZmbmO0DNzMzMzEw8QM3MzMzMzDFAZmZmZmZmK0AAAAAAAAA5QAAAAAAAAD5AMzMzMzMzK0CamZmZmRk8QJqZmZmZGT5AmpmZmZkZOUCamZmZmRk0QGZmZmZmZi5AAAAAAACAOUAzMzMzMzMqQAAAAAAAgDpAAAAAAACAOUAzMzMzMzM1QJqZmZmZGT5AMzMzMzMzOEDNzMzMzMwwQAAAAAAAgDtAmpmZmZmZNEAAAAAAAAA6QM3MzMzMzD5AmpmZmZkZOkAzMzMzM7M0QJqZmZmZmTtAAAAAAACAMkAzMzMzMzM+QGZmZmZmZjhAMzMzMzMzOUAzMzMzM7MxQDMzMzMzMz1AmpmZmZmZNEDNzMzMzMwwQGZmZmZmZjtAMzMzMzMzPECamZmZmZkwQAAAAAAAgDdAAAAAAAAAPkBmZmZmZmYyQAAAAAAAgDtAMzMzMzMzPUDNzMzMzMwyQJqZmZmZGT5AzczMzMzMOkCamZmZmRk8QAAAAAAAgDhAZmZmZmbmOEBmZmZmZuY7QGZmZmZmZjxAAAAAAAAAPECamZmZmRk8QJqZmZmZmTJAZmZmZmZmOUBmZmZmZuYyQM3MzMzMzDlAMzMzMzMzOUCamZmZmZk5QJqZmZmZmT5AZmZmZmZmPkBmZmZmZuY0QM3MzMzMzDpAZmZmZmZmOEBmZmZmZmY5QGZmZmZm5jdAmpmZmZmZOUAzMzMzM7M6QGZmZmZm5jhAAAAAAAAAO0CamZmZmZkwQM3MzMzMzDlAzczMzMzMMkCamZmZmRk6QAAAAAAAAD1AZmZmZmZmPEAAAAAAAIA5QGZmZmZmZjJAZmZmZmbmPEBmZmZmZmY7QM3MzMzMTDNAMzMzMzMzMUBmZmZmZuY7QJqZmZmZmTFAAAAAAAAAL0DNzMzMzMw7QAAAAAAAgDlAmpmZmZmZMECamZmZmRk+QM3MzMzMTDxAAAAAAAAAK0DNzMzMzEw+QM3MzMzMTDRAAAAAAACAOUCamZmZmRk6QAAAAAAAgDdAzczMzMzMOUAAAAAAAIA\\u002fQM3MzMzMTDFAZmZmZmZmPEAAAAAAAAA+QGZmZmZm5jlAzczMzMzMOkAAAAAAAIAxQJqZmZmZmS5AzczMzMxMMkBmZmZmZmYyQAAAAAAAgD5AzczMzMzMLECamZmZmZkwQM3MzMzMzDpAzczMzMzMOUDNzMzMzMw5QAAAAAAAADRAmpmZmZmZPEBmZmZmZuY8QDMzMzMzMz5AZmZmZmZmNUCamZmZmRk9QDMzMzMzMz5AmpmZmZkZMkBmZmZmZuY0QJqZmZmZmTBAMzMzMzMzL0BmZmZmZmY6QM3MzMzMzDNAAAAAAACAOEBmZmZmZuY5QGZmZmZmZjlAzczMzMxMN0DNzMzMzMw1QJqZmZmZmT1AzczMzMxMM0DNzMzMzEw+QGZmZmZmZjFAzczMzMxMPECamZmZmRk7QM3MzMzMTDBAZmZmZmbmMkBmZmZmZmY0QGZmZmZm5jNAMzMzMzOzPUAAAAAAAAA+QDMzMzMzMzVAzczMzMxMPECamZmZmRk6QAAAAAAAADhAZmZmZmbmNECamZmZmRk5QDMzMzMzMy1AmpmZmZkZMUDNzMzMzMw8QDMzMzMzMz1AzczMzMxMMUCamZmZmRk8QAAAAAAAADtAAAAAAAAAPEAAAAAAAIA4QDMzMzMzMztAmpmZmZkZNUAzMzMzMzM6QJqZmZmZmStAZmZmZmZmMkCamZmZmRk7QAAAAAAAADNAmpmZmZkZN0CamZmZmZkpQM3MzMzMTD5AzczMzMxMO0CamZmZmZk6QDMzMzMzszxAMzMzMzMzOUDNzMzMzMwuQAAAAAAAgDhAAAAAAAAAL0CamZmZmZkwQM3MzMzMzDJAzczMzMzML0BmZmZmZuY7QAAAAAAAgDVAmpmZmZmZLUBmZmZmZmY0QGZmZmZm5j1AMzMzMzOzM0AAAAAAAAA\\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\\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\\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\"},\"xaxis\":\"x\",\"y\":{\"dtype\":\"f8\",\"bdata\":\"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\"},\"yaxis\":\"y\",\"type\":\"scattergl\"}],                        {\"template\":{\"data\":{\"histogram2dcontour\":[{\"type\":\"histogram2dcontour\",\"colorbar\":{\"outlinewidth\":0,\"ticks\":\"\"},\"colorscale\":[[0.0,\"#0d0887\"],[0.1111111111111111,\"#46039f\"],[0.2222222222222222,\"#7201a8\"],[0.3333333333333333,\"#9c179e\"],[0.4444444444444444,\"#bd3786\"],[0.5555555555555556,\"#d8576b\"],[0.6666666666666666,\"#ed7953\"],[0.7777777777777778,\"#fb9f3a\"],[0.8888888888888888,\"#fdca26\"],[1.0,\"#f0f921\"]]}],\"choropleth\":[{\"type\":\"choropleth\",\"colorbar\":{\"outlinewidth\":0,\"ticks\":\"\"}}],\"histogram2d\":[{\"type\":\"histogram2d\",\"colorbar\":{\"outlinewidth\":0,\"ticks\":\"\"},\"colorscale\":[[0.0,\"#0d0887\"],[0.1111111111111111,\"#46039f\"],[0.2222222222222222,\"#7201a8\"],[0.3333333333333333,\"#9c179e\"],[0.4444444444444444,\"#bd3786\"],[0.5555555555555556,\"#d8576b\"],[0.6666666666666666,\"#ed7953\"],[0.7777777777777778,\"#fb9f3a\"],[0.8888888888888888,\"#fdca26\"],[1.0,\"#f0f921\"]]}],\"heatmap\":[{\"type\":\"heatmap\",\"colorbar\":{\"outlinewidth\":0,\"ticks\":\"\"},\"colorscale\":[[0.0,\"#0d0887\"],[0.1111111111111111,\"#46039f\"],[0.2222222222222222,\"#7201a8\"],[0.3333333333333333,\"#9c179e\"],[0.4444444444444444,\"#bd3786\"],[0.5555555555555556,\"#d8576b\"],[0.6666666666666666,\"#ed7953\"],[0.7777777777777778,\"#fb9f3a\"],[0.8888888888888888,\"#fdca26\"],[1.0,\"#f0f921\"]]}],\"contourcarpet\":[{\"type\":\"contourcarpet\",\"colorbar\":{\"outlinewidth\":0,\"ticks\":\"\"}}],\"contour\":[{\"type\":\"contour\",\"colorbar\":{\"outlinewidth\":0,\"ticks\":\"\"},\"colorscale\":[[0.0,\"#0d0887\"],[0.1111111111111111,\"#46039f\"],[0.2222222222222222,\"#7201a8\"],[0.3333333333333333,\"#9c179e\"],[0.4444444444444444,\"#bd3786\"],[0.5555555555555556,\"#d8576b\"],[0.6666666666666666,\"#ed7953\"],[0.7777777777777778,\"#fb9f3a\"],[0.8888888888888888,\"#fdca26\"],[1.0,\"#f0f921\"]]}],\"surface\":[{\"type\":\"surface\",\"colorbar\":{\"outlinewidth\":0,\"ticks\":\"\"},\"colorscale\":[[0.0,\"#0d0887\"],[0.1111111111111111,\"#46039f\"],[0.2222222222222222,\"#7201a8\"],[0.3333333333333333,\"#9c179e\"],[0.4444444444444444,\"#bd3786\"],[0.5555555555555556,\"#d8576b\"],[0.6666666666666666,\"#ed7953\"],[0.7777777777777778,\"#fb9f3a\"],[0.8888888888888888,\"#fdca26\"],[1.0,\"#f0f921\"]]}],\"mesh3d\":[{\"type\":\"mesh3d\",\"colorbar\":{\"outlinewidth\":0,\"ticks\":\"\"}}],\"scatter\":[{\"fillpattern\":{\"fillmode\":\"overlay\",\"size\":10,\"solidity\":0.2},\"type\":\"scatter\"}],\"parcoords\":[{\"type\":\"parcoords\",\"line\":{\"colorbar\":{\"outlinewidth\":0,\"ticks\":\"\"}}}],\"scatterpolargl\":[{\"type\":\"scatterpolargl\",\"marker\":{\"colorbar\":{\"outlinewidth\":0,\"ticks\":\"\"}}}],\"bar\":[{\"error_x\":{\"color\":\"#2a3f5f\"},\"error_y\":{\"color\":\"#2a3f5f\"},\"marker\":{\"line\":{\"color\":\"#E5ECF6\",\"width\":0.5},\"pattern\":{\"fillmode\":\"overlay\",\"size\":10,\"solidity\":0.2}},\"type\":\"bar\"}],\"scattergeo\":[{\"type\":\"scattergeo\",\"marker\":{\"colorbar\":{\"outlinewidth\":0,\"ticks\":\"\"}}}],\"scatterpolar\":[{\"type\":\"scatterpolar\",\"marker\":{\"colorbar\":{\"outlinewidth\":0,\"ticks\":\"\"}}}],\"histogram\":[{\"marker\":{\"pattern\":{\"fillmode\":\"overlay\",\"size\":10,\"solidity\":0.2}},\"type\":\"histogram\"}],\"scattergl\":[{\"type\":\"scattergl\",\"marker\":{\"colorbar\":{\"outlinewidth\":0,\"ticks\":\"\"}}}],\"scatter3d\":[{\"type\":\"scatter3d\",\"line\":{\"colorbar\":{\"outlinewidth\":0,\"ticks\":\"\"}},\"marker\":{\"colorbar\":{\"outlinewidth\":0,\"ticks\":\"\"}}}],\"scattermap\":[{\"type\":\"scattermap\",\"marker\":{\"colorbar\":{\"outlinewidth\":0,\"ticks\":\"\"}}}],\"scattermapbox\":[{\"type\":\"scattermapbox\",\"marker\":{\"colorbar\":{\"outlinewidth\":0,\"ticks\":\"\"}}}],\"scatterternary\":[{\"type\":\"scatterternary\",\"marker\":{\"colorbar\":{\"outlinewidth\":0,\"ticks\":\"\"}}}],\"scattercarpet\":[{\"type\":\"scattercarpet\",\"marker\":{\"colorbar\":{\"outlinewidth\":0,\"ticks\":\"\"}}}],\"carpet\":[{\"aaxis\":{\"endlinecolor\":\"#2a3f5f\",\"gridcolor\":\"white\",\"linecolor\":\"white\",\"minorgridcolor\":\"white\",\"startlinecolor\":\"#2a3f5f\"},\"baxis\":{\"endlinecolor\":\"#2a3f5f\",\"gridcolor\":\"white\",\"linecolor\":\"white\",\"minorgridcolor\":\"white\",\"startlinecolor\":\"#2a3f5f\"},\"type\":\"carpet\"}],\"table\":[{\"cells\":{\"fill\":{\"color\":\"#EBF0F8\"},\"line\":{\"color\":\"white\"}},\"header\":{\"fill\":{\"color\":\"#C8D4E3\"},\"line\":{\"color\":\"white\"}},\"type\":\"table\"}],\"barpolar\":[{\"marker\":{\"line\":{\"color\":\"#E5ECF6\",\"width\":0.5},\"pattern\":{\"fillmode\":\"overlay\",\"size\":10,\"solidity\":0.2}},\"type\":\"barpolar\"}],\"pie\":[{\"automargin\":true,\"type\":\"pie\"}]},\"layout\":{\"autotypenumbers\":\"strict\",\"colorway\":[\"#636efa\",\"#EF553B\",\"#00cc96\",\"#ab63fa\",\"#FFA15A\",\"#19d3f3\",\"#FF6692\",\"#B6E880\",\"#FF97FF\",\"#FECB52\"],\"font\":{\"color\":\"#2a3f5f\"},\"hovermode\":\"closest\",\"hoverlabel\":{\"align\":\"left\"},\"paper_bgcolor\":\"white\",\"plot_bgcolor\":\"#E5ECF6\",\"polar\":{\"bgcolor\":\"#E5ECF6\",\"angularaxis\":{\"gridcolor\":\"white\",\"linecolor\":\"white\",\"ticks\":\"\"},\"radialaxis\":{\"gridcolor\":\"white\",\"linecolor\":\"white\",\"ticks\":\"\"}},\"ternary\":{\"bgcolor\":\"#E5ECF6\",\"aaxis\":{\"gridcolor\":\"white\",\"linecolor\":\"white\",\"ticks\":\"\"},\"baxis\":{\"gridcolor\":\"white\",\"linecolor\":\"white\",\"ticks\":\"\"},\"caxis\":{\"gridcolor\":\"white\",\"linecolor\":\"white\",\"ticks\":\"\"}},\"coloraxis\":{\"colorbar\":{\"outlinewidth\":0,\"ticks\":\"\"}},\"colorscale\":{\"sequential\":[[0.0,\"#0d0887\"],[0.1111111111111111,\"#46039f\"],[0.2222222222222222,\"#7201a8\"],[0.3333333333333333,\"#9c179e\"],[0.4444444444444444,\"#bd3786\"],[0.5555555555555556,\"#d8576b\"],[0.6666666666666666,\"#ed7953\"],[0.7777777777777778,\"#fb9f3a\"],[0.8888888888888888,\"#fdca26\"],[1.0,\"#f0f921\"]],\"sequentialminus\":[[0.0,\"#0d0887\"],[0.1111111111111111,\"#46039f\"],[0.2222222222222222,\"#7201a8\"],[0.3333333333333333,\"#9c179e\"],[0.4444444444444444,\"#bd3786\"],[0.5555555555555556,\"#d8576b\"],[0.6666666666666666,\"#ed7953\"],[0.7777777777777778,\"#fb9f3a\"],[0.8888888888888888,\"#fdca26\"],[1.0,\"#f0f921\"]],\"diverging\":[[0,\"#8e0152\"],[0.1,\"#c51b7d\"],[0.2,\"#de77ae\"],[0.3,\"#f1b6da\"],[0.4,\"#fde0ef\"],[0.5,\"#f7f7f7\"],[0.6,\"#e6f5d0\"],[0.7,\"#b8e186\"],[0.8,\"#7fbc41\"],[0.9,\"#4d9221\"],[1,\"#276419\"]]},\"xaxis\":{\"gridcolor\":\"white\",\"linecolor\":\"white\",\"ticks\":\"\",\"title\":{\"standoff\":15},\"zerolinecolor\":\"white\",\"automargin\":true,\"zerolinewidth\":2},\"yaxis\":{\"gridcolor\":\"white\",\"linecolor\":\"white\",\"ticks\":\"\",\"title\":{\"standoff\":15},\"zerolinecolor\":\"white\",\"automargin\":true,\"zerolinewidth\":2},\"scene\":{\"xaxis\":{\"backgroundcolor\":\"#E5ECF6\",\"gridcolor\":\"white\",\"linecolor\":\"white\",\"showbackground\":true,\"ticks\":\"\",\"zerolinecolor\":\"white\",\"gridwidth\":2},\"yaxis\":{\"backgroundcolor\":\"#E5ECF6\",\"gridcolor\":\"white\",\"linecolor\":\"white\",\"showbackground\":true,\"ticks\":\"\",\"zerolinecolor\":\"white\",\"gridwidth\":2},\"zaxis\":{\"backgroundcolor\":\"#E5ECF6\",\"gridcolor\":\"white\",\"linecolor\":\"white\",\"showbackground\":true,\"ticks\":\"\",\"zerolinecolor\":\"white\",\"gridwidth\":2}},\"shapedefaults\":{\"line\":{\"color\":\"#2a3f5f\"}},\"annotationdefaults\":{\"arrowcolor\":\"#2a3f5f\",\"arrowhead\":0,\"arrowwidth\":1},\"geo\":{\"bgcolor\":\"white\",\"landcolor\":\"#E5ECF6\",\"subunitcolor\":\"white\",\"showland\":true,\"showlakes\":true,\"lakecolor\":\"white\"},\"title\":{\"x\":0.05},\"mapbox\":{\"style\":\"light\"}}},\"xaxis\":{\"anchor\":\"y\",\"domain\":[0.0,1.0],\"title\":{\"text\":\"temparature\"}},\"yaxis\":{\"anchor\":\"x\",\"domain\":[0.0,1.0],\"title\":{\"text\":\"humidity\"}},\"coloraxis\":{\"colorbar\":{\"title\":{\"text\":\"rainfall\"}},\"colorscale\":[[0.0,\"#0d0887\"],[0.1111111111111111,\"#46039f\"],[0.2222222222222222,\"#7201a8\"],[0.3333333333333333,\"#9c179e\"],[0.4444444444444444,\"#bd3786\"],[0.5555555555555556,\"#d8576b\"],[0.6666666666666666,\"#ed7953\"],[0.7777777777777778,\"#fb9f3a\"],[0.8888888888888888,\"#fdca26\"],[1.0,\"#f0f921\"]]},\"legend\":{\"tracegroupgap\":0},\"title\":{\"text\":\"Temp. vs humidity\"}},                        {\"responsive\": true}                    )                };            </script>        </div>"
      ],
      "text/plain": [
       "Figure({\n",
       "    'data': [{'hovertemplate': 'temparature=%{x}<br>humidity=%{y}<br>rainfall=%{marker.color}<extra></extra>',\n",
       "              'legendgroup': '',\n",
       "              'marker': {'color': {'bdata': ('AQEBAQEAAQEAAQEAAQEBAQEAAQEAAQ' ... 'EBAAEBAQEBAQABAQEBAAABAQABAQE='),\n",
       "                                   'dtype': 'i1'},\n",
       "                         'coloraxis': 'coloraxis',\n",
       "                         'symbol': 'circle'},\n",
       "              'mode': 'markers',\n",
       "              'name': '',\n",
       "              'showlegend': False,\n",
       "              'type': 'scattergl',\n",
       "              'x': {'bdata': ('AAAAAAAAPkDNzMzMzEw/QJqZmZmZGT' ... 'AAgDVAAAAAAACAMUAzMzMzM7M+QA=='),\n",
       "                    'dtype': 'f8'},\n",
       "              'xaxis': 'x',\n",
       "              'y': {'bdata': ('AAAAAADAU0AAAAAAAMBSQAAAAAAAgF' ... 'AAwFZAAAAAAAAAVkAAAAAAAMBTQA=='),\n",
       "                    'dtype': 'f8'},\n",
       "              'yaxis': 'y'}],\n",
       "    'layout': {'coloraxis': {'colorbar': {'title': {'text': 'rainfall'}},\n",
       "                             'colorscale': [[0.0, '#0d0887'], [0.1111111111111111,\n",
       "                                            '#46039f'], [0.2222222222222222,\n",
       "                                            '#7201a8'], [0.3333333333333333,\n",
       "                                            '#9c179e'], [0.4444444444444444,\n",
       "                                            '#bd3786'], [0.5555555555555556,\n",
       "                                            '#d8576b'], [0.6666666666666666,\n",
       "                                            '#ed7953'], [0.7777777777777778,\n",
       "                                            '#fb9f3a'], [0.8888888888888888,\n",
       "                                            '#fdca26'], [1.0, '#f0f921']]},\n",
       "               'legend': {'tracegroupgap': 0},\n",
       "               'template': '...',\n",
       "               'title': {'text': 'Temp. vs humidity'},\n",
       "               'xaxis': {'anchor': 'y', 'domain': [0.0, 1.0], 'title': {'text': 'temparature'}},\n",
       "               'yaxis': {'anchor': 'x', 'domain': [0.0, 1.0], 'title': {'text': 'humidity'}}}\n",
       "})"
      ]
     },
     "execution_count": 9,
     "metadata": {},
     "output_type": "execute_result"
    }
   ],
   "source": [
    "px.scatter(train_df.sample(2000),\n",
    "          title = 'Temp. vs humidity',\n",
    "          x = 'temparature',\n",
    "          y = 'humidity',\n",
    "          color = 'rainfall')"
   ]
  },
  {
   "cell_type": "code",
   "execution_count": null,
   "metadata": {},
   "outputs": [],
   "source": [
    "px.histogram(train_df, x='cloud', title='Cloud vs. RainFall', color='rainfall')"
   ]
  },
  {
   "cell_type": "code",
   "execution_count": null,
   "metadata": {},
   "outputs": [],
   "source": [
    "px.histogram(train_df, x='sunshine', title='Sunshine vs. RainFall', color='rainfall')"
   ]
  },
  {
   "cell_type": "code",
   "execution_count": null,
   "metadata": {},
   "outputs": [],
   "source": [
    "px.scatter(train_df.sample(2000),\n",
    "          title = 'WindDirection. vs WindSpeed',\n",
    "          x = 'winddirection',\n",
    "          y = 'windspeed',\n",
    "          color = 'rainfall')"
   ]
  },
  {
   "cell_type": "code",
   "execution_count": 10,
   "metadata": {},
   "outputs": [
    {
     "data": {
      "text/html": [
       "<div>\n",
       "<style scoped>\n",
       "    .dataframe tbody tr th:only-of-type {\n",
       "        vertical-align: middle;\n",
       "    }\n",
       "\n",
       "    .dataframe tbody tr th {\n",
       "        vertical-align: top;\n",
       "    }\n",
       "\n",
       "    .dataframe thead th {\n",
       "        text-align: right;\n",
       "    }\n",
       "</style>\n",
       "<table border=\"1\" class=\"dataframe\">\n",
       "  <thead>\n",
       "    <tr style=\"text-align: right;\">\n",
       "      <th></th>\n",
       "      <th>id</th>\n",
       "      <th>day</th>\n",
       "      <th>pressure</th>\n",
       "      <th>maxtemp</th>\n",
       "      <th>temparature</th>\n",
       "      <th>mintemp</th>\n",
       "      <th>dewpoint</th>\n",
       "      <th>humidity</th>\n",
       "      <th>cloud</th>\n",
       "      <th>sunshine</th>\n",
       "      <th>winddirection</th>\n",
       "      <th>windspeed</th>\n",
       "      <th>rainfall</th>\n",
       "    </tr>\n",
       "  </thead>\n",
       "  <tbody>\n",
       "    <tr>\n",
       "      <th>id</th>\n",
       "      <td>1.000000</td>\n",
       "      <td>0.153065</td>\n",
       "      <td>-0.008235</td>\n",
       "      <td>0.012590</td>\n",
       "      <td>0.014307</td>\n",
       "      <td>0.018708</td>\n",
       "      <td>0.006797</td>\n",
       "      <td>-0.029042</td>\n",
       "      <td>0.002226</td>\n",
       "      <td>-0.003022</td>\n",
       "      <td>-0.004223</td>\n",
       "      <td>0.020167</td>\n",
       "      <td>0.033674</td>\n",
       "    </tr>\n",
       "    <tr>\n",
       "      <th>day</th>\n",
       "      <td>0.153065</td>\n",
       "      <td>1.000000</td>\n",
       "      <td>0.005337</td>\n",
       "      <td>0.146294</td>\n",
       "      <td>0.153590</td>\n",
       "      <td>0.161475</td>\n",
       "      <td>0.137929</td>\n",
       "      <td>-0.074048</td>\n",
       "      <td>-0.048175</td>\n",
       "      <td>0.060936</td>\n",
       "      <td>0.024800</td>\n",
       "      <td>-0.000199</td>\n",
       "      <td>-0.000462</td>\n",
       "    </tr>\n",
       "    <tr>\n",
       "      <th>pressure</th>\n",
       "      <td>-0.008235</td>\n",
       "      <td>0.005337</td>\n",
       "      <td>1.000000</td>\n",
       "      <td>-0.800499</td>\n",
       "      <td>-0.816531</td>\n",
       "      <td>-0.814453</td>\n",
       "      <td>-0.817008</td>\n",
       "      <td>-0.119949</td>\n",
       "      <td>0.098600</td>\n",
       "      <td>-0.257163</td>\n",
       "      <td>-0.643293</td>\n",
       "      <td>0.266012</td>\n",
       "      <td>-0.049886</td>\n",
       "    </tr>\n",
       "    <tr>\n",
       "      <th>maxtemp</th>\n",
       "      <td>0.012590</td>\n",
       "      <td>0.146294</td>\n",
       "      <td>-0.800499</td>\n",
       "      <td>1.000000</td>\n",
       "      <td>0.982932</td>\n",
       "      <td>0.965529</td>\n",
       "      <td>0.906703</td>\n",
       "      <td>-0.072615</td>\n",
       "      <td>-0.289047</td>\n",
       "      <td>0.452387</td>\n",
       "      <td>0.662235</td>\n",
       "      <td>-0.354168</td>\n",
       "      <td>-0.079304</td>\n",
       "    </tr>\n",
       "    <tr>\n",
       "      <th>temparature</th>\n",
       "      <td>0.014307</td>\n",
       "      <td>0.153590</td>\n",
       "      <td>-0.816531</td>\n",
       "      <td>0.982932</td>\n",
       "      <td>1.000000</td>\n",
       "      <td>0.987150</td>\n",
       "      <td>0.933617</td>\n",
       "      <td>-0.025016</td>\n",
       "      <td>-0.249355</td>\n",
       "      <td>0.414019</td>\n",
       "      <td>0.668963</td>\n",
       "      <td>-0.342262</td>\n",
       "      <td>-0.049660</td>\n",
       "    </tr>\n",
       "    <tr>\n",
       "      <th>mintemp</th>\n",
       "      <td>0.018708</td>\n",
       "      <td>0.161475</td>\n",
       "      <td>-0.814453</td>\n",
       "      <td>0.965529</td>\n",
       "      <td>0.987150</td>\n",
       "      <td>1.000000</td>\n",
       "      <td>0.941342</td>\n",
       "      <td>0.009891</td>\n",
       "      <td>-0.219399</td>\n",
       "      <td>0.379497</td>\n",
       "      <td>0.663828</td>\n",
       "      <td>-0.328871</td>\n",
       "      <td>-0.026841</td>\n",
       "    </tr>\n",
       "    <tr>\n",
       "      <th>dewpoint</th>\n",
       "      <td>0.006797</td>\n",
       "      <td>0.137929</td>\n",
       "      <td>-0.817008</td>\n",
       "      <td>0.906703</td>\n",
       "      <td>0.933617</td>\n",
       "      <td>0.941342</td>\n",
       "      <td>1.000000</td>\n",
       "      <td>0.153390</td>\n",
       "      <td>-0.088446</td>\n",
       "      <td>0.249676</td>\n",
       "      <td>0.643073</td>\n",
       "      <td>-0.312179</td>\n",
       "      <td>0.081965</td>\n",
       "    </tr>\n",
       "    <tr>\n",
       "      <th>humidity</th>\n",
       "      <td>-0.029042</td>\n",
       "      <td>-0.074048</td>\n",
       "      <td>-0.119949</td>\n",
       "      <td>-0.072615</td>\n",
       "      <td>-0.025016</td>\n",
       "      <td>0.009891</td>\n",
       "      <td>0.153390</td>\n",
       "      <td>1.000000</td>\n",
       "      <td>0.584854</td>\n",
       "      <td>-0.541592</td>\n",
       "      <td>-0.012430</td>\n",
       "      <td>0.062285</td>\n",
       "      <td>0.454213</td>\n",
       "    </tr>\n",
       "    <tr>\n",
       "      <th>cloud</th>\n",
       "      <td>0.002226</td>\n",
       "      <td>-0.048175</td>\n",
       "      <td>0.098600</td>\n",
       "      <td>-0.289047</td>\n",
       "      <td>-0.249355</td>\n",
       "      <td>-0.219399</td>\n",
       "      <td>-0.088446</td>\n",
       "      <td>0.584854</td>\n",
       "      <td>1.000000</td>\n",
       "      <td>-0.805128</td>\n",
       "      <td>-0.127087</td>\n",
       "      <td>0.184698</td>\n",
       "      <td>0.641191</td>\n",
       "    </tr>\n",
       "    <tr>\n",
       "      <th>sunshine</th>\n",
       "      <td>-0.003022</td>\n",
       "      <td>0.060936</td>\n",
       "      <td>-0.257163</td>\n",
       "      <td>0.452387</td>\n",
       "      <td>0.414019</td>\n",
       "      <td>0.379497</td>\n",
       "      <td>0.249676</td>\n",
       "      <td>-0.541592</td>\n",
       "      <td>-0.805128</td>\n",
       "      <td>1.000000</td>\n",
       "      <td>0.272235</td>\n",
       "      <td>-0.241752</td>\n",
       "      <td>-0.555287</td>\n",
       "    </tr>\n",
       "    <tr>\n",
       "      <th>winddirection</th>\n",
       "      <td>-0.004223</td>\n",
       "      <td>0.024800</td>\n",
       "      <td>-0.643293</td>\n",
       "      <td>0.662235</td>\n",
       "      <td>0.668963</td>\n",
       "      <td>0.663828</td>\n",
       "      <td>0.643073</td>\n",
       "      <td>-0.012430</td>\n",
       "      <td>-0.127087</td>\n",
       "      <td>0.272235</td>\n",
       "      <td>1.000000</td>\n",
       "      <td>-0.192417</td>\n",
       "      <td>-0.006939</td>\n",
       "    </tr>\n",
       "    <tr>\n",
       "      <th>windspeed</th>\n",
       "      <td>0.020167</td>\n",
       "      <td>-0.000199</td>\n",
       "      <td>0.266012</td>\n",
       "      <td>-0.354168</td>\n",
       "      <td>-0.342262</td>\n",
       "      <td>-0.328871</td>\n",
       "      <td>-0.312179</td>\n",
       "      <td>0.062285</td>\n",
       "      <td>0.184698</td>\n",
       "      <td>-0.241752</td>\n",
       "      <td>-0.192417</td>\n",
       "      <td>1.000000</td>\n",
       "      <td>0.111625</td>\n",
       "    </tr>\n",
       "    <tr>\n",
       "      <th>rainfall</th>\n",
       "      <td>0.033674</td>\n",
       "      <td>-0.000462</td>\n",
       "      <td>-0.049886</td>\n",
       "      <td>-0.079304</td>\n",
       "      <td>-0.049660</td>\n",
       "      <td>-0.026841</td>\n",
       "      <td>0.081965</td>\n",
       "      <td>0.454213</td>\n",
       "      <td>0.641191</td>\n",
       "      <td>-0.555287</td>\n",
       "      <td>-0.006939</td>\n",
       "      <td>0.111625</td>\n",
       "      <td>1.000000</td>\n",
       "    </tr>\n",
       "  </tbody>\n",
       "</table>\n",
       "</div>"
      ],
      "text/plain": [
       "                     id       day  pressure   maxtemp  temparature   mintemp  \\\n",
       "id             1.000000  0.153065 -0.008235  0.012590     0.014307  0.018708   \n",
       "day            0.153065  1.000000  0.005337  0.146294     0.153590  0.161475   \n",
       "pressure      -0.008235  0.005337  1.000000 -0.800499    -0.816531 -0.814453   \n",
       "maxtemp        0.012590  0.146294 -0.800499  1.000000     0.982932  0.965529   \n",
       "temparature    0.014307  0.153590 -0.816531  0.982932     1.000000  0.987150   \n",
       "mintemp        0.018708  0.161475 -0.814453  0.965529     0.987150  1.000000   \n",
       "dewpoint       0.006797  0.137929 -0.817008  0.906703     0.933617  0.941342   \n",
       "humidity      -0.029042 -0.074048 -0.119949 -0.072615    -0.025016  0.009891   \n",
       "cloud          0.002226 -0.048175  0.098600 -0.289047    -0.249355 -0.219399   \n",
       "sunshine      -0.003022  0.060936 -0.257163  0.452387     0.414019  0.379497   \n",
       "winddirection -0.004223  0.024800 -0.643293  0.662235     0.668963  0.663828   \n",
       "windspeed      0.020167 -0.000199  0.266012 -0.354168    -0.342262 -0.328871   \n",
       "rainfall       0.033674 -0.000462 -0.049886 -0.079304    -0.049660 -0.026841   \n",
       "\n",
       "               dewpoint  humidity     cloud  sunshine  winddirection  \\\n",
       "id             0.006797 -0.029042  0.002226 -0.003022      -0.004223   \n",
       "day            0.137929 -0.074048 -0.048175  0.060936       0.024800   \n",
       "pressure      -0.817008 -0.119949  0.098600 -0.257163      -0.643293   \n",
       "maxtemp        0.906703 -0.072615 -0.289047  0.452387       0.662235   \n",
       "temparature    0.933617 -0.025016 -0.249355  0.414019       0.668963   \n",
       "mintemp        0.941342  0.009891 -0.219399  0.379497       0.663828   \n",
       "dewpoint       1.000000  0.153390 -0.088446  0.249676       0.643073   \n",
       "humidity       0.153390  1.000000  0.584854 -0.541592      -0.012430   \n",
       "cloud         -0.088446  0.584854  1.000000 -0.805128      -0.127087   \n",
       "sunshine       0.249676 -0.541592 -0.805128  1.000000       0.272235   \n",
       "winddirection  0.643073 -0.012430 -0.127087  0.272235       1.000000   \n",
       "windspeed     -0.312179  0.062285  0.184698 -0.241752      -0.192417   \n",
       "rainfall       0.081965  0.454213  0.641191 -0.555287      -0.006939   \n",
       "\n",
       "               windspeed  rainfall  \n",
       "id              0.020167  0.033674  \n",
       "day            -0.000199 -0.000462  \n",
       "pressure        0.266012 -0.049886  \n",
       "maxtemp        -0.354168 -0.079304  \n",
       "temparature    -0.342262 -0.049660  \n",
       "mintemp        -0.328871 -0.026841  \n",
       "dewpoint       -0.312179  0.081965  \n",
       "humidity        0.062285  0.454213  \n",
       "cloud           0.184698  0.641191  \n",
       "sunshine       -0.241752 -0.555287  \n",
       "winddirection  -0.192417 -0.006939  \n",
       "windspeed       1.000000  0.111625  \n",
       "rainfall        0.111625  1.000000  "
      ]
     },
     "execution_count": 10,
     "metadata": {},
     "output_type": "execute_result"
    }
   ],
   "source": [
    "train_df.corr()"
   ]
  },
  {
   "cell_type": "code",
   "execution_count": 11,
   "metadata": {},
   "outputs": [
    {
     "data": {
      "text/plain": [
       "(2190, 13)"
      ]
     },
     "execution_count": 11,
     "metadata": {},
     "output_type": "execute_result"
    }
   ],
   "source": [
    "train_df.shape"
   ]
  },
  {
   "cell_type": "code",
   "execution_count": 12,
   "metadata": {},
   "outputs": [
    {
     "data": {
      "text/plain": [
       "(730, 12)"
      ]
     },
     "execution_count": 12,
     "metadata": {},
     "output_type": "execute_result"
    }
   ],
   "source": [
    "test_df.shape"
   ]
  },
  {
   "cell_type": "code",
   "execution_count": 13,
   "metadata": {},
   "outputs": [
    {
     "data": {
      "text/plain": [
       "(1971, 13)"
      ]
     },
     "execution_count": 13,
     "metadata": {},
     "output_type": "execute_result"
    }
   ],
   "source": [
    "from sklearn.model_selection import train_test_split\n",
    "train_df, val_df = train_test_split(train_df, test_size=0.1, random_state=42)\n",
    "train_df.shape"
   ]
  },
  {
   "cell_type": "code",
   "execution_count": 14,
   "metadata": {},
   "outputs": [
    {
     "data": {
      "text/plain": [
       "(219, 13)"
      ]
     },
     "execution_count": 14,
     "metadata": {},
     "output_type": "execute_result"
    }
   ],
   "source": [
    "val_df.shape\n"
   ]
  },
  {
   "cell_type": "code",
   "execution_count": 15,
   "metadata": {},
   "outputs": [
    {
     "name": "stdout",
     "output_type": "stream",
     "text": [
      "['pressure', 'maxtemp', 'temparature', 'mintemp', 'dewpoint', 'humidity', 'cloud', 'sunshine', 'winddirection', 'windspeed']\n"
     ]
    }
   ],
   "source": [
    "input_cols = list(train_df.columns)[2:-1]\n",
    "target_col = 'rainfall'\n",
    "print(input_cols)"
   ]
  },
  {
   "cell_type": "code",
   "execution_count": 16,
   "metadata": {},
   "outputs": [
    {
     "name": "stdout",
     "output_type": "stream",
     "text": [
      "rainfall\n"
     ]
    }
   ],
   "source": [
    "print(target_col)"
   ]
  },
  {
   "cell_type": "code",
   "execution_count": 17,
   "metadata": {},
   "outputs": [],
   "source": [
    "train_inputs = train_df[input_cols].copy\n",
    "train_targets = train_df[target_col].copy"
   ]
  },
  {
   "cell_type": "code",
   "execution_count": 18,
   "metadata": {},
   "outputs": [],
   "source": [
    "val_inputs = val_df[input_cols].copy\n",
    "val_targets = val_df[target_col].copy"
   ]
  },
  {
   "cell_type": "code",
   "execution_count": 19,
   "metadata": {},
   "outputs": [],
   "source": [
    "test_inputs = test_df[input_cols].copy\n"
   ]
  },
  {
   "cell_type": "code",
   "execution_count": 25,
   "metadata": {},
   "outputs": [
    {
     "data": {
      "text/html": [
       "<style>#sk-container-id-2 {\n",
       "  /* Definition of color scheme common for light and dark mode */\n",
       "  --sklearn-color-text: #000;\n",
       "  --sklearn-color-text-muted: #666;\n",
       "  --sklearn-color-line: gray;\n",
       "  /* Definition of color scheme for unfitted estimators */\n",
       "  --sklearn-color-unfitted-level-0: #fff5e6;\n",
       "  --sklearn-color-unfitted-level-1: #f6e4d2;\n",
       "  --sklearn-color-unfitted-level-2: #ffe0b3;\n",
       "  --sklearn-color-unfitted-level-3: chocolate;\n",
       "  /* Definition of color scheme for fitted estimators */\n",
       "  --sklearn-color-fitted-level-0: #f0f8ff;\n",
       "  --sklearn-color-fitted-level-1: #d4ebff;\n",
       "  --sklearn-color-fitted-level-2: #b3dbfd;\n",
       "  --sklearn-color-fitted-level-3: cornflowerblue;\n",
       "\n",
       "  /* Specific color for light theme */\n",
       "  --sklearn-color-text-on-default-background: var(--sg-text-color, var(--theme-code-foreground, var(--jp-content-font-color1, black)));\n",
       "  --sklearn-color-background: var(--sg-background-color, var(--theme-background, var(--jp-layout-color0, white)));\n",
       "  --sklearn-color-border-box: var(--sg-text-color, var(--theme-code-foreground, var(--jp-content-font-color1, black)));\n",
       "  --sklearn-color-icon: #696969;\n",
       "\n",
       "  @media (prefers-color-scheme: dark) {\n",
       "    /* Redefinition of color scheme for dark theme */\n",
       "    --sklearn-color-text-on-default-background: var(--sg-text-color, var(--theme-code-foreground, var(--jp-content-font-color1, white)));\n",
       "    --sklearn-color-background: var(--sg-background-color, var(--theme-background, var(--jp-layout-color0, #111)));\n",
       "    --sklearn-color-border-box: var(--sg-text-color, var(--theme-code-foreground, var(--jp-content-font-color1, white)));\n",
       "    --sklearn-color-icon: #878787;\n",
       "  }\n",
       "}\n",
       "\n",
       "#sk-container-id-2 {\n",
       "  color: var(--sklearn-color-text);\n",
       "}\n",
       "\n",
       "#sk-container-id-2 pre {\n",
       "  padding: 0;\n",
       "}\n",
       "\n",
       "#sk-container-id-2 input.sk-hidden--visually {\n",
       "  border: 0;\n",
       "  clip: rect(1px 1px 1px 1px);\n",
       "  clip: rect(1px, 1px, 1px, 1px);\n",
       "  height: 1px;\n",
       "  margin: -1px;\n",
       "  overflow: hidden;\n",
       "  padding: 0;\n",
       "  position: absolute;\n",
       "  width: 1px;\n",
       "}\n",
       "\n",
       "#sk-container-id-2 div.sk-dashed-wrapped {\n",
       "  border: 1px dashed var(--sklearn-color-line);\n",
       "  margin: 0 0.4em 0.5em 0.4em;\n",
       "  box-sizing: border-box;\n",
       "  padding-bottom: 0.4em;\n",
       "  background-color: var(--sklearn-color-background);\n",
       "}\n",
       "\n",
       "#sk-container-id-2 div.sk-container {\n",
       "  /* jupyter's `normalize.less` sets `[hidden] { display: none; }`\n",
       "     but bootstrap.min.css set `[hidden] { display: none !important; }`\n",
       "     so we also need the `!important` here to be able to override the\n",
       "     default hidden behavior on the sphinx rendered scikit-learn.org.\n",
       "     See: https://github.com/scikit-learn/scikit-learn/issues/21755 */\n",
       "  display: inline-block !important;\n",
       "  position: relative;\n",
       "}\n",
       "\n",
       "#sk-container-id-2 div.sk-text-repr-fallback {\n",
       "  display: none;\n",
       "}\n",
       "\n",
       "div.sk-parallel-item,\n",
       "div.sk-serial,\n",
       "div.sk-item {\n",
       "  /* draw centered vertical line to link estimators */\n",
       "  background-image: linear-gradient(var(--sklearn-color-text-on-default-background), var(--sklearn-color-text-on-default-background));\n",
       "  background-size: 2px 100%;\n",
       "  background-repeat: no-repeat;\n",
       "  background-position: center center;\n",
       "}\n",
       "\n",
       "/* Parallel-specific style estimator block */\n",
       "\n",
       "#sk-container-id-2 div.sk-parallel-item::after {\n",
       "  content: \"\";\n",
       "  width: 100%;\n",
       "  border-bottom: 2px solid var(--sklearn-color-text-on-default-background);\n",
       "  flex-grow: 1;\n",
       "}\n",
       "\n",
       "#sk-container-id-2 div.sk-parallel {\n",
       "  display: flex;\n",
       "  align-items: stretch;\n",
       "  justify-content: center;\n",
       "  background-color: var(--sklearn-color-background);\n",
       "  position: relative;\n",
       "}\n",
       "\n",
       "#sk-container-id-2 div.sk-parallel-item {\n",
       "  display: flex;\n",
       "  flex-direction: column;\n",
       "}\n",
       "\n",
       "#sk-container-id-2 div.sk-parallel-item:first-child::after {\n",
       "  align-self: flex-end;\n",
       "  width: 50%;\n",
       "}\n",
       "\n",
       "#sk-container-id-2 div.sk-parallel-item:last-child::after {\n",
       "  align-self: flex-start;\n",
       "  width: 50%;\n",
       "}\n",
       "\n",
       "#sk-container-id-2 div.sk-parallel-item:only-child::after {\n",
       "  width: 0;\n",
       "}\n",
       "\n",
       "/* Serial-specific style estimator block */\n",
       "\n",
       "#sk-container-id-2 div.sk-serial {\n",
       "  display: flex;\n",
       "  flex-direction: column;\n",
       "  align-items: center;\n",
       "  background-color: var(--sklearn-color-background);\n",
       "  padding-right: 1em;\n",
       "  padding-left: 1em;\n",
       "}\n",
       "\n",
       "\n",
       "/* Toggleable style: style used for estimator/Pipeline/ColumnTransformer box that is\n",
       "clickable and can be expanded/collapsed.\n",
       "- Pipeline and ColumnTransformer use this feature and define the default style\n",
       "- Estimators will overwrite some part of the style using the `sk-estimator` class\n",
       "*/\n",
       "\n",
       "/* Pipeline and ColumnTransformer style (default) */\n",
       "\n",
       "#sk-container-id-2 div.sk-toggleable {\n",
       "  /* Default theme specific background. It is overwritten whether we have a\n",
       "  specific estimator or a Pipeline/ColumnTransformer */\n",
       "  background-color: var(--sklearn-color-background);\n",
       "}\n",
       "\n",
       "/* Toggleable label */\n",
       "#sk-container-id-2 label.sk-toggleable__label {\n",
       "  cursor: pointer;\n",
       "  display: flex;\n",
       "  width: 100%;\n",
       "  margin-bottom: 0;\n",
       "  padding: 0.5em;\n",
       "  box-sizing: border-box;\n",
       "  text-align: center;\n",
       "  align-items: start;\n",
       "  justify-content: space-between;\n",
       "  gap: 0.5em;\n",
       "}\n",
       "\n",
       "#sk-container-id-2 label.sk-toggleable__label .caption {\n",
       "  font-size: 0.6rem;\n",
       "  font-weight: lighter;\n",
       "  color: var(--sklearn-color-text-muted);\n",
       "}\n",
       "\n",
       "#sk-container-id-2 label.sk-toggleable__label-arrow:before {\n",
       "  /* Arrow on the left of the label */\n",
       "  content: \"▸\";\n",
       "  float: left;\n",
       "  margin-right: 0.25em;\n",
       "  color: var(--sklearn-color-icon);\n",
       "}\n",
       "\n",
       "#sk-container-id-2 label.sk-toggleable__label-arrow:hover:before {\n",
       "  color: var(--sklearn-color-text);\n",
       "}\n",
       "\n",
       "/* Toggleable content - dropdown */\n",
       "\n",
       "#sk-container-id-2 div.sk-toggleable__content {\n",
       "  max-height: 0;\n",
       "  max-width: 0;\n",
       "  overflow: hidden;\n",
       "  text-align: left;\n",
       "  /* unfitted */\n",
       "  background-color: var(--sklearn-color-unfitted-level-0);\n",
       "}\n",
       "\n",
       "#sk-container-id-2 div.sk-toggleable__content.fitted {\n",
       "  /* fitted */\n",
       "  background-color: var(--sklearn-color-fitted-level-0);\n",
       "}\n",
       "\n",
       "#sk-container-id-2 div.sk-toggleable__content pre {\n",
       "  margin: 0.2em;\n",
       "  border-radius: 0.25em;\n",
       "  color: var(--sklearn-color-text);\n",
       "  /* unfitted */\n",
       "  background-color: var(--sklearn-color-unfitted-level-0);\n",
       "}\n",
       "\n",
       "#sk-container-id-2 div.sk-toggleable__content.fitted pre {\n",
       "  /* unfitted */\n",
       "  background-color: var(--sklearn-color-fitted-level-0);\n",
       "}\n",
       "\n",
       "#sk-container-id-2 input.sk-toggleable__control:checked~div.sk-toggleable__content {\n",
       "  /* Expand drop-down */\n",
       "  max-height: 200px;\n",
       "  max-width: 100%;\n",
       "  overflow: auto;\n",
       "}\n",
       "\n",
       "#sk-container-id-2 input.sk-toggleable__control:checked~label.sk-toggleable__label-arrow:before {\n",
       "  content: \"▾\";\n",
       "}\n",
       "\n",
       "/* Pipeline/ColumnTransformer-specific style */\n",
       "\n",
       "#sk-container-id-2 div.sk-label input.sk-toggleable__control:checked~label.sk-toggleable__label {\n",
       "  color: var(--sklearn-color-text);\n",
       "  background-color: var(--sklearn-color-unfitted-level-2);\n",
       "}\n",
       "\n",
       "#sk-container-id-2 div.sk-label.fitted input.sk-toggleable__control:checked~label.sk-toggleable__label {\n",
       "  background-color: var(--sklearn-color-fitted-level-2);\n",
       "}\n",
       "\n",
       "/* Estimator-specific style */\n",
       "\n",
       "/* Colorize estimator box */\n",
       "#sk-container-id-2 div.sk-estimator input.sk-toggleable__control:checked~label.sk-toggleable__label {\n",
       "  /* unfitted */\n",
       "  background-color: var(--sklearn-color-unfitted-level-2);\n",
       "}\n",
       "\n",
       "#sk-container-id-2 div.sk-estimator.fitted input.sk-toggleable__control:checked~label.sk-toggleable__label {\n",
       "  /* fitted */\n",
       "  background-color: var(--sklearn-color-fitted-level-2);\n",
       "}\n",
       "\n",
       "#sk-container-id-2 div.sk-label label.sk-toggleable__label,\n",
       "#sk-container-id-2 div.sk-label label {\n",
       "  /* The background is the default theme color */\n",
       "  color: var(--sklearn-color-text-on-default-background);\n",
       "}\n",
       "\n",
       "/* On hover, darken the color of the background */\n",
       "#sk-container-id-2 div.sk-label:hover label.sk-toggleable__label {\n",
       "  color: var(--sklearn-color-text);\n",
       "  background-color: var(--sklearn-color-unfitted-level-2);\n",
       "}\n",
       "\n",
       "/* Label box, darken color on hover, fitted */\n",
       "#sk-container-id-2 div.sk-label.fitted:hover label.sk-toggleable__label.fitted {\n",
       "  color: var(--sklearn-color-text);\n",
       "  background-color: var(--sklearn-color-fitted-level-2);\n",
       "}\n",
       "\n",
       "/* Estimator label */\n",
       "\n",
       "#sk-container-id-2 div.sk-label label {\n",
       "  font-family: monospace;\n",
       "  font-weight: bold;\n",
       "  display: inline-block;\n",
       "  line-height: 1.2em;\n",
       "}\n",
       "\n",
       "#sk-container-id-2 div.sk-label-container {\n",
       "  text-align: center;\n",
       "}\n",
       "\n",
       "/* Estimator-specific */\n",
       "#sk-container-id-2 div.sk-estimator {\n",
       "  font-family: monospace;\n",
       "  border: 1px dotted var(--sklearn-color-border-box);\n",
       "  border-radius: 0.25em;\n",
       "  box-sizing: border-box;\n",
       "  margin-bottom: 0.5em;\n",
       "  /* unfitted */\n",
       "  background-color: var(--sklearn-color-unfitted-level-0);\n",
       "}\n",
       "\n",
       "#sk-container-id-2 div.sk-estimator.fitted {\n",
       "  /* fitted */\n",
       "  background-color: var(--sklearn-color-fitted-level-0);\n",
       "}\n",
       "\n",
       "/* on hover */\n",
       "#sk-container-id-2 div.sk-estimator:hover {\n",
       "  /* unfitted */\n",
       "  background-color: var(--sklearn-color-unfitted-level-2);\n",
       "}\n",
       "\n",
       "#sk-container-id-2 div.sk-estimator.fitted:hover {\n",
       "  /* fitted */\n",
       "  background-color: var(--sklearn-color-fitted-level-2);\n",
       "}\n",
       "\n",
       "/* Specification for estimator info (e.g. \"i\" and \"?\") */\n",
       "\n",
       "/* Common style for \"i\" and \"?\" */\n",
       "\n",
       ".sk-estimator-doc-link,\n",
       "a:link.sk-estimator-doc-link,\n",
       "a:visited.sk-estimator-doc-link {\n",
       "  float: right;\n",
       "  font-size: smaller;\n",
       "  line-height: 1em;\n",
       "  font-family: monospace;\n",
       "  background-color: var(--sklearn-color-background);\n",
       "  border-radius: 1em;\n",
       "  height: 1em;\n",
       "  width: 1em;\n",
       "  text-decoration: none !important;\n",
       "  margin-left: 0.5em;\n",
       "  text-align: center;\n",
       "  /* unfitted */\n",
       "  border: var(--sklearn-color-unfitted-level-1) 1pt solid;\n",
       "  color: var(--sklearn-color-unfitted-level-1);\n",
       "}\n",
       "\n",
       ".sk-estimator-doc-link.fitted,\n",
       "a:link.sk-estimator-doc-link.fitted,\n",
       "a:visited.sk-estimator-doc-link.fitted {\n",
       "  /* fitted */\n",
       "  border: var(--sklearn-color-fitted-level-1) 1pt solid;\n",
       "  color: var(--sklearn-color-fitted-level-1);\n",
       "}\n",
       "\n",
       "/* On hover */\n",
       "div.sk-estimator:hover .sk-estimator-doc-link:hover,\n",
       ".sk-estimator-doc-link:hover,\n",
       "div.sk-label-container:hover .sk-estimator-doc-link:hover,\n",
       ".sk-estimator-doc-link:hover {\n",
       "  /* unfitted */\n",
       "  background-color: var(--sklearn-color-unfitted-level-3);\n",
       "  color: var(--sklearn-color-background);\n",
       "  text-decoration: none;\n",
       "}\n",
       "\n",
       "div.sk-estimator.fitted:hover .sk-estimator-doc-link.fitted:hover,\n",
       ".sk-estimator-doc-link.fitted:hover,\n",
       "div.sk-label-container:hover .sk-estimator-doc-link.fitted:hover,\n",
       ".sk-estimator-doc-link.fitted:hover {\n",
       "  /* fitted */\n",
       "  background-color: var(--sklearn-color-fitted-level-3);\n",
       "  color: var(--sklearn-color-background);\n",
       "  text-decoration: none;\n",
       "}\n",
       "\n",
       "/* Span, style for the box shown on hovering the info icon */\n",
       ".sk-estimator-doc-link span {\n",
       "  display: none;\n",
       "  z-index: 9999;\n",
       "  position: relative;\n",
       "  font-weight: normal;\n",
       "  right: .2ex;\n",
       "  padding: .5ex;\n",
       "  margin: .5ex;\n",
       "  width: min-content;\n",
       "  min-width: 20ex;\n",
       "  max-width: 50ex;\n",
       "  color: var(--sklearn-color-text);\n",
       "  box-shadow: 2pt 2pt 4pt #999;\n",
       "  /* unfitted */\n",
       "  background: var(--sklearn-color-unfitted-level-0);\n",
       "  border: .5pt solid var(--sklearn-color-unfitted-level-3);\n",
       "}\n",
       "\n",
       ".sk-estimator-doc-link.fitted span {\n",
       "  /* fitted */\n",
       "  background: var(--sklearn-color-fitted-level-0);\n",
       "  border: var(--sklearn-color-fitted-level-3);\n",
       "}\n",
       "\n",
       ".sk-estimator-doc-link:hover span {\n",
       "  display: block;\n",
       "}\n",
       "\n",
       "/* \"?\"-specific style due to the `<a>` HTML tag */\n",
       "\n",
       "#sk-container-id-2 a.estimator_doc_link {\n",
       "  float: right;\n",
       "  font-size: 1rem;\n",
       "  line-height: 1em;\n",
       "  font-family: monospace;\n",
       "  background-color: var(--sklearn-color-background);\n",
       "  border-radius: 1rem;\n",
       "  height: 1rem;\n",
       "  width: 1rem;\n",
       "  text-decoration: none;\n",
       "  /* unfitted */\n",
       "  color: var(--sklearn-color-unfitted-level-1);\n",
       "  border: var(--sklearn-color-unfitted-level-1) 1pt solid;\n",
       "}\n",
       "\n",
       "#sk-container-id-2 a.estimator_doc_link.fitted {\n",
       "  /* fitted */\n",
       "  border: var(--sklearn-color-fitted-level-1) 1pt solid;\n",
       "  color: var(--sklearn-color-fitted-level-1);\n",
       "}\n",
       "\n",
       "/* On hover */\n",
       "#sk-container-id-2 a.estimator_doc_link:hover {\n",
       "  /* unfitted */\n",
       "  background-color: var(--sklearn-color-unfitted-level-3);\n",
       "  color: var(--sklearn-color-background);\n",
       "  text-decoration: none;\n",
       "}\n",
       "\n",
       "#sk-container-id-2 a.estimator_doc_link.fitted:hover {\n",
       "  /* fitted */\n",
       "  background-color: var(--sklearn-color-fitted-level-3);\n",
       "}\n",
       "</style><div id=\"sk-container-id-2\" class=\"sk-top-container\"><div class=\"sk-text-repr-fallback\"><pre>MinMaxScaler()</pre><b>In a Jupyter environment, please rerun this cell to show the HTML representation or trust the notebook. <br />On GitHub, the HTML representation is unable to render, please try loading this page with nbviewer.org.</b></div><div class=\"sk-container\" hidden><div class=\"sk-item\"><div class=\"sk-estimator fitted sk-toggleable\"><input class=\"sk-toggleable__control sk-hidden--visually\" id=\"sk-estimator-id-2\" type=\"checkbox\" checked><label for=\"sk-estimator-id-2\" class=\"sk-toggleable__label fitted sk-toggleable__label-arrow\"><div><div>MinMaxScaler</div></div><div><a class=\"sk-estimator-doc-link fitted\" rel=\"noreferrer\" target=\"_blank\" href=\"https://scikit-learn.org/1.6/modules/generated/sklearn.preprocessing.MinMaxScaler.html\">?<span>Documentation for MinMaxScaler</span></a><span class=\"sk-estimator-doc-link fitted\">i<span>Fitted</span></span></div></label><div class=\"sk-toggleable__content fitted\"><pre>MinMaxScaler()</pre></div> </div></div></div></div>"
      ],
      "text/plain": [
       "MinMaxScaler()"
      ]
     },
     "execution_count": 25,
     "metadata": {},
     "output_type": "execute_result"
    }
   ],
   "source": [
    "from sklearn.preprocessing import MinMaxScaler\n",
    "scaler = MinMaxScaler()\n",
    "scaler.fit(train_df[input_cols])"
   ]
  },
  {
   "cell_type": "code",
   "execution_count": 27,
   "metadata": {},
   "outputs": [
    {
     "data": {
      "text/html": [
       "<div>\n",
       "<style scoped>\n",
       "    .dataframe tbody tr th:only-of-type {\n",
       "        vertical-align: middle;\n",
       "    }\n",
       "\n",
       "    .dataframe tbody tr th {\n",
       "        vertical-align: top;\n",
       "    }\n",
       "\n",
       "    .dataframe thead th {\n",
       "        text-align: right;\n",
       "    }\n",
       "</style>\n",
       "<table border=\"1\" class=\"dataframe\">\n",
       "  <thead>\n",
       "    <tr style=\"text-align: right;\">\n",
       "      <th></th>\n",
       "      <th>id</th>\n",
       "      <th>day</th>\n",
       "      <th>pressure</th>\n",
       "      <th>maxtemp</th>\n",
       "      <th>temparature</th>\n",
       "      <th>mintemp</th>\n",
       "      <th>dewpoint</th>\n",
       "      <th>humidity</th>\n",
       "      <th>cloud</th>\n",
       "      <th>sunshine</th>\n",
       "      <th>winddirection</th>\n",
       "      <th>windspeed</th>\n",
       "      <th>rainfall</th>\n",
       "    </tr>\n",
       "  </thead>\n",
       "  <tbody>\n",
       "    <tr>\n",
       "      <th>1991</th>\n",
       "      <td>1991</td>\n",
       "      <td>167</td>\n",
       "      <td>1007.1</td>\n",
       "      <td>31.9</td>\n",
       "      <td>28.9</td>\n",
       "      <td>26.3</td>\n",
       "      <td>24.7</td>\n",
       "      <td>81.0</td>\n",
       "      <td>84.0</td>\n",
       "      <td>1.3</td>\n",
       "      <td>130.0</td>\n",
       "      <td>26.0</td>\n",
       "      <td>1</td>\n",
       "    </tr>\n",
       "    <tr>\n",
       "      <th>367</th>\n",
       "      <td>367</td>\n",
       "      <td>3</td>\n",
       "      <td>1012.0</td>\n",
       "      <td>20.8</td>\n",
       "      <td>17.6</td>\n",
       "      <td>15.7</td>\n",
       "      <td>4.8</td>\n",
       "      <td>75.0</td>\n",
       "      <td>88.0</td>\n",
       "      <td>3.8</td>\n",
       "      <td>40.0</td>\n",
       "      <td>29.6</td>\n",
       "      <td>1</td>\n",
       "    </tr>\n",
       "    <tr>\n",
       "      <th>1151</th>\n",
       "      <td>1151</td>\n",
       "      <td>57</td>\n",
       "      <td>1012.2</td>\n",
       "      <td>20.6</td>\n",
       "      <td>19.0</td>\n",
       "      <td>17.1</td>\n",
       "      <td>18.9</td>\n",
       "      <td>95.0</td>\n",
       "      <td>93.0</td>\n",
       "      <td>0.0</td>\n",
       "      <td>70.0</td>\n",
       "      <td>39.5</td>\n",
       "      <td>1</td>\n",
       "    </tr>\n",
       "    <tr>\n",
       "      <th>1192</th>\n",
       "      <td>1192</td>\n",
       "      <td>98</td>\n",
       "      <td>1015.0</td>\n",
       "      <td>28.4</td>\n",
       "      <td>25.5</td>\n",
       "      <td>24.7</td>\n",
       "      <td>24.1</td>\n",
       "      <td>97.0</td>\n",
       "      <td>88.0</td>\n",
       "      <td>1.0</td>\n",
       "      <td>50.0</td>\n",
       "      <td>30.0</td>\n",
       "      <td>1</td>\n",
       "    </tr>\n",
       "    <tr>\n",
       "      <th>1165</th>\n",
       "      <td>1165</td>\n",
       "      <td>71</td>\n",
       "      <td>1016.8</td>\n",
       "      <td>20.2</td>\n",
       "      <td>18.1</td>\n",
       "      <td>16.6</td>\n",
       "      <td>16.6</td>\n",
       "      <td>95.0</td>\n",
       "      <td>95.0</td>\n",
       "      <td>0.0</td>\n",
       "      <td>50.0</td>\n",
       "      <td>25.1</td>\n",
       "      <td>1</td>\n",
       "    </tr>\n",
       "  </tbody>\n",
       "</table>\n",
       "</div>"
      ],
      "text/plain": [
       "        id  day  pressure  maxtemp  temparature  mintemp  dewpoint  humidity  \\\n",
       "1991  1991  167    1007.1     31.9         28.9     26.3      24.7      81.0   \n",
       "367    367    3    1012.0     20.8         17.6     15.7       4.8      75.0   \n",
       "1151  1151   57    1012.2     20.6         19.0     17.1      18.9      95.0   \n",
       "1192  1192   98    1015.0     28.4         25.5     24.7      24.1      97.0   \n",
       "1165  1165   71    1016.8     20.2         18.1     16.6      16.6      95.0   \n",
       "\n",
       "      cloud  sunshine  winddirection  windspeed  rainfall  \n",
       "1991   84.0       1.3          130.0       26.0         1  \n",
       "367    88.0       3.8           40.0       29.6         1  \n",
       "1151   93.0       0.0           70.0       39.5         1  \n",
       "1192   88.0       1.0           50.0       30.0         1  \n",
       "1165   95.0       0.0           50.0       25.1         1  "
      ]
     },
     "execution_count": 27,
     "metadata": {},
     "output_type": "execute_result"
    }
   ],
   "source": [
    "train_df.head()"
   ]
  },
  {
   "cell_type": "code",
   "execution_count": null,
   "metadata": {},
   "outputs": [],
   "source": [
    "scaler.fit(val_df)"
   ]
  },
  {
   "cell_type": "code",
   "execution_count": null,
   "metadata": {},
   "outputs": [],
   "source": [
    "from sklearn.metrics import root_mean_squared_error\n",
    "\n",
    "def evaluation(model):\n",
    "  train_preds = model.predict(train_inputs)\n",
    "  train_rmse = root_mean_squared_error(train_targets, train_preds)\n",
    "  val_preds = model.predict(val_inputs)\n",
    "  val_rmse = root_mean_squared_error(val_targets, val_preds)\n",
    "  return train_rmse, val_rmse, train_preds, val_preds"
   ]
  },
  {
   "cell_type": "code",
   "execution_count": null,
   "metadata": {},
   "outputs": [],
   "source": [
    "from sklearn.ensemble import RandomForestRegressor\n",
    " \n",
    "modelII = RandomForestRegressor(random_state=42, n_jobs=-1, max_depth=10, n_estimators=100)\n",
    "\n",
    "modelII.fit(train_inputs, train_targets)\n",
    "\n",
    "evaluation(modelII)"
   ]
  },
  {
   "cell_type": "code",
   "execution_count": null,
   "metadata": {},
   "outputs": [],
   "source": [
    "def predict_and_submit(model, test_inputs, fname):\n",
    "  test_preds = model.predict(test_inputs)\n",
    "  sub_df = pd.read_csv('sample_submission.csv')\n",
    "  sub_df['rainfall'] = test_preds\n",
    "  sub_df.to_csv(fname, index=None)\n",
    "  return sub_df\n",
    "\n",
    "predict_and_submit(modelII, 'random_forest_submission')"
   ]
  }
 ],
 "metadata": {
  "kernelspec": {
   "display_name": ".venv",
   "language": "python",
   "name": "python3"
  },
  "language_info": {
   "codemirror_mode": {
    "name": "ipython",
    "version": 3
   },
   "file_extension": ".py",
   "mimetype": "text/x-python",
   "name": "python",
   "nbconvert_exporter": "python",
   "pygments_lexer": "ipython3",
   "version": "3.12.4"
  }
 },
 "nbformat": 4,
 "nbformat_minor": 2
}
